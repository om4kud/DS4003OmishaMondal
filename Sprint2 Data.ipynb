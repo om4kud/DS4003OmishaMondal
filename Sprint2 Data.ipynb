{
 "cells": [
  {
   "cell_type": "markdown",
   "metadata": {},
   "source": [
    "## Sprint 2 Data - Omisha Mondal DS4003"
   ]
  },
  {
   "cell_type": "markdown",
   "metadata": {},
   "source": [
    "## 1. Data and Data Provenance:\n",
    "\n",
    "The dataset I am exploring comes from Yahoo Finance. It is industry stock market data. I found it on Kaggle at the following link: https://www.kaggle.com/datasets/belayethossainds/yahoo-finance-industries-dataset.\n",
    "\n",
    "The reason I chose this dataset is because it will allow me to create significant visualizations relating to my initial user stories. It will give them more perspective on stocks that they may be unfamiliar with, while also educating them on different companies across industries. Each stock also has information about its market capitalizations, which can allow potential investors to make informed decisions about whether they would like to invest in the company or not. Also, important columns like change shows the daily change, which would be relevent for users who are interested in investing for long periods of time. The prices of the stocks can allow for potential investors to see whether they can diversify their portfolio. PE Ratios can also help the users to understand the market conditions behind the stocks. Overall, this dataset is ideal because it had several key columns that provides useful information which can allow me to create an interactive dashboard with stock trends and recommendations.\n",
    "\n",
    "Data Provenance: The data originates from Yahoo Finance, specifically the Industries category. https://www.yahoo.com/author/yahoo-finance/. The collection methodology is Selenium Automation scrapping method. The collaborator is Belayet Hossain, who is also the owner. He is a web scraper. The coverage start date is on 5/13/2023, and the coverage end date is also 5/13/2023.\n",
    "DOI Citation: Belayet Hossain. (2023). Yahoo Finance - Industries - Dataset [Data set]. Kaggle. https://doi.org/10.34740/KAGGLE/DSV/5678079"
   ]
  },
  {
   "cell_type": "code",
   "execution_count": 16,
   "metadata": {},
   "outputs": [
    {
     "data": {
      "text/html": [
       "<div>\n",
       "<style scoped>\n",
       "    .dataframe tbody tr th:only-of-type {\n",
       "        vertical-align: middle;\n",
       "    }\n",
       "\n",
       "    .dataframe tbody tr th {\n",
       "        vertical-align: top;\n",
       "    }\n",
       "\n",
       "    .dataframe thead th {\n",
       "        text-align: right;\n",
       "    }\n",
       "</style>\n",
       "<table border=\"1\" class=\"dataframe\">\n",
       "  <thead>\n",
       "    <tr style=\"text-align: right;\">\n",
       "      <th></th>\n",
       "      <th>Symbol</th>\n",
       "      <th>Name</th>\n",
       "      <th>Price</th>\n",
       "      <th>Change</th>\n",
       "      <th>market cap</th>\n",
       "      <th>PE_ratio</th>\n",
       "    </tr>\n",
       "  </thead>\n",
       "  <tbody>\n",
       "    <tr>\n",
       "      <th>0</th>\n",
       "      <td>BRK-B</td>\n",
       "      <td>Berkshire Hathaway Inc.</td>\n",
       "      <td>321.26</td>\n",
       "      <td>-1.38</td>\n",
       "      <td>709.361B</td>\n",
       "      <td>NaN</td>\n",
       "    </tr>\n",
       "    <tr>\n",
       "      <th>1</th>\n",
       "      <td>V</td>\n",
       "      <td>Visa Inc.</td>\n",
       "      <td>230.76</td>\n",
       "      <td>-0.25</td>\n",
       "      <td>483.304B</td>\n",
       "      <td>30.81</td>\n",
       "    </tr>\n",
       "    <tr>\n",
       "      <th>2</th>\n",
       "      <td>JPM</td>\n",
       "      <td>JPMorgan Chase &amp; Co.</td>\n",
       "      <td>133.89</td>\n",
       "      <td>-2.16</td>\n",
       "      <td>392.325B</td>\n",
       "      <td>9.90</td>\n",
       "    </tr>\n",
       "    <tr>\n",
       "      <th>3</th>\n",
       "      <td>MA</td>\n",
       "      <td>Mastercard Incorporated</td>\n",
       "      <td>380.21</td>\n",
       "      <td>-3.18</td>\n",
       "      <td>359.338B</td>\n",
       "      <td>37.85</td>\n",
       "    </tr>\n",
       "    <tr>\n",
       "      <th>4</th>\n",
       "      <td>JPM-PD</td>\n",
       "      <td>JPMorgan Chase &amp; Co.</td>\n",
       "      <td>24.57</td>\n",
       "      <td>-0.08</td>\n",
       "      <td>326.427B</td>\n",
       "      <td>1.82</td>\n",
       "    </tr>\n",
       "  </tbody>\n",
       "</table>\n",
       "</div>"
      ],
      "text/plain": [
       "   Symbol                     Name   Price  Change market cap  PE_ratio\n",
       "0   BRK-B  Berkshire Hathaway Inc.  321.26   -1.38   709.361B       NaN\n",
       "1       V                Visa Inc.  230.76   -0.25   483.304B     30.81\n",
       "2     JPM     JPMorgan Chase & Co.  133.89   -2.16   392.325B      9.90\n",
       "3      MA  Mastercard Incorporated  380.21   -3.18   359.338B     37.85\n",
       "4  JPM-PD     JPMorgan Chase & Co.   24.57   -0.08   326.427B      1.82"
      ]
     },
     "execution_count": 16,
     "metadata": {},
     "output_type": "execute_result"
    }
   ],
   "source": [
    "# Import dependencies\n",
    "import pandas as pd\n",
    "import plotly.express as px\n",
    "\n",
    "# Dataset\n",
    "data = pd.read_csv(\"yahoo Finanace_industry - Stock Market.csv\")\n",
    "data.head()"
   ]
  },
  {
   "cell_type": "markdown",
   "metadata": {},
   "source": [
    "# 2. Cleaning the Data"
   ]
  },
  {
   "cell_type": "code",
   "execution_count": 17,
   "metadata": {},
   "outputs": [
    {
     "data": {
      "text/html": [
       "<div>\n",
       "<style scoped>\n",
       "    .dataframe tbody tr th:only-of-type {\n",
       "        vertical-align: middle;\n",
       "    }\n",
       "\n",
       "    .dataframe tbody tr th {\n",
       "        vertical-align: top;\n",
       "    }\n",
       "\n",
       "    .dataframe thead th {\n",
       "        text-align: right;\n",
       "    }\n",
       "</style>\n",
       "<table border=\"1\" class=\"dataframe\">\n",
       "  <thead>\n",
       "    <tr style=\"text-align: right;\">\n",
       "      <th></th>\n",
       "      <th>Symbol</th>\n",
       "      <th>Name</th>\n",
       "      <th>Price</th>\n",
       "      <th>Change</th>\n",
       "      <th>market cap</th>\n",
       "      <th>PE_ratio</th>\n",
       "    </tr>\n",
       "  </thead>\n",
       "  <tbody>\n",
       "    <tr>\n",
       "      <th>1</th>\n",
       "      <td>V</td>\n",
       "      <td>Visa Inc.</td>\n",
       "      <td>230.76</td>\n",
       "      <td>-0.25</td>\n",
       "      <td>483.304B</td>\n",
       "      <td>30.81</td>\n",
       "    </tr>\n",
       "    <tr>\n",
       "      <th>2</th>\n",
       "      <td>JPM</td>\n",
       "      <td>JPMorgan Chase &amp; Co.</td>\n",
       "      <td>133.89</td>\n",
       "      <td>-2.16</td>\n",
       "      <td>392.325B</td>\n",
       "      <td>9.90</td>\n",
       "    </tr>\n",
       "    <tr>\n",
       "      <th>3</th>\n",
       "      <td>MA</td>\n",
       "      <td>Mastercard Incorporated</td>\n",
       "      <td>380.21</td>\n",
       "      <td>-3.18</td>\n",
       "      <td>359.338B</td>\n",
       "      <td>37.85</td>\n",
       "    </tr>\n",
       "    <tr>\n",
       "      <th>4</th>\n",
       "      <td>JPM-PD</td>\n",
       "      <td>JPMorgan Chase &amp; Co.</td>\n",
       "      <td>24.57</td>\n",
       "      <td>-0.08</td>\n",
       "      <td>326.427B</td>\n",
       "      <td>1.82</td>\n",
       "    </tr>\n",
       "    <tr>\n",
       "      <th>5</th>\n",
       "      <td>JPM-PC</td>\n",
       "      <td>JPMorgan Chase &amp; Co.</td>\n",
       "      <td>25.02</td>\n",
       "      <td>-0.09</td>\n",
       "      <td>328.207B</td>\n",
       "      <td>1.86</td>\n",
       "    </tr>\n",
       "  </tbody>\n",
       "</table>\n",
       "</div>"
      ],
      "text/plain": [
       "   Symbol                     Name   Price  Change market cap  PE_ratio\n",
       "1       V                Visa Inc.  230.76   -0.25   483.304B     30.81\n",
       "2     JPM     JPMorgan Chase & Co.  133.89   -2.16   392.325B      9.90\n",
       "3      MA  Mastercard Incorporated  380.21   -3.18   359.338B     37.85\n",
       "4  JPM-PD     JPMorgan Chase & Co.   24.57   -0.08   326.427B      1.82\n",
       "5  JPM-PC     JPMorgan Chase & Co.   25.02   -0.09   328.207B      1.86"
      ]
     },
     "execution_count": 17,
     "metadata": {},
     "output_type": "execute_result"
    }
   ],
   "source": [
    "# Get rid of missing values\n",
    "data.dropna(inplace=True)\n",
    "data.head()"
   ]
  },
  {
   "cell_type": "code",
   "execution_count": 18,
   "metadata": {},
   "outputs": [
    {
     "name": "stdout",
     "output_type": "stream",
     "text": [
      "Symbol         object\n",
      "Name           object\n",
      "Price          object\n",
      "Change        float64\n",
      "market cap     object\n",
      "PE_ratio      float64\n",
      "dtype: object\n"
     ]
    }
   ],
   "source": [
    "# Original Data Types\n",
    "print(data.dtypes)"
   ]
  },
  {
   "cell_type": "markdown",
   "metadata": {},
   "source": [
    "Converting the object data types to categorical and numeric data types allows me to do further analysis. In the following code chunk, I will convert \"Price\" and \"market cap\" to numeric, and \"Symbol\" and \"Name\" to categorical."
   ]
  },
  {
   "cell_type": "code",
   "execution_count": 19,
   "metadata": {},
   "outputs": [
    {
     "name": "stdout",
     "output_type": "stream",
     "text": [
      "Symbol        category\n",
      "Name          category\n",
      "Price          float64\n",
      "Change         float64\n",
      "market cap     float64\n",
      "PE_ratio       float64\n",
      "dtype: object\n"
     ]
    }
   ],
   "source": [
    "# Price and market cap must be numeric in order to do analysis\n",
    "\n",
    "#  Convert \"Price\" column to numeric using str.replace\n",
    "data['Price'] = data['Price'].str.replace(',', '').astype(float)\n",
    "\n",
    "# Convert \"market cap\" column to float, this removes B and converts to numeric\n",
    "data['market cap'] = data['market cap'].str.rstrip('B').astype(float)\n",
    "\n",
    "# Convert market cap to billions\n",
    "data['market cap'] = data['market cap'] * 1e9  #billion\n",
    "\n",
    "\n",
    "# Convert the remaining object Data Types to categorical\n",
    "\n",
    "# This selects the object columns\n",
    "obj_cols = data.select_dtypes(include=['object'])\n",
    "\n",
    "# Converts them to categorical data types\n",
    "data[obj_cols.columns] = obj_cols.astype('category')\n",
    "\n",
    "# Look at the data types after converting\n",
    "print(data.dtypes)\n",
    "\n"
   ]
  },
  {
   "cell_type": "markdown",
   "metadata": {},
   "source": [
    "Next, I check to see whether there are any duplicate rows. If so, they should be removed."
   ]
  },
  {
   "cell_type": "code",
   "execution_count": 20,
   "metadata": {},
   "outputs": [
    {
     "name": "stdout",
     "output_type": "stream",
     "text": [
      "Original dimensions of the dataset: (1235, 6)\n"
     ]
    }
   ],
   "source": [
    "# Original number of rows and columns\n",
    "print(\"Original dimensions of the dataset:\", data.shape)\n"
   ]
  },
  {
   "cell_type": "code",
   "execution_count": 21,
   "metadata": {},
   "outputs": [
    {
     "name": "stdout",
     "output_type": "stream",
     "text": [
      "Duplicate Rows:\n",
      "      Symbol                                Name    Price  Change  \\\n",
      "28    JPM-PD                JPMorgan Chase & Co.    24.57   -0.08   \n",
      "30    BAC-PK         Bank of America Corporation    24.38   -0.04   \n",
      "31    BAC-PL         Bank of America Corporation  1144.76    0.79   \n",
      "32    BML-PG         Bank of America Corporation    20.02   -0.03   \n",
      "33    BML-PH         Bank of America Corporation    19.90    0.05   \n",
      "...      ...                                 ...      ...     ...   \n",
      "1241     AJG           Arthur J. Gallagher & Co.   216.99    0.18   \n",
      "1242    BSBR       Banco Santander (Brasil) S.A.     6.10    0.08   \n",
      "1245  AIG-PA  American International Group, Inc.    24.59    0.02   \n",
      "1247  MET-PA                       MetLife, Inc.    21.98    0.22   \n",
      "1248  MET-PE                       MetLife, Inc.    23.79    0.04   \n",
      "\n",
      "        market cap  PE_ratio  \n",
      "28    3.264270e+11      1.82  \n",
      "30    2.445960e+11      6.94  \n",
      "31    0.000000e+00    325.77  \n",
      "32    2.703500e+11      5.70  \n",
      "33    2.698120e+11      5.66  \n",
      "...            ...       ...  \n",
      "1241  4.648900e+10     40.11  \n",
      "1242  4.542000e+10     16.49  \n",
      "1245  4.411500e+10      2.15  \n",
      "1247  4.269100e+10      2.82  \n",
      "1248  4.218400e+10      3.05  \n",
      "\n",
      "[810 rows x 6 columns]\n"
     ]
    }
   ],
   "source": [
    "# Find any duplicate rows\n",
    "dup_rows = data[data.duplicated()]\n",
    "print(\"Duplicate Rows:\")\n",
    "print(dup_rows)\n",
    "\n",
    "# Remove the duplicate rows\n",
    "data = data.drop_duplicates()\n",
    "\n"
   ]
  },
  {
   "cell_type": "code",
   "execution_count": 22,
   "metadata": {},
   "outputs": [
    {
     "name": "stdout",
     "output_type": "stream",
     "text": [
      "Current dimensions of the dataset: (425, 6)\n"
     ]
    },
    {
     "data": {
      "text/html": [
       "<div>\n",
       "<style scoped>\n",
       "    .dataframe tbody tr th:only-of-type {\n",
       "        vertical-align: middle;\n",
       "    }\n",
       "\n",
       "    .dataframe tbody tr th {\n",
       "        vertical-align: top;\n",
       "    }\n",
       "\n",
       "    .dataframe thead th {\n",
       "        text-align: right;\n",
       "    }\n",
       "</style>\n",
       "<table border=\"1\" class=\"dataframe\">\n",
       "  <thead>\n",
       "    <tr style=\"text-align: right;\">\n",
       "      <th></th>\n",
       "      <th>Symbol</th>\n",
       "      <th>Name</th>\n",
       "      <th>Price</th>\n",
       "      <th>Change</th>\n",
       "      <th>market cap</th>\n",
       "      <th>PE_ratio</th>\n",
       "    </tr>\n",
       "  </thead>\n",
       "  <tbody>\n",
       "    <tr>\n",
       "      <th>1</th>\n",
       "      <td>V</td>\n",
       "      <td>Visa Inc.</td>\n",
       "      <td>230.76</td>\n",
       "      <td>-0.25</td>\n",
       "      <td>4.833040e+11</td>\n",
       "      <td>30.81</td>\n",
       "    </tr>\n",
       "    <tr>\n",
       "      <th>2</th>\n",
       "      <td>JPM</td>\n",
       "      <td>JPMorgan Chase &amp; Co.</td>\n",
       "      <td>133.89</td>\n",
       "      <td>-2.16</td>\n",
       "      <td>3.923250e+11</td>\n",
       "      <td>9.90</td>\n",
       "    </tr>\n",
       "    <tr>\n",
       "      <th>3</th>\n",
       "      <td>MA</td>\n",
       "      <td>Mastercard Incorporated</td>\n",
       "      <td>380.21</td>\n",
       "      <td>-3.18</td>\n",
       "      <td>3.593380e+11</td>\n",
       "      <td>37.85</td>\n",
       "    </tr>\n",
       "    <tr>\n",
       "      <th>4</th>\n",
       "      <td>JPM-PD</td>\n",
       "      <td>JPMorgan Chase &amp; Co.</td>\n",
       "      <td>24.57</td>\n",
       "      <td>-0.08</td>\n",
       "      <td>3.264270e+11</td>\n",
       "      <td>1.82</td>\n",
       "    </tr>\n",
       "    <tr>\n",
       "      <th>5</th>\n",
       "      <td>JPM-PC</td>\n",
       "      <td>JPMorgan Chase &amp; Co.</td>\n",
       "      <td>25.02</td>\n",
       "      <td>-0.09</td>\n",
       "      <td>3.282070e+11</td>\n",
       "      <td>1.86</td>\n",
       "    </tr>\n",
       "  </tbody>\n",
       "</table>\n",
       "</div>"
      ],
      "text/plain": [
       "   Symbol                     Name   Price  Change    market cap  PE_ratio\n",
       "1       V                Visa Inc.  230.76   -0.25  4.833040e+11     30.81\n",
       "2     JPM     JPMorgan Chase & Co.  133.89   -2.16  3.923250e+11      9.90\n",
       "3      MA  Mastercard Incorporated  380.21   -3.18  3.593380e+11     37.85\n",
       "4  JPM-PD     JPMorgan Chase & Co.   24.57   -0.08  3.264270e+11      1.82\n",
       "5  JPM-PC     JPMorgan Chase & Co.   25.02   -0.09  3.282070e+11      1.86"
      ]
     },
     "execution_count": 22,
     "metadata": {},
     "output_type": "execute_result"
    }
   ],
   "source": [
    "print(\"Current dimensions of the dataset:\", data.shape)\n",
    "data.head()"
   ]
  },
  {
   "cell_type": "markdown",
   "metadata": {},
   "source": [
    "After removing the duplicate rows, the dataset is now 425 rows x 6 columns."
   ]
  },
  {
   "cell_type": "markdown",
   "metadata": {},
   "source": [
    "In order to make the data look more tidy, I will also change the titles of the columns so they appear more consistent.\n"
   ]
  },
  {
   "cell_type": "code",
   "execution_count": 23,
   "metadata": {},
   "outputs": [
    {
     "data": {
      "text/html": [
       "<div>\n",
       "<style scoped>\n",
       "    .dataframe tbody tr th:only-of-type {\n",
       "        vertical-align: middle;\n",
       "    }\n",
       "\n",
       "    .dataframe tbody tr th {\n",
       "        vertical-align: top;\n",
       "    }\n",
       "\n",
       "    .dataframe thead th {\n",
       "        text-align: right;\n",
       "    }\n",
       "</style>\n",
       "<table border=\"1\" class=\"dataframe\">\n",
       "  <thead>\n",
       "    <tr style=\"text-align: right;\">\n",
       "      <th></th>\n",
       "      <th>Symbol</th>\n",
       "      <th>Name</th>\n",
       "      <th>Price</th>\n",
       "      <th>Change</th>\n",
       "      <th>Market Cap</th>\n",
       "      <th>PE Ratio</th>\n",
       "    </tr>\n",
       "  </thead>\n",
       "  <tbody>\n",
       "    <tr>\n",
       "      <th>1</th>\n",
       "      <td>V</td>\n",
       "      <td>Visa Inc.</td>\n",
       "      <td>230.76</td>\n",
       "      <td>-0.25</td>\n",
       "      <td>4.833040e+11</td>\n",
       "      <td>30.81</td>\n",
       "    </tr>\n",
       "    <tr>\n",
       "      <th>2</th>\n",
       "      <td>JPM</td>\n",
       "      <td>JPMorgan Chase &amp; Co.</td>\n",
       "      <td>133.89</td>\n",
       "      <td>-2.16</td>\n",
       "      <td>3.923250e+11</td>\n",
       "      <td>9.90</td>\n",
       "    </tr>\n",
       "    <tr>\n",
       "      <th>3</th>\n",
       "      <td>MA</td>\n",
       "      <td>Mastercard Incorporated</td>\n",
       "      <td>380.21</td>\n",
       "      <td>-3.18</td>\n",
       "      <td>3.593380e+11</td>\n",
       "      <td>37.85</td>\n",
       "    </tr>\n",
       "    <tr>\n",
       "      <th>4</th>\n",
       "      <td>JPM-PD</td>\n",
       "      <td>JPMorgan Chase &amp; Co.</td>\n",
       "      <td>24.57</td>\n",
       "      <td>-0.08</td>\n",
       "      <td>3.264270e+11</td>\n",
       "      <td>1.82</td>\n",
       "    </tr>\n",
       "    <tr>\n",
       "      <th>5</th>\n",
       "      <td>JPM-PC</td>\n",
       "      <td>JPMorgan Chase &amp; Co.</td>\n",
       "      <td>25.02</td>\n",
       "      <td>-0.09</td>\n",
       "      <td>3.282070e+11</td>\n",
       "      <td>1.86</td>\n",
       "    </tr>\n",
       "  </tbody>\n",
       "</table>\n",
       "</div>"
      ],
      "text/plain": [
       "   Symbol                     Name   Price  Change    Market Cap  PE Ratio\n",
       "1       V                Visa Inc.  230.76   -0.25  4.833040e+11     30.81\n",
       "2     JPM     JPMorgan Chase & Co.  133.89   -2.16  3.923250e+11      9.90\n",
       "3      MA  Mastercard Incorporated  380.21   -3.18  3.593380e+11     37.85\n",
       "4  JPM-PD     JPMorgan Chase & Co.   24.57   -0.08  3.264270e+11      1.82\n",
       "5  JPM-PC     JPMorgan Chase & Co.   25.02   -0.09  3.282070e+11      1.86"
      ]
     },
     "execution_count": 23,
     "metadata": {},
     "output_type": "execute_result"
    }
   ],
   "source": [
    "# Change the titles\n",
    "data.rename(columns={'market cap': 'Market Cap', 'PE_ratio': 'PE Ratio'}, inplace=True)\n",
    "data.head()\n"
   ]
  },
  {
   "cell_type": "markdown",
   "metadata": {},
   "source": [
    "# 3. Exploratory Data Analysis"
   ]
  },
  {
   "cell_type": "code",
   "execution_count": 24,
   "metadata": {},
   "outputs": [
    {
     "name": "stdout",
     "output_type": "stream",
     "text": [
      "The total number of observations is 425\n"
     ]
    }
   ],
   "source": [
    "# 1 Find the number of observations\n",
    "num_ob = data.shape[0]\n",
    "print(\"The total number of observations is\", num_ob)"
   ]
  },
  {
   "cell_type": "markdown",
   "metadata": {},
   "source": [
    "Since the total observations are 425, this dataset is of a medium size."
   ]
  },
  {
   "cell_type": "code",
   "execution_count": 25,
   "metadata": {},
   "outputs": [
    {
     "name": "stdout",
     "output_type": "stream",
     "text": [
      "The number of unique values in the Symbol column is 72\n",
      "The number of unique values in the Name column is 42\n",
      "The number of unique values in the Price column is 252\n",
      "The number of unique values in the Change column is 159\n",
      "The number of unique values in the Market Cap column is 332\n",
      "The number of unique values in the PE Ratio column is 163\n"
     ]
    }
   ],
   "source": [
    "# 2 Unique values in each category\n",
    "\n",
    "# columns\n",
    "cols = ['Symbol', 'Name', 'Price', 'Change', 'Market Cap', 'PE Ratio']\n",
    "\n",
    "# for loop to find unique values in each column\n",
    "for c in cols:\n",
    "    unique_values = data[c].nunique()\n",
    "    print(\"The number of unique values in the\", c, \"column is\", unique_values)\n",
    "\n"
   ]
  },
  {
   "cell_type": "markdown",
   "metadata": {},
   "source": [
    "Note how there are 42 names of companies and 72 symbols. This is because some companies have multiple ticker symbols. This is likely due to the different types of stocks the company has available. There are several unique values in the price, change, market cap, and PE ratio columns. This indicates that stocks are traded at many different prices. The unique values in change tells me that there are some stocks with very little daily change, but some stocks with a higher amount of daily change. The market cap unique values tells me that there's a range of market capitilizations across companies. Similarly, there is likely variability present in the PE ratio given its large number of unique values."
   ]
  },
  {
   "cell_type": "code",
   "execution_count": 26,
   "metadata": {},
   "outputs": [
    {
     "name": "stdout",
     "output_type": "stream",
     "text": [
      "Missing data per variable:\n",
      "Symbol        0\n",
      "Name          0\n",
      "Price         0\n",
      "Change        0\n",
      "Market Cap    0\n",
      "PE Ratio      0\n",
      "dtype: int64\n",
      "Missing data per observation:\n",
      "1       0\n",
      "2       0\n",
      "3       0\n",
      "4       0\n",
      "5       0\n",
      "       ..\n",
      "1239    0\n",
      "1243    0\n",
      "1244    0\n",
      "1246    0\n",
      "1249    0\n",
      "Length: 425, dtype: int64\n"
     ]
    }
   ],
   "source": [
    "# 3 Calculate the number of missing values per variable\n",
    "missing_per_variable = data.isnull().sum()\n",
    "print(\"Missing data per variable:\")\n",
    "print(missing_per_variable)\n",
    "\n",
    "# Calculate the number of missing values per observation\n",
    "missing_per_observation = data.isnull().sum(axis=1) # observation\n",
    "print(\"Missing data per observation:\")\n",
    "print(missing_per_observation)\n",
    "\n"
   ]
  },
  {
   "cell_type": "markdown",
   "metadata": {},
   "source": [
    "Both of these are 0 because I removed null values in the cleaning stage, which is what we want. We will focus on complete data."
   ]
  },
  {
   "cell_type": "code",
   "execution_count": 27,
   "metadata": {},
   "outputs": [
    {
     "data": {
      "application/vnd.plotly.v1+json": {
       "config": {
        "plotlyServerURL": "https://plot.ly"
       },
       "data": [
        {
         "alignmentgroup": "True",
         "bingroup": "x",
         "hovertemplate": "Price=%{x}<br>count=%{y}<extra></extra>",
         "legendgroup": "",
         "marker": {
          "color": "#636efa",
          "pattern": {
           "shape": ""
          }
         },
         "name": "",
         "offsetgroup": "",
         "orientation": "v",
         "showlegend": false,
         "type": "histogram",
         "x": [
          230.76,
          133.89,
          380.21,
          24.57,
          25.02,
          24.38,
          1144.76,
          20.02,
          19.9,
          27.06,
          20.2,
          20.15,
          20.76,
          24.53,
          25.01,
          25.24,
          22.36,
          1139.77,
          25.29,
          37.47,
          82.28,
          37.35,
          95.68,
          67.78,
          230.82,
          133.91,
          380.21,
          25.01,
          27.06,
          22.39,
          82.3,
          37.37,
          17.25,
          133.9,
          27.06,
          82.28,
          37.35,
          95.84,
          67.79,
          318.98,
          380.36,
          24.59,
          27.08,
          37.5,
          37.4,
          67.8,
          318.99,
          358.29,
          27.08,
          37.51,
          82.32,
          37.42,
          95.87,
          67.8,
          319.12,
          358.21,
          45.4,
          25,
          27.08,
          37.51,
          82.31,
          37.42,
          95.87,
          319.12,
          358.12,
          45.4,
          147.97,
          27.08,
          25.24,
          82.3,
          37.42,
          358.12,
          45.4,
          147.97,
          60.62,
          27.08,
          22.38,
          82.3,
          37.4,
          17.19,
          319.03,
          358.03,
          45.38,
          147.88,
          83.01,
          27.07,
          24.54,
          82.27,
          37.4,
          17.19,
          319.03,
          45.38,
          147.88,
          82.98,
          650.51,
          27.06,
          82.3,
          17.23,
          319.05,
          45.4,
          83,
          650.99,
          25.44,
          27.08,
          25,
          37.51,
          82.28,
          37.42,
          95.81,
          319.05,
          45.4,
          60.65,
          83,
          650.99,
          49.05,
          25.01,
          82.27,
          37.42,
          95.81,
          67.82,
          45.39,
          60.65,
          83,
          49.05,
          180.37,
          82.26,
          37.41,
          67.81,
          357.81,
          60.64,
          82.94,
          49.06,
          180.32,
          24.97,
          82.28,
          37.4,
          67.81,
          357.76,
          147.79,
          60.65,
          82.94,
          49.06,
          180.32,
          199.6,
          37.5,
          82.29,
          357.76,
          24.85,
          25,
          37.5,
          82.29,
          45.39,
          60.66,
          82.97,
          49.07,
          24.46,
          25.24,
          25.33,
          82.29,
          67.78,
          45.39,
          147.86,
          650.79,
          49.06,
          22.92,
          37.42,
          45.4,
          147.86,
          650.93,
          49.06,
          25.07,
          82.3,
          37.4,
          67.79,
          357.91,
          45.39,
          147.8,
          60.67,
          650.93,
          49.05,
          180.35,
          133.87,
          357.91,
          45.38,
          147.8,
          49.03,
          180.35,
          23.2,
          37.4,
          45.39,
          650.84,
          49.05,
          25.09,
          319,
          147.77,
          82.99,
          650.84,
          49.06,
          199.55,
          6.41,
          318.91,
          147.77,
          82.99,
          180.41,
          24.49,
          22.92,
          133.89,
          20.08,
          49.08,
          133.93,
          20.67,
          318.96,
          147.8,
          83,
          49.08,
          133.93,
          62.08,
          318.9,
          147.82,
          49.07,
          180.39,
          199.49,
          62.06,
          17.51,
          318.8,
          45.39,
          82.99,
          650.63,
          49.06,
          180.39,
          133.92,
          62.08,
          20.44,
          45.39,
          147.78,
          60.63,
          83.01,
          199.56,
          25.08,
          133.99,
          62.1,
          22.29,
          45.4,
          49.08,
          25.08,
          134.04,
          62.06,
          335.5,
          147.83,
          60.67,
          83.12,
          650.5,
          49.14,
          180.43,
          199.62,
          22.93,
          134.01,
          62.12,
          335.5,
          184.55,
          49.15,
          199.67,
          22.93,
          134.12,
          62.13,
          184.63,
          108.39,
          83.15,
          650.71,
          49.16,
          199.77,
          134.05,
          62.13,
          184.6,
          108.39,
          49.02,
          650.39,
          49.14,
          180.44,
          199.63,
          133.99,
          62.12,
          335.26,
          184.49,
          108.35,
          19.16,
          49.12,
          180.38,
          199.63,
          133.99,
          335.26,
          184.49,
          108.35,
          308.94,
          24.43,
          134,
          62.11,
          184.47,
          19.15,
          308.94,
          8.4,
          24.43,
          133.98,
          62.08,
          19.15,
          8.4,
          87.43,
          24.97,
          199.61,
          134.01,
          6.41,
          20.66,
          62.08,
          184.53,
          308.95,
          199.66,
          24.86,
          134.01,
          23.24,
          62.11,
          184.61,
          108.36,
          19.15,
          309.04,
          8.4,
          5.41,
          134.09,
          184.57,
          108.36,
          309.04,
          24.93,
          134.07,
          62.12,
          184.57,
          30.33,
          20.6,
          62.12,
          20.43,
          335.37,
          309,
          30.32,
          12.67,
          134.04,
          6.42,
          20.61,
          62.1,
          335.37,
          309,
          5.42,
          30.32,
          12.67,
          217.17,
          6.41,
          335.36,
          184.52,
          108.3,
          48.99,
          19.16,
          8.4,
          87.41,
          5.42,
          30.3,
          12.66,
          6.1,
          62.02,
          335.36,
          184.46,
          108.25,
          48.98,
          19.16,
          87.41,
          30.3,
          12.66,
          6.1,
          29.08,
          61.97,
          108.25,
          217.05,
          29.11,
          111.09,
          61.97,
          184.44,
          30.3,
          217.05,
          29.12,
          111.09,
          24.59,
          184.41,
          108.32,
          308.97,
          30.27,
          216.99,
          29.13,
          111.1,
          7.16,
          61.96,
          184.43,
          308.97,
          8.39,
          5.41,
          30.27,
          216.99,
          29.13,
          111.14,
          7.16,
          21.98,
          61.96,
          184.38,
          108.28,
          19.15,
          309.11,
          8.39,
          30.27,
          111.14,
          7.16,
          23.79,
          108.31,
          309.11,
          8.4,
          87.42,
          30.25,
          29.16,
          111.18,
          7.16,
          181.84
         ],
         "xaxis": "x",
         "yaxis": "y"
        }
       ],
       "layout": {
        "barmode": "relative",
        "legend": {
         "tracegroupgap": 0
        },
        "template": {
         "data": {
          "bar": [
           {
            "error_x": {
             "color": "#2a3f5f"
            },
            "error_y": {
             "color": "#2a3f5f"
            },
            "marker": {
             "line": {
              "color": "#E5ECF6",
              "width": 0.5
             },
             "pattern": {
              "fillmode": "overlay",
              "size": 10,
              "solidity": 0.2
             }
            },
            "type": "bar"
           }
          ],
          "barpolar": [
           {
            "marker": {
             "line": {
              "color": "#E5ECF6",
              "width": 0.5
             },
             "pattern": {
              "fillmode": "overlay",
              "size": 10,
              "solidity": 0.2
             }
            },
            "type": "barpolar"
           }
          ],
          "carpet": [
           {
            "aaxis": {
             "endlinecolor": "#2a3f5f",
             "gridcolor": "white",
             "linecolor": "white",
             "minorgridcolor": "white",
             "startlinecolor": "#2a3f5f"
            },
            "baxis": {
             "endlinecolor": "#2a3f5f",
             "gridcolor": "white",
             "linecolor": "white",
             "minorgridcolor": "white",
             "startlinecolor": "#2a3f5f"
            },
            "type": "carpet"
           }
          ],
          "choropleth": [
           {
            "colorbar": {
             "outlinewidth": 0,
             "ticks": ""
            },
            "type": "choropleth"
           }
          ],
          "contour": [
           {
            "colorbar": {
             "outlinewidth": 0,
             "ticks": ""
            },
            "colorscale": [
             [
              0,
              "#0d0887"
             ],
             [
              0.1111111111111111,
              "#46039f"
             ],
             [
              0.2222222222222222,
              "#7201a8"
             ],
             [
              0.3333333333333333,
              "#9c179e"
             ],
             [
              0.4444444444444444,
              "#bd3786"
             ],
             [
              0.5555555555555556,
              "#d8576b"
             ],
             [
              0.6666666666666666,
              "#ed7953"
             ],
             [
              0.7777777777777778,
              "#fb9f3a"
             ],
             [
              0.8888888888888888,
              "#fdca26"
             ],
             [
              1,
              "#f0f921"
             ]
            ],
            "type": "contour"
           }
          ],
          "contourcarpet": [
           {
            "colorbar": {
             "outlinewidth": 0,
             "ticks": ""
            },
            "type": "contourcarpet"
           }
          ],
          "heatmap": [
           {
            "colorbar": {
             "outlinewidth": 0,
             "ticks": ""
            },
            "colorscale": [
             [
              0,
              "#0d0887"
             ],
             [
              0.1111111111111111,
              "#46039f"
             ],
             [
              0.2222222222222222,
              "#7201a8"
             ],
             [
              0.3333333333333333,
              "#9c179e"
             ],
             [
              0.4444444444444444,
              "#bd3786"
             ],
             [
              0.5555555555555556,
              "#d8576b"
             ],
             [
              0.6666666666666666,
              "#ed7953"
             ],
             [
              0.7777777777777778,
              "#fb9f3a"
             ],
             [
              0.8888888888888888,
              "#fdca26"
             ],
             [
              1,
              "#f0f921"
             ]
            ],
            "type": "heatmap"
           }
          ],
          "heatmapgl": [
           {
            "colorbar": {
             "outlinewidth": 0,
             "ticks": ""
            },
            "colorscale": [
             [
              0,
              "#0d0887"
             ],
             [
              0.1111111111111111,
              "#46039f"
             ],
             [
              0.2222222222222222,
              "#7201a8"
             ],
             [
              0.3333333333333333,
              "#9c179e"
             ],
             [
              0.4444444444444444,
              "#bd3786"
             ],
             [
              0.5555555555555556,
              "#d8576b"
             ],
             [
              0.6666666666666666,
              "#ed7953"
             ],
             [
              0.7777777777777778,
              "#fb9f3a"
             ],
             [
              0.8888888888888888,
              "#fdca26"
             ],
             [
              1,
              "#f0f921"
             ]
            ],
            "type": "heatmapgl"
           }
          ],
          "histogram": [
           {
            "marker": {
             "pattern": {
              "fillmode": "overlay",
              "size": 10,
              "solidity": 0.2
             }
            },
            "type": "histogram"
           }
          ],
          "histogram2d": [
           {
            "colorbar": {
             "outlinewidth": 0,
             "ticks": ""
            },
            "colorscale": [
             [
              0,
              "#0d0887"
             ],
             [
              0.1111111111111111,
              "#46039f"
             ],
             [
              0.2222222222222222,
              "#7201a8"
             ],
             [
              0.3333333333333333,
              "#9c179e"
             ],
             [
              0.4444444444444444,
              "#bd3786"
             ],
             [
              0.5555555555555556,
              "#d8576b"
             ],
             [
              0.6666666666666666,
              "#ed7953"
             ],
             [
              0.7777777777777778,
              "#fb9f3a"
             ],
             [
              0.8888888888888888,
              "#fdca26"
             ],
             [
              1,
              "#f0f921"
             ]
            ],
            "type": "histogram2d"
           }
          ],
          "histogram2dcontour": [
           {
            "colorbar": {
             "outlinewidth": 0,
             "ticks": ""
            },
            "colorscale": [
             [
              0,
              "#0d0887"
             ],
             [
              0.1111111111111111,
              "#46039f"
             ],
             [
              0.2222222222222222,
              "#7201a8"
             ],
             [
              0.3333333333333333,
              "#9c179e"
             ],
             [
              0.4444444444444444,
              "#bd3786"
             ],
             [
              0.5555555555555556,
              "#d8576b"
             ],
             [
              0.6666666666666666,
              "#ed7953"
             ],
             [
              0.7777777777777778,
              "#fb9f3a"
             ],
             [
              0.8888888888888888,
              "#fdca26"
             ],
             [
              1,
              "#f0f921"
             ]
            ],
            "type": "histogram2dcontour"
           }
          ],
          "mesh3d": [
           {
            "colorbar": {
             "outlinewidth": 0,
             "ticks": ""
            },
            "type": "mesh3d"
           }
          ],
          "parcoords": [
           {
            "line": {
             "colorbar": {
              "outlinewidth": 0,
              "ticks": ""
             }
            },
            "type": "parcoords"
           }
          ],
          "pie": [
           {
            "automargin": true,
            "type": "pie"
           }
          ],
          "scatter": [
           {
            "fillpattern": {
             "fillmode": "overlay",
             "size": 10,
             "solidity": 0.2
            },
            "type": "scatter"
           }
          ],
          "scatter3d": [
           {
            "line": {
             "colorbar": {
              "outlinewidth": 0,
              "ticks": ""
             }
            },
            "marker": {
             "colorbar": {
              "outlinewidth": 0,
              "ticks": ""
             }
            },
            "type": "scatter3d"
           }
          ],
          "scattercarpet": [
           {
            "marker": {
             "colorbar": {
              "outlinewidth": 0,
              "ticks": ""
             }
            },
            "type": "scattercarpet"
           }
          ],
          "scattergeo": [
           {
            "marker": {
             "colorbar": {
              "outlinewidth": 0,
              "ticks": ""
             }
            },
            "type": "scattergeo"
           }
          ],
          "scattergl": [
           {
            "marker": {
             "colorbar": {
              "outlinewidth": 0,
              "ticks": ""
             }
            },
            "type": "scattergl"
           }
          ],
          "scattermapbox": [
           {
            "marker": {
             "colorbar": {
              "outlinewidth": 0,
              "ticks": ""
             }
            },
            "type": "scattermapbox"
           }
          ],
          "scatterpolar": [
           {
            "marker": {
             "colorbar": {
              "outlinewidth": 0,
              "ticks": ""
             }
            },
            "type": "scatterpolar"
           }
          ],
          "scatterpolargl": [
           {
            "marker": {
             "colorbar": {
              "outlinewidth": 0,
              "ticks": ""
             }
            },
            "type": "scatterpolargl"
           }
          ],
          "scatterternary": [
           {
            "marker": {
             "colorbar": {
              "outlinewidth": 0,
              "ticks": ""
             }
            },
            "type": "scatterternary"
           }
          ],
          "surface": [
           {
            "colorbar": {
             "outlinewidth": 0,
             "ticks": ""
            },
            "colorscale": [
             [
              0,
              "#0d0887"
             ],
             [
              0.1111111111111111,
              "#46039f"
             ],
             [
              0.2222222222222222,
              "#7201a8"
             ],
             [
              0.3333333333333333,
              "#9c179e"
             ],
             [
              0.4444444444444444,
              "#bd3786"
             ],
             [
              0.5555555555555556,
              "#d8576b"
             ],
             [
              0.6666666666666666,
              "#ed7953"
             ],
             [
              0.7777777777777778,
              "#fb9f3a"
             ],
             [
              0.8888888888888888,
              "#fdca26"
             ],
             [
              1,
              "#f0f921"
             ]
            ],
            "type": "surface"
           }
          ],
          "table": [
           {
            "cells": {
             "fill": {
              "color": "#EBF0F8"
             },
             "line": {
              "color": "white"
             }
            },
            "header": {
             "fill": {
              "color": "#C8D4E3"
             },
             "line": {
              "color": "white"
             }
            },
            "type": "table"
           }
          ]
         },
         "layout": {
          "annotationdefaults": {
           "arrowcolor": "#2a3f5f",
           "arrowhead": 0,
           "arrowwidth": 1
          },
          "autotypenumbers": "strict",
          "coloraxis": {
           "colorbar": {
            "outlinewidth": 0,
            "ticks": ""
           }
          },
          "colorscale": {
           "diverging": [
            [
             0,
             "#8e0152"
            ],
            [
             0.1,
             "#c51b7d"
            ],
            [
             0.2,
             "#de77ae"
            ],
            [
             0.3,
             "#f1b6da"
            ],
            [
             0.4,
             "#fde0ef"
            ],
            [
             0.5,
             "#f7f7f7"
            ],
            [
             0.6,
             "#e6f5d0"
            ],
            [
             0.7,
             "#b8e186"
            ],
            [
             0.8,
             "#7fbc41"
            ],
            [
             0.9,
             "#4d9221"
            ],
            [
             1,
             "#276419"
            ]
           ],
           "sequential": [
            [
             0,
             "#0d0887"
            ],
            [
             0.1111111111111111,
             "#46039f"
            ],
            [
             0.2222222222222222,
             "#7201a8"
            ],
            [
             0.3333333333333333,
             "#9c179e"
            ],
            [
             0.4444444444444444,
             "#bd3786"
            ],
            [
             0.5555555555555556,
             "#d8576b"
            ],
            [
             0.6666666666666666,
             "#ed7953"
            ],
            [
             0.7777777777777778,
             "#fb9f3a"
            ],
            [
             0.8888888888888888,
             "#fdca26"
            ],
            [
             1,
             "#f0f921"
            ]
           ],
           "sequentialminus": [
            [
             0,
             "#0d0887"
            ],
            [
             0.1111111111111111,
             "#46039f"
            ],
            [
             0.2222222222222222,
             "#7201a8"
            ],
            [
             0.3333333333333333,
             "#9c179e"
            ],
            [
             0.4444444444444444,
             "#bd3786"
            ],
            [
             0.5555555555555556,
             "#d8576b"
            ],
            [
             0.6666666666666666,
             "#ed7953"
            ],
            [
             0.7777777777777778,
             "#fb9f3a"
            ],
            [
             0.8888888888888888,
             "#fdca26"
            ],
            [
             1,
             "#f0f921"
            ]
           ]
          },
          "colorway": [
           "#636efa",
           "#EF553B",
           "#00cc96",
           "#ab63fa",
           "#FFA15A",
           "#19d3f3",
           "#FF6692",
           "#B6E880",
           "#FF97FF",
           "#FECB52"
          ],
          "font": {
           "color": "#2a3f5f"
          },
          "geo": {
           "bgcolor": "white",
           "lakecolor": "white",
           "landcolor": "#E5ECF6",
           "showlakes": true,
           "showland": true,
           "subunitcolor": "white"
          },
          "hoverlabel": {
           "align": "left"
          },
          "hovermode": "closest",
          "mapbox": {
           "style": "light"
          },
          "paper_bgcolor": "white",
          "plot_bgcolor": "#E5ECF6",
          "polar": {
           "angularaxis": {
            "gridcolor": "white",
            "linecolor": "white",
            "ticks": ""
           },
           "bgcolor": "#E5ECF6",
           "radialaxis": {
            "gridcolor": "white",
            "linecolor": "white",
            "ticks": ""
           }
          },
          "scene": {
           "xaxis": {
            "backgroundcolor": "#E5ECF6",
            "gridcolor": "white",
            "gridwidth": 2,
            "linecolor": "white",
            "showbackground": true,
            "ticks": "",
            "zerolinecolor": "white"
           },
           "yaxis": {
            "backgroundcolor": "#E5ECF6",
            "gridcolor": "white",
            "gridwidth": 2,
            "linecolor": "white",
            "showbackground": true,
            "ticks": "",
            "zerolinecolor": "white"
           },
           "zaxis": {
            "backgroundcolor": "#E5ECF6",
            "gridcolor": "white",
            "gridwidth": 2,
            "linecolor": "white",
            "showbackground": true,
            "ticks": "",
            "zerolinecolor": "white"
           }
          },
          "shapedefaults": {
           "line": {
            "color": "#2a3f5f"
           }
          },
          "ternary": {
           "aaxis": {
            "gridcolor": "white",
            "linecolor": "white",
            "ticks": ""
           },
           "baxis": {
            "gridcolor": "white",
            "linecolor": "white",
            "ticks": ""
           },
           "bgcolor": "#E5ECF6",
           "caxis": {
            "gridcolor": "white",
            "linecolor": "white",
            "ticks": ""
           }
          },
          "title": {
           "x": 0.05
          },
          "xaxis": {
           "automargin": true,
           "gridcolor": "white",
           "linecolor": "white",
           "ticks": "",
           "title": {
            "standoff": 15
           },
           "zerolinecolor": "white",
           "zerolinewidth": 2
          },
          "yaxis": {
           "automargin": true,
           "gridcolor": "white",
           "linecolor": "white",
           "ticks": "",
           "title": {
            "standoff": 15
           },
           "zerolinecolor": "white",
           "zerolinewidth": 2
          }
         }
        },
        "title": {
         "text": "Distribution of Price"
        },
        "xaxis": {
         "anchor": "y",
         "domain": [
          0,
          1
         ],
         "title": {
          "text": "Price"
         }
        },
        "yaxis": {
         "anchor": "x",
         "domain": [
          0,
          1
         ],
         "title": {
          "text": "count"
         }
        }
       }
      }
     },
     "metadata": {},
     "output_type": "display_data"
    },
    {
     "data": {
      "application/vnd.plotly.v1+json": {
       "config": {
        "plotlyServerURL": "https://plot.ly"
       },
       "data": [
        {
         "alignmentgroup": "True",
         "bingroup": "x",
         "hovertemplate": "Change=%{x}<br>count=%{y}<extra></extra>",
         "legendgroup": "",
         "marker": {
          "color": "#636efa",
          "pattern": {
           "shape": ""
          }
         },
         "name": "",
         "offsetgroup": "",
         "orientation": "v",
         "showlegend": false,
         "type": "histogram",
         "x": [
          -0.25,
          -2.16,
          -3.18,
          -0.08,
          -0.09,
          -0.04,
          0.79,
          -0.03,
          0.05,
          -0.33,
          0.05,
          0.12,
          -0.01,
          -0.04,
          1.45,
          0.51,
          0.01,
          1.77,
          0.09,
          0.02,
          -0.35,
          -0.97,
          -0.54,
          0.65,
          -0.18,
          -2.14,
          -3.18,
          -0.1,
          -0.33,
          0.04,
          -0.33,
          -0.97,
          0.09,
          -2.15,
          -0.33,
          -0.35,
          -0.98,
          -0.38,
          0.66,
          -1.74,
          -3.03,
          -0.06,
          -0.31,
          0.05,
          -0.93,
          0.67,
          -1.73,
          -2,
          -0.31,
          0.06,
          -0.31,
          -0.91,
          -0.35,
          0.67,
          -1.6,
          -2.08,
          -0.63,
          -0.11,
          -0.31,
          0.06,
          -0.32,
          -0.91,
          -0.35,
          -1.6,
          -2.17,
          -0.63,
          -0.02,
          -0.31,
          0.51,
          -0.33,
          -0.92,
          -2.17,
          -0.63,
          -0.02,
          -0.27,
          -0.31,
          0.03,
          -0.33,
          -0.93,
          0.03,
          -1.69,
          -2.26,
          -0.65,
          -0.12,
          -0.26,
          -0.32,
          -0.03,
          -0.36,
          -0.93,
          0.03,
          -1.69,
          -0.65,
          -0.12,
          -0.3,
          8.49,
          -0.33,
          -0.33,
          0.07,
          -1.67,
          -0.63,
          -0.28,
          8.97,
          0.02,
          -0.31,
          1.44,
          0.06,
          -0.35,
          -0.92,
          -0.41,
          -1.67,
          -0.63,
          -0.24,
          -0.28,
          8.97,
          1.32,
          1.45,
          -0.36,
          -0.92,
          -0.41,
          0.69,
          -0.64,
          -0.24,
          -0.28,
          1.32,
          0,
          -0.37,
          -0.92,
          0.68,
          -2.48,
          -0.25,
          -0.34,
          1.33,
          -0.05,
          -0.01,
          -0.35,
          -0.93,
          0.68,
          -2.54,
          -0.2,
          -0.24,
          -0.34,
          1.33,
          -0.05,
          -1.79,
          0.05,
          -0.34,
          -2.54,
          -0.03,
          1.44,
          0.05,
          -0.34,
          -0.64,
          -0.23,
          -0.31,
          1.34,
          0.07,
          0.51,
          0.13,
          -0.35,
          0.65,
          -0.64,
          -0.13,
          8.77,
          1.33,
          -0.03,
          -0.91,
          -0.63,
          -0.13,
          8.91,
          1.33,
          -0.01,
          -0.33,
          -0.93,
          0.66,
          -2.38,
          -0.64,
          -0.19,
          -0.22,
          8.91,
          1.31,
          -0.02,
          -0.07,
          -2.38,
          -0.65,
          -0.19,
          1.3,
          -0.02,
          -0.08,
          -0.93,
          -0.64,
          8.82,
          1.32,
          -0.01,
          -1.72,
          -0.22,
          -0.29,
          8.82,
          1.33,
          -1.84,
          -0.01,
          -1.81,
          -0.22,
          -0.29,
          0.04,
          0.1,
          -0.03,
          -0.05,
          0.2,
          1.35,
          -0.01,
          0.21,
          -1.76,
          -0.19,
          -0.28,
          1.35,
          -0.01,
          -2.1,
          -1.82,
          -0.17,
          1.34,
          0.02,
          -1.9,
          -2.12,
          -0.09,
          -1.92,
          -0.64,
          -0.29,
          8.61,
          1.33,
          0.02,
          -0.02,
          -2.1,
          0.22,
          -0.64,
          -0.21,
          -0.26,
          -0.27,
          -1.83,
          0,
          0.05,
          -2.08,
          0.07,
          -0.62,
          1.35,
          0,
          0.1,
          -2.12,
          0.28,
          -0.16,
          -0.22,
          -0.16,
          8.48,
          1.41,
          0.06,
          -1.77,
          -0.02,
          0.07,
          -2.06,
          0.28,
          1.07,
          1.42,
          -1.72,
          -0.02,
          0.18,
          -2.05,
          1.15,
          0.18,
          -0.13,
          8.69,
          1.43,
          -1.62,
          0.11,
          -2.06,
          1.12,
          0.18,
          -0.32,
          8.37,
          1.41,
          0.07,
          -1.76,
          0.05,
          -2.06,
          0.04,
          1.01,
          0.14,
          -0.03,
          1.39,
          0.01,
          -1.76,
          0.05,
          0.04,
          1.01,
          0.14,
          -0.01,
          0.04,
          0.06,
          -2.07,
          0.99,
          -0.04,
          -0.01,
          -0.01,
          0.04,
          0.04,
          -2.1,
          -0.04,
          -0.01,
          -0.08,
          -0.01,
          -1.78,
          0.07,
          -0.02,
          0.2,
          -2.1,
          1.05,
          -0.01,
          -1.73,
          -0.02,
          0.07,
          -0.04,
          -2.07,
          1.13,
          0.15,
          -0.04,
          0.09,
          -0.01,
          -0.04,
          0.15,
          1.1,
          0.15,
          0.09,
          0.17,
          0.13,
          -2.06,
          1.1,
          -0.87,
          0.14,
          -2.06,
          0.21,
          0.15,
          0.05,
          -0.88,
          0.01,
          0.1,
          -0.01,
          0.15,
          -2.08,
          0.15,
          0.05,
          -0.03,
          -0.89,
          0.01,
          0.36,
          -0.02,
          0.14,
          1.04,
          0.09,
          -0.35,
          -0.03,
          -0.01,
          -0.1,
          -0.03,
          -0.9,
          0.01,
          0.08,
          -2.16,
          0.14,
          0.98,
          0.04,
          -0.36,
          -0.03,
          -0.1,
          -0.9,
          0.01,
          0.08,
          0.16,
          -2.21,
          0.04,
          0.24,
          0.19,
          -1.61,
          -2.22,
          0.96,
          -0.91,
          0.24,
          0.2,
          -1.61,
          0.02,
          0.93,
          0.11,
          0.02,
          -0.93,
          0.18,
          0.21,
          -1.6,
          0.05,
          -2.22,
          0.96,
          0.02,
          -0.02,
          -0.03,
          -0.93,
          0.18,
          0.21,
          -1.56,
          0.04,
          0.22,
          -2.22,
          0.9,
          0.07,
          -0.04,
          0.16,
          -0.02,
          -0.93,
          -1.56,
          0.04,
          0.04,
          0.1,
          0.16,
          -0.01,
          -0.09,
          -0.95,
          0.24,
          -1.52,
          0.04,
          -0.97
         ],
         "xaxis": "x",
         "yaxis": "y"
        }
       ],
       "layout": {
        "barmode": "relative",
        "legend": {
         "tracegroupgap": 0
        },
        "template": {
         "data": {
          "bar": [
           {
            "error_x": {
             "color": "#2a3f5f"
            },
            "error_y": {
             "color": "#2a3f5f"
            },
            "marker": {
             "line": {
              "color": "#E5ECF6",
              "width": 0.5
             },
             "pattern": {
              "fillmode": "overlay",
              "size": 10,
              "solidity": 0.2
             }
            },
            "type": "bar"
           }
          ],
          "barpolar": [
           {
            "marker": {
             "line": {
              "color": "#E5ECF6",
              "width": 0.5
             },
             "pattern": {
              "fillmode": "overlay",
              "size": 10,
              "solidity": 0.2
             }
            },
            "type": "barpolar"
           }
          ],
          "carpet": [
           {
            "aaxis": {
             "endlinecolor": "#2a3f5f",
             "gridcolor": "white",
             "linecolor": "white",
             "minorgridcolor": "white",
             "startlinecolor": "#2a3f5f"
            },
            "baxis": {
             "endlinecolor": "#2a3f5f",
             "gridcolor": "white",
             "linecolor": "white",
             "minorgridcolor": "white",
             "startlinecolor": "#2a3f5f"
            },
            "type": "carpet"
           }
          ],
          "choropleth": [
           {
            "colorbar": {
             "outlinewidth": 0,
             "ticks": ""
            },
            "type": "choropleth"
           }
          ],
          "contour": [
           {
            "colorbar": {
             "outlinewidth": 0,
             "ticks": ""
            },
            "colorscale": [
             [
              0,
              "#0d0887"
             ],
             [
              0.1111111111111111,
              "#46039f"
             ],
             [
              0.2222222222222222,
              "#7201a8"
             ],
             [
              0.3333333333333333,
              "#9c179e"
             ],
             [
              0.4444444444444444,
              "#bd3786"
             ],
             [
              0.5555555555555556,
              "#d8576b"
             ],
             [
              0.6666666666666666,
              "#ed7953"
             ],
             [
              0.7777777777777778,
              "#fb9f3a"
             ],
             [
              0.8888888888888888,
              "#fdca26"
             ],
             [
              1,
              "#f0f921"
             ]
            ],
            "type": "contour"
           }
          ],
          "contourcarpet": [
           {
            "colorbar": {
             "outlinewidth": 0,
             "ticks": ""
            },
            "type": "contourcarpet"
           }
          ],
          "heatmap": [
           {
            "colorbar": {
             "outlinewidth": 0,
             "ticks": ""
            },
            "colorscale": [
             [
              0,
              "#0d0887"
             ],
             [
              0.1111111111111111,
              "#46039f"
             ],
             [
              0.2222222222222222,
              "#7201a8"
             ],
             [
              0.3333333333333333,
              "#9c179e"
             ],
             [
              0.4444444444444444,
              "#bd3786"
             ],
             [
              0.5555555555555556,
              "#d8576b"
             ],
             [
              0.6666666666666666,
              "#ed7953"
             ],
             [
              0.7777777777777778,
              "#fb9f3a"
             ],
             [
              0.8888888888888888,
              "#fdca26"
             ],
             [
              1,
              "#f0f921"
             ]
            ],
            "type": "heatmap"
           }
          ],
          "heatmapgl": [
           {
            "colorbar": {
             "outlinewidth": 0,
             "ticks": ""
            },
            "colorscale": [
             [
              0,
              "#0d0887"
             ],
             [
              0.1111111111111111,
              "#46039f"
             ],
             [
              0.2222222222222222,
              "#7201a8"
             ],
             [
              0.3333333333333333,
              "#9c179e"
             ],
             [
              0.4444444444444444,
              "#bd3786"
             ],
             [
              0.5555555555555556,
              "#d8576b"
             ],
             [
              0.6666666666666666,
              "#ed7953"
             ],
             [
              0.7777777777777778,
              "#fb9f3a"
             ],
             [
              0.8888888888888888,
              "#fdca26"
             ],
             [
              1,
              "#f0f921"
             ]
            ],
            "type": "heatmapgl"
           }
          ],
          "histogram": [
           {
            "marker": {
             "pattern": {
              "fillmode": "overlay",
              "size": 10,
              "solidity": 0.2
             }
            },
            "type": "histogram"
           }
          ],
          "histogram2d": [
           {
            "colorbar": {
             "outlinewidth": 0,
             "ticks": ""
            },
            "colorscale": [
             [
              0,
              "#0d0887"
             ],
             [
              0.1111111111111111,
              "#46039f"
             ],
             [
              0.2222222222222222,
              "#7201a8"
             ],
             [
              0.3333333333333333,
              "#9c179e"
             ],
             [
              0.4444444444444444,
              "#bd3786"
             ],
             [
              0.5555555555555556,
              "#d8576b"
             ],
             [
              0.6666666666666666,
              "#ed7953"
             ],
             [
              0.7777777777777778,
              "#fb9f3a"
             ],
             [
              0.8888888888888888,
              "#fdca26"
             ],
             [
              1,
              "#f0f921"
             ]
            ],
            "type": "histogram2d"
           }
          ],
          "histogram2dcontour": [
           {
            "colorbar": {
             "outlinewidth": 0,
             "ticks": ""
            },
            "colorscale": [
             [
              0,
              "#0d0887"
             ],
             [
              0.1111111111111111,
              "#46039f"
             ],
             [
              0.2222222222222222,
              "#7201a8"
             ],
             [
              0.3333333333333333,
              "#9c179e"
             ],
             [
              0.4444444444444444,
              "#bd3786"
             ],
             [
              0.5555555555555556,
              "#d8576b"
             ],
             [
              0.6666666666666666,
              "#ed7953"
             ],
             [
              0.7777777777777778,
              "#fb9f3a"
             ],
             [
              0.8888888888888888,
              "#fdca26"
             ],
             [
              1,
              "#f0f921"
             ]
            ],
            "type": "histogram2dcontour"
           }
          ],
          "mesh3d": [
           {
            "colorbar": {
             "outlinewidth": 0,
             "ticks": ""
            },
            "type": "mesh3d"
           }
          ],
          "parcoords": [
           {
            "line": {
             "colorbar": {
              "outlinewidth": 0,
              "ticks": ""
             }
            },
            "type": "parcoords"
           }
          ],
          "pie": [
           {
            "automargin": true,
            "type": "pie"
           }
          ],
          "scatter": [
           {
            "fillpattern": {
             "fillmode": "overlay",
             "size": 10,
             "solidity": 0.2
            },
            "type": "scatter"
           }
          ],
          "scatter3d": [
           {
            "line": {
             "colorbar": {
              "outlinewidth": 0,
              "ticks": ""
             }
            },
            "marker": {
             "colorbar": {
              "outlinewidth": 0,
              "ticks": ""
             }
            },
            "type": "scatter3d"
           }
          ],
          "scattercarpet": [
           {
            "marker": {
             "colorbar": {
              "outlinewidth": 0,
              "ticks": ""
             }
            },
            "type": "scattercarpet"
           }
          ],
          "scattergeo": [
           {
            "marker": {
             "colorbar": {
              "outlinewidth": 0,
              "ticks": ""
             }
            },
            "type": "scattergeo"
           }
          ],
          "scattergl": [
           {
            "marker": {
             "colorbar": {
              "outlinewidth": 0,
              "ticks": ""
             }
            },
            "type": "scattergl"
           }
          ],
          "scattermapbox": [
           {
            "marker": {
             "colorbar": {
              "outlinewidth": 0,
              "ticks": ""
             }
            },
            "type": "scattermapbox"
           }
          ],
          "scatterpolar": [
           {
            "marker": {
             "colorbar": {
              "outlinewidth": 0,
              "ticks": ""
             }
            },
            "type": "scatterpolar"
           }
          ],
          "scatterpolargl": [
           {
            "marker": {
             "colorbar": {
              "outlinewidth": 0,
              "ticks": ""
             }
            },
            "type": "scatterpolargl"
           }
          ],
          "scatterternary": [
           {
            "marker": {
             "colorbar": {
              "outlinewidth": 0,
              "ticks": ""
             }
            },
            "type": "scatterternary"
           }
          ],
          "surface": [
           {
            "colorbar": {
             "outlinewidth": 0,
             "ticks": ""
            },
            "colorscale": [
             [
              0,
              "#0d0887"
             ],
             [
              0.1111111111111111,
              "#46039f"
             ],
             [
              0.2222222222222222,
              "#7201a8"
             ],
             [
              0.3333333333333333,
              "#9c179e"
             ],
             [
              0.4444444444444444,
              "#bd3786"
             ],
             [
              0.5555555555555556,
              "#d8576b"
             ],
             [
              0.6666666666666666,
              "#ed7953"
             ],
             [
              0.7777777777777778,
              "#fb9f3a"
             ],
             [
              0.8888888888888888,
              "#fdca26"
             ],
             [
              1,
              "#f0f921"
             ]
            ],
            "type": "surface"
           }
          ],
          "table": [
           {
            "cells": {
             "fill": {
              "color": "#EBF0F8"
             },
             "line": {
              "color": "white"
             }
            },
            "header": {
             "fill": {
              "color": "#C8D4E3"
             },
             "line": {
              "color": "white"
             }
            },
            "type": "table"
           }
          ]
         },
         "layout": {
          "annotationdefaults": {
           "arrowcolor": "#2a3f5f",
           "arrowhead": 0,
           "arrowwidth": 1
          },
          "autotypenumbers": "strict",
          "coloraxis": {
           "colorbar": {
            "outlinewidth": 0,
            "ticks": ""
           }
          },
          "colorscale": {
           "diverging": [
            [
             0,
             "#8e0152"
            ],
            [
             0.1,
             "#c51b7d"
            ],
            [
             0.2,
             "#de77ae"
            ],
            [
             0.3,
             "#f1b6da"
            ],
            [
             0.4,
             "#fde0ef"
            ],
            [
             0.5,
             "#f7f7f7"
            ],
            [
             0.6,
             "#e6f5d0"
            ],
            [
             0.7,
             "#b8e186"
            ],
            [
             0.8,
             "#7fbc41"
            ],
            [
             0.9,
             "#4d9221"
            ],
            [
             1,
             "#276419"
            ]
           ],
           "sequential": [
            [
             0,
             "#0d0887"
            ],
            [
             0.1111111111111111,
             "#46039f"
            ],
            [
             0.2222222222222222,
             "#7201a8"
            ],
            [
             0.3333333333333333,
             "#9c179e"
            ],
            [
             0.4444444444444444,
             "#bd3786"
            ],
            [
             0.5555555555555556,
             "#d8576b"
            ],
            [
             0.6666666666666666,
             "#ed7953"
            ],
            [
             0.7777777777777778,
             "#fb9f3a"
            ],
            [
             0.8888888888888888,
             "#fdca26"
            ],
            [
             1,
             "#f0f921"
            ]
           ],
           "sequentialminus": [
            [
             0,
             "#0d0887"
            ],
            [
             0.1111111111111111,
             "#46039f"
            ],
            [
             0.2222222222222222,
             "#7201a8"
            ],
            [
             0.3333333333333333,
             "#9c179e"
            ],
            [
             0.4444444444444444,
             "#bd3786"
            ],
            [
             0.5555555555555556,
             "#d8576b"
            ],
            [
             0.6666666666666666,
             "#ed7953"
            ],
            [
             0.7777777777777778,
             "#fb9f3a"
            ],
            [
             0.8888888888888888,
             "#fdca26"
            ],
            [
             1,
             "#f0f921"
            ]
           ]
          },
          "colorway": [
           "#636efa",
           "#EF553B",
           "#00cc96",
           "#ab63fa",
           "#FFA15A",
           "#19d3f3",
           "#FF6692",
           "#B6E880",
           "#FF97FF",
           "#FECB52"
          ],
          "font": {
           "color": "#2a3f5f"
          },
          "geo": {
           "bgcolor": "white",
           "lakecolor": "white",
           "landcolor": "#E5ECF6",
           "showlakes": true,
           "showland": true,
           "subunitcolor": "white"
          },
          "hoverlabel": {
           "align": "left"
          },
          "hovermode": "closest",
          "mapbox": {
           "style": "light"
          },
          "paper_bgcolor": "white",
          "plot_bgcolor": "#E5ECF6",
          "polar": {
           "angularaxis": {
            "gridcolor": "white",
            "linecolor": "white",
            "ticks": ""
           },
           "bgcolor": "#E5ECF6",
           "radialaxis": {
            "gridcolor": "white",
            "linecolor": "white",
            "ticks": ""
           }
          },
          "scene": {
           "xaxis": {
            "backgroundcolor": "#E5ECF6",
            "gridcolor": "white",
            "gridwidth": 2,
            "linecolor": "white",
            "showbackground": true,
            "ticks": "",
            "zerolinecolor": "white"
           },
           "yaxis": {
            "backgroundcolor": "#E5ECF6",
            "gridcolor": "white",
            "gridwidth": 2,
            "linecolor": "white",
            "showbackground": true,
            "ticks": "",
            "zerolinecolor": "white"
           },
           "zaxis": {
            "backgroundcolor": "#E5ECF6",
            "gridcolor": "white",
            "gridwidth": 2,
            "linecolor": "white",
            "showbackground": true,
            "ticks": "",
            "zerolinecolor": "white"
           }
          },
          "shapedefaults": {
           "line": {
            "color": "#2a3f5f"
           }
          },
          "ternary": {
           "aaxis": {
            "gridcolor": "white",
            "linecolor": "white",
            "ticks": ""
           },
           "baxis": {
            "gridcolor": "white",
            "linecolor": "white",
            "ticks": ""
           },
           "bgcolor": "#E5ECF6",
           "caxis": {
            "gridcolor": "white",
            "linecolor": "white",
            "ticks": ""
           }
          },
          "title": {
           "x": 0.05
          },
          "xaxis": {
           "automargin": true,
           "gridcolor": "white",
           "linecolor": "white",
           "ticks": "",
           "title": {
            "standoff": 15
           },
           "zerolinecolor": "white",
           "zerolinewidth": 2
          },
          "yaxis": {
           "automargin": true,
           "gridcolor": "white",
           "linecolor": "white",
           "ticks": "",
           "title": {
            "standoff": 15
           },
           "zerolinecolor": "white",
           "zerolinewidth": 2
          }
         }
        },
        "title": {
         "text": "Distribution of Change"
        },
        "xaxis": {
         "anchor": "y",
         "domain": [
          0,
          1
         ],
         "title": {
          "text": "Change"
         }
        },
        "yaxis": {
         "anchor": "x",
         "domain": [
          0,
          1
         ],
         "title": {
          "text": "count"
         }
        }
       }
      }
     },
     "metadata": {},
     "output_type": "display_data"
    },
    {
     "data": {
      "application/vnd.plotly.v1+json": {
       "config": {
        "plotlyServerURL": "https://plot.ly"
       },
       "data": [
        {
         "alignmentgroup": "True",
         "bingroup": "x",
         "hovertemplate": "Market Cap=%{x}<br>count=%{y}<extra></extra>",
         "legendgroup": "",
         "marker": {
          "color": "#636efa",
          "pattern": {
           "shape": ""
          }
         },
         "name": "",
         "offsetgroup": "",
         "orientation": "v",
         "showlegend": false,
         "type": "histogram",
         "x": [
          483304000000,
          392325000000,
          359338000000,
          326427000000,
          328207000000,
          244596000000,
          0,
          270350000000.00003,
          269812000000,
          215526000000,
          248946000000,
          239340000000,
          240083000000,
          245183000000,
          201039000000,
          186022000000,
          182577000000,
          178136000000,
          143582000000,
          151092000000,
          139170000000,
          141079000000,
          133217000000.00002,
          126149000000,
          483440000000,
          392560000000,
          359499000000,
          328076000000,
          215605000000,
          182822000000,
          139221000000,
          141116000000,
          123026000000,
          392530000000,
          215644000000,
          139229000000,
          141154000000,
          133442000000,
          126149000000,
          106714000000,
          359463000000,
          326693000000,
          215609000000,
          151092000000,
          141116000000,
          126158000000,
          106774000000,
          114939000000,
          215799000000,
          151193000000,
          139263000000,
          141286000000,
          133442000000,
          126186000000,
          106777000000,
          114939000000,
          88976000000,
          327945000000,
          215844000000,
          151233000000,
          139289000000,
          141362000000,
          133484000000.00002,
          106821000000,
          114923000000,
          89006000000,
          110512000000,
          215779000000,
          186047000000,
          139280000000,
          141362000000,
          114885000000,
          89025000000,
          110490000000,
          111861000000,
          215758000000,
          182822000000,
          139263000000,
          141343000000,
          123026000000,
          106821000000,
          114856000000,
          89016000000,
          110445000000,
          98916000000,
          215725000000,
          245281000000,
          139229000000,
          141305000000,
          122598000000,
          106791000000,
          88996000000,
          110419000000,
          98910000000,
          98457000000,
          215679000000,
          139212000000,
          122883000000,
          106741000000,
          88986000000,
          98868000000,
          98412000000,
          94477000000,
          215765000000,
          201039000000,
          151213000000,
          139263000000,
          141305000000,
          133470000000,
          106798000000,
          89035000000,
          111861000000,
          98892000000,
          98484000000,
          88940000000,
          201015000000,
          139212000000,
          141343000000,
          133401999999.99998,
          126223000000,
          89025000000,
          111919000000,
          98886000000,
          88936000000,
          89234000000,
          139212000000,
          141343000000,
          126223000000,
          114856000000,
          111900000000,
          98856000000,
          88932000000,
          89234000000,
          68303000000,
          139204000000,
          141324000000,
          126205000000,
          114785000000,
          110356000000,
          111900000000,
          98821000000,
          88945000000,
          89208000000,
          82668000000,
          151233000000,
          139246000000,
          114768000000,
          66271000000,
          200937000000,
          151193000000,
          139238000000,
          89055000000,
          111937000000,
          98850000000,
          88990000000,
          63275000000,
          186010000000,
          143782000000,
          139246000000,
          126147000000,
          89020000000,
          110356000000,
          98472000000,
          88972000000,
          80086000000,
          141381000000,
          89020000000,
          110408000000,
          98454000000,
          88958000000,
          64830000000,
          139246000000,
          141362000000,
          126167000000,
          114830000000,
          88996000000,
          110378000000,
          111953000000,
          98475000000,
          88954000000,
          89208000000,
          79133000000,
          114818000000,
          89006000000,
          110367000000,
          88927000000,
          89223000000,
          63064000000,
          141286000000,
          89006000000,
          98475000000,
          88900000000,
          63647000000,
          106781000000,
          110367000000,
          98892000000,
          98461000000,
          88936000000,
          82647000000,
          78042000000,
          106751000000,
          110341000000,
          98880000000,
          89253000000,
          63353000000,
          80051000000,
          79145000000,
          74004000000,
          88970000000,
          79145000000,
          73350000000,
          106767000000,
          110341000000,
          98898000000,
          88999000000,
          79171000000,
          72440000000,
          106747000000,
          110378000000,
          88972000000,
          89253000000,
          82623000000,
          72435000000,
          72085000000,
          106714000000,
          89016000000,
          98898000000,
          98430000000,
          88954000000,
          89243000000,
          79145000000,
          72411000000,
          71974000000,
          89013000000,
          110348000000,
          111888000000,
          98904000000,
          82650000000,
          64830000000,
          79162000000,
          72435000000,
          69930000000,
          89045000000,
          88990000000,
          64869000000,
          79215000000,
          72440000000,
          68501000000.00001,
          110386000000,
          111965000000,
          99035000000,
          98410000000,
          89099000000,
          89263000000,
          82674000000,
          80103000000,
          79215000000,
          72475000000,
          68525000000.00001,
          67066000000,
          89099000000,
          82679000000,
          80120000000,
          79215000000,
          72475000000,
          67047000000,
          60656000000,
          99071000000,
          98442000000,
          89135000000,
          82737000000,
          79239000000,
          72487000000,
          67066000000,
          60684000000,
          58486000000,
          98394000000,
          89090000000,
          89267000000,
          82737000000,
          79239000000,
          72499000000,
          68525000000.00001,
          67066000000,
          60681000000,
          59544000000,
          89054000000,
          89238000000,
          82679000000,
          79204000000,
          68476000000,
          67026000000,
          60659000000,
          56997000000,
          63353000000,
          79210000000,
          72487000000,
          67019000000.00001,
          59544000000,
          56990000000,
          56642000000,
          63197000000,
          79198000000,
          72470000000,
          59516000000,
          56610000000,
          61785000000,
          68313999999.99999,
          82670000000,
          79192000000,
          78034000000,
          73315000000,
          72429000000,
          67041000000,
          56990000000,
          82670000000,
          66298000000,
          79216000000,
          63166000000,
          72417000000,
          67052000000.00001,
          60659000000,
          59524000000,
          56990000000,
          56608000000,
          53016000000,
          79233000000,
          67072999999.99999,
          60667000000,
          57008000000,
          50392000000,
          79251000000,
          72464000000,
          67057000000,
          49597000000,
          73102000000,
          72470000000,
          71940000000,
          68476000000,
          57008000000,
          49581000000,
          45797000000,
          79233000000,
          78103000000,
          73137000000,
          72452000000,
          68498000000.00001,
          57001000000,
          53016000000,
          49573000000,
          45815000000,
          46528000000,
          77987000000,
          68498000000.00001,
          67037000000.00001,
          60634000000,
          58486000000,
          59524000000,
          56617000000,
          61785000000,
          53106000000,
          49565000000,
          45815000000,
          45383000000,
          72400000000,
          68495999999.99999,
          67015000000,
          60628000000,
          58438000000,
          59529000000,
          61771000000,
          49540000000,
          45797000000,
          45420000000,
          45410000000,
          72300000000,
          60606000000,
          46528000000,
          45394000000,
          45509000000,
          72295000000,
          67007999999.99999,
          49532000000,
          46502000000,
          45449000000,
          45517000000,
          44115000000,
          66998999999.99999,
          60645000000,
          57001000000,
          49524000000,
          46502000000,
          45472000000,
          45517000000,
          43009000000,
          72289000000,
          67006000000,
          56995000000,
          56617000000,
          53065000000,
          49499000000,
          46489000000,
          45480000000,
          45542000000,
          43009000000,
          42691000000,
          72283000000,
          66986000000.00001,
          60622000000,
          59515000000,
          56995000000,
          56590000000,
          49491000000,
          45538000000,
          42980000000,
          42184000000,
          60622000000,
          57021000000,
          56590000000,
          61771000000,
          49475000000,
          45496000000,
          45538000000,
          42985000000,
          42240000000
         ],
         "xaxis": "x",
         "yaxis": "y"
        }
       ],
       "layout": {
        "barmode": "relative",
        "legend": {
         "tracegroupgap": 0
        },
        "template": {
         "data": {
          "bar": [
           {
            "error_x": {
             "color": "#2a3f5f"
            },
            "error_y": {
             "color": "#2a3f5f"
            },
            "marker": {
             "line": {
              "color": "#E5ECF6",
              "width": 0.5
             },
             "pattern": {
              "fillmode": "overlay",
              "size": 10,
              "solidity": 0.2
             }
            },
            "type": "bar"
           }
          ],
          "barpolar": [
           {
            "marker": {
             "line": {
              "color": "#E5ECF6",
              "width": 0.5
             },
             "pattern": {
              "fillmode": "overlay",
              "size": 10,
              "solidity": 0.2
             }
            },
            "type": "barpolar"
           }
          ],
          "carpet": [
           {
            "aaxis": {
             "endlinecolor": "#2a3f5f",
             "gridcolor": "white",
             "linecolor": "white",
             "minorgridcolor": "white",
             "startlinecolor": "#2a3f5f"
            },
            "baxis": {
             "endlinecolor": "#2a3f5f",
             "gridcolor": "white",
             "linecolor": "white",
             "minorgridcolor": "white",
             "startlinecolor": "#2a3f5f"
            },
            "type": "carpet"
           }
          ],
          "choropleth": [
           {
            "colorbar": {
             "outlinewidth": 0,
             "ticks": ""
            },
            "type": "choropleth"
           }
          ],
          "contour": [
           {
            "colorbar": {
             "outlinewidth": 0,
             "ticks": ""
            },
            "colorscale": [
             [
              0,
              "#0d0887"
             ],
             [
              0.1111111111111111,
              "#46039f"
             ],
             [
              0.2222222222222222,
              "#7201a8"
             ],
             [
              0.3333333333333333,
              "#9c179e"
             ],
             [
              0.4444444444444444,
              "#bd3786"
             ],
             [
              0.5555555555555556,
              "#d8576b"
             ],
             [
              0.6666666666666666,
              "#ed7953"
             ],
             [
              0.7777777777777778,
              "#fb9f3a"
             ],
             [
              0.8888888888888888,
              "#fdca26"
             ],
             [
              1,
              "#f0f921"
             ]
            ],
            "type": "contour"
           }
          ],
          "contourcarpet": [
           {
            "colorbar": {
             "outlinewidth": 0,
             "ticks": ""
            },
            "type": "contourcarpet"
           }
          ],
          "heatmap": [
           {
            "colorbar": {
             "outlinewidth": 0,
             "ticks": ""
            },
            "colorscale": [
             [
              0,
              "#0d0887"
             ],
             [
              0.1111111111111111,
              "#46039f"
             ],
             [
              0.2222222222222222,
              "#7201a8"
             ],
             [
              0.3333333333333333,
              "#9c179e"
             ],
             [
              0.4444444444444444,
              "#bd3786"
             ],
             [
              0.5555555555555556,
              "#d8576b"
             ],
             [
              0.6666666666666666,
              "#ed7953"
             ],
             [
              0.7777777777777778,
              "#fb9f3a"
             ],
             [
              0.8888888888888888,
              "#fdca26"
             ],
             [
              1,
              "#f0f921"
             ]
            ],
            "type": "heatmap"
           }
          ],
          "heatmapgl": [
           {
            "colorbar": {
             "outlinewidth": 0,
             "ticks": ""
            },
            "colorscale": [
             [
              0,
              "#0d0887"
             ],
             [
              0.1111111111111111,
              "#46039f"
             ],
             [
              0.2222222222222222,
              "#7201a8"
             ],
             [
              0.3333333333333333,
              "#9c179e"
             ],
             [
              0.4444444444444444,
              "#bd3786"
             ],
             [
              0.5555555555555556,
              "#d8576b"
             ],
             [
              0.6666666666666666,
              "#ed7953"
             ],
             [
              0.7777777777777778,
              "#fb9f3a"
             ],
             [
              0.8888888888888888,
              "#fdca26"
             ],
             [
              1,
              "#f0f921"
             ]
            ],
            "type": "heatmapgl"
           }
          ],
          "histogram": [
           {
            "marker": {
             "pattern": {
              "fillmode": "overlay",
              "size": 10,
              "solidity": 0.2
             }
            },
            "type": "histogram"
           }
          ],
          "histogram2d": [
           {
            "colorbar": {
             "outlinewidth": 0,
             "ticks": ""
            },
            "colorscale": [
             [
              0,
              "#0d0887"
             ],
             [
              0.1111111111111111,
              "#46039f"
             ],
             [
              0.2222222222222222,
              "#7201a8"
             ],
             [
              0.3333333333333333,
              "#9c179e"
             ],
             [
              0.4444444444444444,
              "#bd3786"
             ],
             [
              0.5555555555555556,
              "#d8576b"
             ],
             [
              0.6666666666666666,
              "#ed7953"
             ],
             [
              0.7777777777777778,
              "#fb9f3a"
             ],
             [
              0.8888888888888888,
              "#fdca26"
             ],
             [
              1,
              "#f0f921"
             ]
            ],
            "type": "histogram2d"
           }
          ],
          "histogram2dcontour": [
           {
            "colorbar": {
             "outlinewidth": 0,
             "ticks": ""
            },
            "colorscale": [
             [
              0,
              "#0d0887"
             ],
             [
              0.1111111111111111,
              "#46039f"
             ],
             [
              0.2222222222222222,
              "#7201a8"
             ],
             [
              0.3333333333333333,
              "#9c179e"
             ],
             [
              0.4444444444444444,
              "#bd3786"
             ],
             [
              0.5555555555555556,
              "#d8576b"
             ],
             [
              0.6666666666666666,
              "#ed7953"
             ],
             [
              0.7777777777777778,
              "#fb9f3a"
             ],
             [
              0.8888888888888888,
              "#fdca26"
             ],
             [
              1,
              "#f0f921"
             ]
            ],
            "type": "histogram2dcontour"
           }
          ],
          "mesh3d": [
           {
            "colorbar": {
             "outlinewidth": 0,
             "ticks": ""
            },
            "type": "mesh3d"
           }
          ],
          "parcoords": [
           {
            "line": {
             "colorbar": {
              "outlinewidth": 0,
              "ticks": ""
             }
            },
            "type": "parcoords"
           }
          ],
          "pie": [
           {
            "automargin": true,
            "type": "pie"
           }
          ],
          "scatter": [
           {
            "fillpattern": {
             "fillmode": "overlay",
             "size": 10,
             "solidity": 0.2
            },
            "type": "scatter"
           }
          ],
          "scatter3d": [
           {
            "line": {
             "colorbar": {
              "outlinewidth": 0,
              "ticks": ""
             }
            },
            "marker": {
             "colorbar": {
              "outlinewidth": 0,
              "ticks": ""
             }
            },
            "type": "scatter3d"
           }
          ],
          "scattercarpet": [
           {
            "marker": {
             "colorbar": {
              "outlinewidth": 0,
              "ticks": ""
             }
            },
            "type": "scattercarpet"
           }
          ],
          "scattergeo": [
           {
            "marker": {
             "colorbar": {
              "outlinewidth": 0,
              "ticks": ""
             }
            },
            "type": "scattergeo"
           }
          ],
          "scattergl": [
           {
            "marker": {
             "colorbar": {
              "outlinewidth": 0,
              "ticks": ""
             }
            },
            "type": "scattergl"
           }
          ],
          "scattermapbox": [
           {
            "marker": {
             "colorbar": {
              "outlinewidth": 0,
              "ticks": ""
             }
            },
            "type": "scattermapbox"
           }
          ],
          "scatterpolar": [
           {
            "marker": {
             "colorbar": {
              "outlinewidth": 0,
              "ticks": ""
             }
            },
            "type": "scatterpolar"
           }
          ],
          "scatterpolargl": [
           {
            "marker": {
             "colorbar": {
              "outlinewidth": 0,
              "ticks": ""
             }
            },
            "type": "scatterpolargl"
           }
          ],
          "scatterternary": [
           {
            "marker": {
             "colorbar": {
              "outlinewidth": 0,
              "ticks": ""
             }
            },
            "type": "scatterternary"
           }
          ],
          "surface": [
           {
            "colorbar": {
             "outlinewidth": 0,
             "ticks": ""
            },
            "colorscale": [
             [
              0,
              "#0d0887"
             ],
             [
              0.1111111111111111,
              "#46039f"
             ],
             [
              0.2222222222222222,
              "#7201a8"
             ],
             [
              0.3333333333333333,
              "#9c179e"
             ],
             [
              0.4444444444444444,
              "#bd3786"
             ],
             [
              0.5555555555555556,
              "#d8576b"
             ],
             [
              0.6666666666666666,
              "#ed7953"
             ],
             [
              0.7777777777777778,
              "#fb9f3a"
             ],
             [
              0.8888888888888888,
              "#fdca26"
             ],
             [
              1,
              "#f0f921"
             ]
            ],
            "type": "surface"
           }
          ],
          "table": [
           {
            "cells": {
             "fill": {
              "color": "#EBF0F8"
             },
             "line": {
              "color": "white"
             }
            },
            "header": {
             "fill": {
              "color": "#C8D4E3"
             },
             "line": {
              "color": "white"
             }
            },
            "type": "table"
           }
          ]
         },
         "layout": {
          "annotationdefaults": {
           "arrowcolor": "#2a3f5f",
           "arrowhead": 0,
           "arrowwidth": 1
          },
          "autotypenumbers": "strict",
          "coloraxis": {
           "colorbar": {
            "outlinewidth": 0,
            "ticks": ""
           }
          },
          "colorscale": {
           "diverging": [
            [
             0,
             "#8e0152"
            ],
            [
             0.1,
             "#c51b7d"
            ],
            [
             0.2,
             "#de77ae"
            ],
            [
             0.3,
             "#f1b6da"
            ],
            [
             0.4,
             "#fde0ef"
            ],
            [
             0.5,
             "#f7f7f7"
            ],
            [
             0.6,
             "#e6f5d0"
            ],
            [
             0.7,
             "#b8e186"
            ],
            [
             0.8,
             "#7fbc41"
            ],
            [
             0.9,
             "#4d9221"
            ],
            [
             1,
             "#276419"
            ]
           ],
           "sequential": [
            [
             0,
             "#0d0887"
            ],
            [
             0.1111111111111111,
             "#46039f"
            ],
            [
             0.2222222222222222,
             "#7201a8"
            ],
            [
             0.3333333333333333,
             "#9c179e"
            ],
            [
             0.4444444444444444,
             "#bd3786"
            ],
            [
             0.5555555555555556,
             "#d8576b"
            ],
            [
             0.6666666666666666,
             "#ed7953"
            ],
            [
             0.7777777777777778,
             "#fb9f3a"
            ],
            [
             0.8888888888888888,
             "#fdca26"
            ],
            [
             1,
             "#f0f921"
            ]
           ],
           "sequentialminus": [
            [
             0,
             "#0d0887"
            ],
            [
             0.1111111111111111,
             "#46039f"
            ],
            [
             0.2222222222222222,
             "#7201a8"
            ],
            [
             0.3333333333333333,
             "#9c179e"
            ],
            [
             0.4444444444444444,
             "#bd3786"
            ],
            [
             0.5555555555555556,
             "#d8576b"
            ],
            [
             0.6666666666666666,
             "#ed7953"
            ],
            [
             0.7777777777777778,
             "#fb9f3a"
            ],
            [
             0.8888888888888888,
             "#fdca26"
            ],
            [
             1,
             "#f0f921"
            ]
           ]
          },
          "colorway": [
           "#636efa",
           "#EF553B",
           "#00cc96",
           "#ab63fa",
           "#FFA15A",
           "#19d3f3",
           "#FF6692",
           "#B6E880",
           "#FF97FF",
           "#FECB52"
          ],
          "font": {
           "color": "#2a3f5f"
          },
          "geo": {
           "bgcolor": "white",
           "lakecolor": "white",
           "landcolor": "#E5ECF6",
           "showlakes": true,
           "showland": true,
           "subunitcolor": "white"
          },
          "hoverlabel": {
           "align": "left"
          },
          "hovermode": "closest",
          "mapbox": {
           "style": "light"
          },
          "paper_bgcolor": "white",
          "plot_bgcolor": "#E5ECF6",
          "polar": {
           "angularaxis": {
            "gridcolor": "white",
            "linecolor": "white",
            "ticks": ""
           },
           "bgcolor": "#E5ECF6",
           "radialaxis": {
            "gridcolor": "white",
            "linecolor": "white",
            "ticks": ""
           }
          },
          "scene": {
           "xaxis": {
            "backgroundcolor": "#E5ECF6",
            "gridcolor": "white",
            "gridwidth": 2,
            "linecolor": "white",
            "showbackground": true,
            "ticks": "",
            "zerolinecolor": "white"
           },
           "yaxis": {
            "backgroundcolor": "#E5ECF6",
            "gridcolor": "white",
            "gridwidth": 2,
            "linecolor": "white",
            "showbackground": true,
            "ticks": "",
            "zerolinecolor": "white"
           },
           "zaxis": {
            "backgroundcolor": "#E5ECF6",
            "gridcolor": "white",
            "gridwidth": 2,
            "linecolor": "white",
            "showbackground": true,
            "ticks": "",
            "zerolinecolor": "white"
           }
          },
          "shapedefaults": {
           "line": {
            "color": "#2a3f5f"
           }
          },
          "ternary": {
           "aaxis": {
            "gridcolor": "white",
            "linecolor": "white",
            "ticks": ""
           },
           "baxis": {
            "gridcolor": "white",
            "linecolor": "white",
            "ticks": ""
           },
           "bgcolor": "#E5ECF6",
           "caxis": {
            "gridcolor": "white",
            "linecolor": "white",
            "ticks": ""
           }
          },
          "title": {
           "x": 0.05
          },
          "xaxis": {
           "automargin": true,
           "gridcolor": "white",
           "linecolor": "white",
           "ticks": "",
           "title": {
            "standoff": 15
           },
           "zerolinecolor": "white",
           "zerolinewidth": 2
          },
          "yaxis": {
           "automargin": true,
           "gridcolor": "white",
           "linecolor": "white",
           "ticks": "",
           "title": {
            "standoff": 15
           },
           "zerolinecolor": "white",
           "zerolinewidth": 2
          }
         }
        },
        "title": {
         "text": "Distribution of Market Cap"
        },
        "xaxis": {
         "anchor": "y",
         "domain": [
          0,
          1
         ],
         "title": {
          "text": "Market Cap"
         }
        },
        "yaxis": {
         "anchor": "x",
         "domain": [
          0,
          1
         ],
         "title": {
          "text": "count"
         }
        }
       }
      }
     },
     "metadata": {},
     "output_type": "display_data"
    },
    {
     "data": {
      "application/vnd.plotly.v1+json": {
       "config": {
        "plotlyServerURL": "https://plot.ly"
       },
       "data": [
        {
         "alignmentgroup": "True",
         "bingroup": "x",
         "hovertemplate": "PE Ratio=%{x}<br>count=%{y}<extra></extra>",
         "legendgroup": "",
         "marker": {
          "color": "#636efa",
          "pattern": {
           "shape": ""
          }
         },
         "name": "",
         "offsetgroup": "",
         "orientation": "v",
         "showlegend": false,
         "type": "histogram",
         "x": [
          30.81,
          9.9,
          37.85,
          1.82,
          1.86,
          6.94,
          325.77,
          5.7,
          5.66,
          8.1,
          5.75,
          5.73,
          5.91,
          6.98,
          5.18,
          5.22,
          4.63,
          235.88,
          2.97,
          6.79,
          14.3,
          10.86,
          12.2,
          26.17,
          30.82,
          9.9,
          37.87,
          1.86,
          8.1,
          4.63,
          14.31,
          10.86,
          3.57,
          9.9,
          8.1,
          14.31,
          10.86,
          12.22,
          26.17,
          11.43,
          37.87,
          1.82,
          8.1,
          6.79,
          10.86,
          26.17,
          11.43,
          43.75,
          8.11,
          6.79,
          14.31,
          10.87,
          12.22,
          26.18,
          11.43,
          43.75,
          6.28,
          1.85,
          8.11,
          6.8,
          14.32,
          10.88,
          12.23,
          11.44,
          43.74,
          6.28,
          15.63,
          8.11,
          5.22,
          14.31,
          10.88,
          43.73,
          6.28,
          15.63,
          9.89,
          8.11,
          4.63,
          14.31,
          10.88,
          3.57,
          11.44,
          43.72,
          6.28,
          15.62,
          101.24,
          8.1,
          6.98,
          14.31,
          10.87,
          3.56,
          11.43,
          6.28,
          15.62,
          101.24,
          20.36,
          8.1,
          14.31,
          3.57,
          11.43,
          6.28,
          101.2,
          20.35,
          2.89,
          8.11,
          5.18,
          6.79,
          14.31,
          10.87,
          12.23,
          11.44,
          6.28,
          9.89,
          101.22,
          20.37,
          13.33,
          5.18,
          14.31,
          10.88,
          12.22,
          26.19,
          6.28,
          9.89,
          101.21,
          13.33,
          28.18,
          14.31,
          10.88,
          26.19,
          43.72,
          9.89,
          101.18,
          13.33,
          28.18,
          0.48,
          14.31,
          10.88,
          26.18,
          43.69,
          15.61,
          9.89,
          101.15,
          13.33,
          28.18,
          15.85,
          6.8,
          14.31,
          43.68,
          3.16,
          5.17,
          6.79,
          14.31,
          6.28,
          9.9,
          101.18,
          13.34,
          0.47,
          5.22,
          2.98,
          14.31,
          26.17,
          6.28,
          15.61,
          20.37,
          13.33,
          19.59,
          10.88,
          6.28,
          15.61,
          20.36,
          13.33,
          3.19,
          14.31,
          10.88,
          26.17,
          43.71,
          6.28,
          15.61,
          9.9,
          20.37,
          13.33,
          28.18,
          94.94,
          43.7,
          6.28,
          15.61,
          13.33,
          28.18,
          2.95,
          10.87,
          6.28,
          20.37,
          13.32,
          3.19,
          11.43,
          15.61,
          101.22,
          20.36,
          13.33,
          15.85,
          26.73,
          11.43,
          15.6,
          101.21,
          28.19,
          0.48,
          19.59,
          94.96,
          0.39,
          13.33,
          94.96,
          0.4,
          11.43,
          15.6,
          101.23,
          13.34,
          94.99,
          35.28,
          11.43,
          15.61,
          13.33,
          28.19,
          15.85,
          35.28,
          3.78,
          11.43,
          6.28,
          101.23,
          20.36,
          13.33,
          28.19,
          94.96,
          35.26,
          2.6,
          6.28,
          15.61,
          9.89,
          101.23,
          15.85,
          3.19,
          94.98,
          35.28,
          4.81,
          6.28,
          13.34,
          3.19,
          95.04,
          35.28,
          26.75,
          15.61,
          9.9,
          101.37,
          20.35,
          13.35,
          28.19,
          15.86,
          19.6,
          95.04,
          35.3,
          26.75,
          23.67,
          13.35,
          15.86,
          19.6,
          95.04,
          35.3,
          23.66,
          41.83,
          101.4,
          20.36,
          13.36,
          15.87,
          95.07,
          35.3,
          23.67,
          41.85,
          9.08,
          20.35,
          13.35,
          28.19,
          15.87,
          95.07,
          35.31,
          26.75,
          23.67,
          41.85,
          9.88,
          13.35,
          28.18,
          15.86,
          95.03,
          26.74,
          23.65,
          41.83,
          41.47,
          0.48,
          95.04,
          35.3,
          23.65,
          9.88,
          41.47,
          9.13,
          0.47,
          95.02,
          35.29,
          9.87,
          9.13,
          5.86,
          0.48,
          15.85,
          95.01,
          26.73,
          0.4,
          35.27,
          23.66,
          41.47,
          15.85,
          3.16,
          95.04,
          2.96,
          35.27,
          23.66,
          41.83,
          9.87,
          41.47,
          9.12,
          9.02,
          95.06,
          23.67,
          41.84,
          41.48,
          9,
          95.09,
          35.29,
          23.66,
          25.49,
          0.4,
          35.29,
          2.6,
          26.74,
          41.48,
          25.48,
          11.01,
          95.06,
          26.75,
          0.4,
          35.28,
          26.74,
          41.48,
          9.02,
          25.48,
          11.02,
          40.14,
          26.71,
          26.74,
          23.66,
          41.81,
          9.08,
          9.87,
          9.13,
          5.86,
          9.03,
          25.47,
          11.02,
          16.47,
          35.26,
          26.74,
          23.65,
          41.81,
          9.07,
          9.87,
          5.86,
          25.46,
          11.01,
          16.49,
          7.93,
          35.21,
          41.8,
          40.14,
          7.92,
          7.69,
          35.21,
          23.65,
          25.46,
          40.12,
          7.93,
          7.69,
          2.15,
          23.64,
          41.82,
          41.48,
          25.45,
          40.12,
          7.94,
          7.69,
          5.97,
          35.2,
          23.65,
          41.47,
          9.13,
          9.02,
          25.44,
          40.11,
          7.94,
          7.7,
          5.97,
          2.82,
          35.2,
          23.64,
          41.81,
          9.87,
          41.47,
          9.12,
          25.44,
          7.7,
          5.97,
          3.05,
          41.81,
          41.49,
          9.12,
          5.86,
          25.43,
          7.94,
          7.7,
          5.97,
          15.5
         ],
         "xaxis": "x",
         "yaxis": "y"
        }
       ],
       "layout": {
        "barmode": "relative",
        "legend": {
         "tracegroupgap": 0
        },
        "template": {
         "data": {
          "bar": [
           {
            "error_x": {
             "color": "#2a3f5f"
            },
            "error_y": {
             "color": "#2a3f5f"
            },
            "marker": {
             "line": {
              "color": "#E5ECF6",
              "width": 0.5
             },
             "pattern": {
              "fillmode": "overlay",
              "size": 10,
              "solidity": 0.2
             }
            },
            "type": "bar"
           }
          ],
          "barpolar": [
           {
            "marker": {
             "line": {
              "color": "#E5ECF6",
              "width": 0.5
             },
             "pattern": {
              "fillmode": "overlay",
              "size": 10,
              "solidity": 0.2
             }
            },
            "type": "barpolar"
           }
          ],
          "carpet": [
           {
            "aaxis": {
             "endlinecolor": "#2a3f5f",
             "gridcolor": "white",
             "linecolor": "white",
             "minorgridcolor": "white",
             "startlinecolor": "#2a3f5f"
            },
            "baxis": {
             "endlinecolor": "#2a3f5f",
             "gridcolor": "white",
             "linecolor": "white",
             "minorgridcolor": "white",
             "startlinecolor": "#2a3f5f"
            },
            "type": "carpet"
           }
          ],
          "choropleth": [
           {
            "colorbar": {
             "outlinewidth": 0,
             "ticks": ""
            },
            "type": "choropleth"
           }
          ],
          "contour": [
           {
            "colorbar": {
             "outlinewidth": 0,
             "ticks": ""
            },
            "colorscale": [
             [
              0,
              "#0d0887"
             ],
             [
              0.1111111111111111,
              "#46039f"
             ],
             [
              0.2222222222222222,
              "#7201a8"
             ],
             [
              0.3333333333333333,
              "#9c179e"
             ],
             [
              0.4444444444444444,
              "#bd3786"
             ],
             [
              0.5555555555555556,
              "#d8576b"
             ],
             [
              0.6666666666666666,
              "#ed7953"
             ],
             [
              0.7777777777777778,
              "#fb9f3a"
             ],
             [
              0.8888888888888888,
              "#fdca26"
             ],
             [
              1,
              "#f0f921"
             ]
            ],
            "type": "contour"
           }
          ],
          "contourcarpet": [
           {
            "colorbar": {
             "outlinewidth": 0,
             "ticks": ""
            },
            "type": "contourcarpet"
           }
          ],
          "heatmap": [
           {
            "colorbar": {
             "outlinewidth": 0,
             "ticks": ""
            },
            "colorscale": [
             [
              0,
              "#0d0887"
             ],
             [
              0.1111111111111111,
              "#46039f"
             ],
             [
              0.2222222222222222,
              "#7201a8"
             ],
             [
              0.3333333333333333,
              "#9c179e"
             ],
             [
              0.4444444444444444,
              "#bd3786"
             ],
             [
              0.5555555555555556,
              "#d8576b"
             ],
             [
              0.6666666666666666,
              "#ed7953"
             ],
             [
              0.7777777777777778,
              "#fb9f3a"
             ],
             [
              0.8888888888888888,
              "#fdca26"
             ],
             [
              1,
              "#f0f921"
             ]
            ],
            "type": "heatmap"
           }
          ],
          "heatmapgl": [
           {
            "colorbar": {
             "outlinewidth": 0,
             "ticks": ""
            },
            "colorscale": [
             [
              0,
              "#0d0887"
             ],
             [
              0.1111111111111111,
              "#46039f"
             ],
             [
              0.2222222222222222,
              "#7201a8"
             ],
             [
              0.3333333333333333,
              "#9c179e"
             ],
             [
              0.4444444444444444,
              "#bd3786"
             ],
             [
              0.5555555555555556,
              "#d8576b"
             ],
             [
              0.6666666666666666,
              "#ed7953"
             ],
             [
              0.7777777777777778,
              "#fb9f3a"
             ],
             [
              0.8888888888888888,
              "#fdca26"
             ],
             [
              1,
              "#f0f921"
             ]
            ],
            "type": "heatmapgl"
           }
          ],
          "histogram": [
           {
            "marker": {
             "pattern": {
              "fillmode": "overlay",
              "size": 10,
              "solidity": 0.2
             }
            },
            "type": "histogram"
           }
          ],
          "histogram2d": [
           {
            "colorbar": {
             "outlinewidth": 0,
             "ticks": ""
            },
            "colorscale": [
             [
              0,
              "#0d0887"
             ],
             [
              0.1111111111111111,
              "#46039f"
             ],
             [
              0.2222222222222222,
              "#7201a8"
             ],
             [
              0.3333333333333333,
              "#9c179e"
             ],
             [
              0.4444444444444444,
              "#bd3786"
             ],
             [
              0.5555555555555556,
              "#d8576b"
             ],
             [
              0.6666666666666666,
              "#ed7953"
             ],
             [
              0.7777777777777778,
              "#fb9f3a"
             ],
             [
              0.8888888888888888,
              "#fdca26"
             ],
             [
              1,
              "#f0f921"
             ]
            ],
            "type": "histogram2d"
           }
          ],
          "histogram2dcontour": [
           {
            "colorbar": {
             "outlinewidth": 0,
             "ticks": ""
            },
            "colorscale": [
             [
              0,
              "#0d0887"
             ],
             [
              0.1111111111111111,
              "#46039f"
             ],
             [
              0.2222222222222222,
              "#7201a8"
             ],
             [
              0.3333333333333333,
              "#9c179e"
             ],
             [
              0.4444444444444444,
              "#bd3786"
             ],
             [
              0.5555555555555556,
              "#d8576b"
             ],
             [
              0.6666666666666666,
              "#ed7953"
             ],
             [
              0.7777777777777778,
              "#fb9f3a"
             ],
             [
              0.8888888888888888,
              "#fdca26"
             ],
             [
              1,
              "#f0f921"
             ]
            ],
            "type": "histogram2dcontour"
           }
          ],
          "mesh3d": [
           {
            "colorbar": {
             "outlinewidth": 0,
             "ticks": ""
            },
            "type": "mesh3d"
           }
          ],
          "parcoords": [
           {
            "line": {
             "colorbar": {
              "outlinewidth": 0,
              "ticks": ""
             }
            },
            "type": "parcoords"
           }
          ],
          "pie": [
           {
            "automargin": true,
            "type": "pie"
           }
          ],
          "scatter": [
           {
            "fillpattern": {
             "fillmode": "overlay",
             "size": 10,
             "solidity": 0.2
            },
            "type": "scatter"
           }
          ],
          "scatter3d": [
           {
            "line": {
             "colorbar": {
              "outlinewidth": 0,
              "ticks": ""
             }
            },
            "marker": {
             "colorbar": {
              "outlinewidth": 0,
              "ticks": ""
             }
            },
            "type": "scatter3d"
           }
          ],
          "scattercarpet": [
           {
            "marker": {
             "colorbar": {
              "outlinewidth": 0,
              "ticks": ""
             }
            },
            "type": "scattercarpet"
           }
          ],
          "scattergeo": [
           {
            "marker": {
             "colorbar": {
              "outlinewidth": 0,
              "ticks": ""
             }
            },
            "type": "scattergeo"
           }
          ],
          "scattergl": [
           {
            "marker": {
             "colorbar": {
              "outlinewidth": 0,
              "ticks": ""
             }
            },
            "type": "scattergl"
           }
          ],
          "scattermapbox": [
           {
            "marker": {
             "colorbar": {
              "outlinewidth": 0,
              "ticks": ""
             }
            },
            "type": "scattermapbox"
           }
          ],
          "scatterpolar": [
           {
            "marker": {
             "colorbar": {
              "outlinewidth": 0,
              "ticks": ""
             }
            },
            "type": "scatterpolar"
           }
          ],
          "scatterpolargl": [
           {
            "marker": {
             "colorbar": {
              "outlinewidth": 0,
              "ticks": ""
             }
            },
            "type": "scatterpolargl"
           }
          ],
          "scatterternary": [
           {
            "marker": {
             "colorbar": {
              "outlinewidth": 0,
              "ticks": ""
             }
            },
            "type": "scatterternary"
           }
          ],
          "surface": [
           {
            "colorbar": {
             "outlinewidth": 0,
             "ticks": ""
            },
            "colorscale": [
             [
              0,
              "#0d0887"
             ],
             [
              0.1111111111111111,
              "#46039f"
             ],
             [
              0.2222222222222222,
              "#7201a8"
             ],
             [
              0.3333333333333333,
              "#9c179e"
             ],
             [
              0.4444444444444444,
              "#bd3786"
             ],
             [
              0.5555555555555556,
              "#d8576b"
             ],
             [
              0.6666666666666666,
              "#ed7953"
             ],
             [
              0.7777777777777778,
              "#fb9f3a"
             ],
             [
              0.8888888888888888,
              "#fdca26"
             ],
             [
              1,
              "#f0f921"
             ]
            ],
            "type": "surface"
           }
          ],
          "table": [
           {
            "cells": {
             "fill": {
              "color": "#EBF0F8"
             },
             "line": {
              "color": "white"
             }
            },
            "header": {
             "fill": {
              "color": "#C8D4E3"
             },
             "line": {
              "color": "white"
             }
            },
            "type": "table"
           }
          ]
         },
         "layout": {
          "annotationdefaults": {
           "arrowcolor": "#2a3f5f",
           "arrowhead": 0,
           "arrowwidth": 1
          },
          "autotypenumbers": "strict",
          "coloraxis": {
           "colorbar": {
            "outlinewidth": 0,
            "ticks": ""
           }
          },
          "colorscale": {
           "diverging": [
            [
             0,
             "#8e0152"
            ],
            [
             0.1,
             "#c51b7d"
            ],
            [
             0.2,
             "#de77ae"
            ],
            [
             0.3,
             "#f1b6da"
            ],
            [
             0.4,
             "#fde0ef"
            ],
            [
             0.5,
             "#f7f7f7"
            ],
            [
             0.6,
             "#e6f5d0"
            ],
            [
             0.7,
             "#b8e186"
            ],
            [
             0.8,
             "#7fbc41"
            ],
            [
             0.9,
             "#4d9221"
            ],
            [
             1,
             "#276419"
            ]
           ],
           "sequential": [
            [
             0,
             "#0d0887"
            ],
            [
             0.1111111111111111,
             "#46039f"
            ],
            [
             0.2222222222222222,
             "#7201a8"
            ],
            [
             0.3333333333333333,
             "#9c179e"
            ],
            [
             0.4444444444444444,
             "#bd3786"
            ],
            [
             0.5555555555555556,
             "#d8576b"
            ],
            [
             0.6666666666666666,
             "#ed7953"
            ],
            [
             0.7777777777777778,
             "#fb9f3a"
            ],
            [
             0.8888888888888888,
             "#fdca26"
            ],
            [
             1,
             "#f0f921"
            ]
           ],
           "sequentialminus": [
            [
             0,
             "#0d0887"
            ],
            [
             0.1111111111111111,
             "#46039f"
            ],
            [
             0.2222222222222222,
             "#7201a8"
            ],
            [
             0.3333333333333333,
             "#9c179e"
            ],
            [
             0.4444444444444444,
             "#bd3786"
            ],
            [
             0.5555555555555556,
             "#d8576b"
            ],
            [
             0.6666666666666666,
             "#ed7953"
            ],
            [
             0.7777777777777778,
             "#fb9f3a"
            ],
            [
             0.8888888888888888,
             "#fdca26"
            ],
            [
             1,
             "#f0f921"
            ]
           ]
          },
          "colorway": [
           "#636efa",
           "#EF553B",
           "#00cc96",
           "#ab63fa",
           "#FFA15A",
           "#19d3f3",
           "#FF6692",
           "#B6E880",
           "#FF97FF",
           "#FECB52"
          ],
          "font": {
           "color": "#2a3f5f"
          },
          "geo": {
           "bgcolor": "white",
           "lakecolor": "white",
           "landcolor": "#E5ECF6",
           "showlakes": true,
           "showland": true,
           "subunitcolor": "white"
          },
          "hoverlabel": {
           "align": "left"
          },
          "hovermode": "closest",
          "mapbox": {
           "style": "light"
          },
          "paper_bgcolor": "white",
          "plot_bgcolor": "#E5ECF6",
          "polar": {
           "angularaxis": {
            "gridcolor": "white",
            "linecolor": "white",
            "ticks": ""
           },
           "bgcolor": "#E5ECF6",
           "radialaxis": {
            "gridcolor": "white",
            "linecolor": "white",
            "ticks": ""
           }
          },
          "scene": {
           "xaxis": {
            "backgroundcolor": "#E5ECF6",
            "gridcolor": "white",
            "gridwidth": 2,
            "linecolor": "white",
            "showbackground": true,
            "ticks": "",
            "zerolinecolor": "white"
           },
           "yaxis": {
            "backgroundcolor": "#E5ECF6",
            "gridcolor": "white",
            "gridwidth": 2,
            "linecolor": "white",
            "showbackground": true,
            "ticks": "",
            "zerolinecolor": "white"
           },
           "zaxis": {
            "backgroundcolor": "#E5ECF6",
            "gridcolor": "white",
            "gridwidth": 2,
            "linecolor": "white",
            "showbackground": true,
            "ticks": "",
            "zerolinecolor": "white"
           }
          },
          "shapedefaults": {
           "line": {
            "color": "#2a3f5f"
           }
          },
          "ternary": {
           "aaxis": {
            "gridcolor": "white",
            "linecolor": "white",
            "ticks": ""
           },
           "baxis": {
            "gridcolor": "white",
            "linecolor": "white",
            "ticks": ""
           },
           "bgcolor": "#E5ECF6",
           "caxis": {
            "gridcolor": "white",
            "linecolor": "white",
            "ticks": ""
           }
          },
          "title": {
           "x": 0.05
          },
          "xaxis": {
           "automargin": true,
           "gridcolor": "white",
           "linecolor": "white",
           "ticks": "",
           "title": {
            "standoff": 15
           },
           "zerolinecolor": "white",
           "zerolinewidth": 2
          },
          "yaxis": {
           "automargin": true,
           "gridcolor": "white",
           "linecolor": "white",
           "ticks": "",
           "title": {
            "standoff": 15
           },
           "zerolinecolor": "white",
           "zerolinewidth": 2
          }
         }
        },
        "title": {
         "text": "Distribution of PE Ratio"
        },
        "xaxis": {
         "anchor": "y",
         "domain": [
          0,
          1
         ],
         "title": {
          "text": "PE Ratio"
         }
        },
        "yaxis": {
         "anchor": "x",
         "domain": [
          0,
          1
         ],
         "title": {
          "text": "count"
         }
        }
       }
      }
     },
     "metadata": {},
     "output_type": "display_data"
    }
   ],
   "source": [
    "# 4 Distributions of continuous variables / Outliers\n",
    "\n",
    "# Continuous variables in DataFrame\n",
    "cont_var = ['Price', 'Change', 'Market Cap', 'PE Ratio']  # Update with your continuous variables\n",
    "\n",
    "# Histograms for each continuous variable\n",
    "for col in cont_var:\n",
    "    fig = px.histogram(data, x=col, title=f'Distribution of {col}')\n",
    "    fig.show()\n",
    "\n",
    "\n"
   ]
  },
  {
   "cell_type": "markdown",
   "metadata": {},
   "source": [
    "Histograms Analysis: \n",
    "\n",
    "As you can see above, the distribution for Price is right-skewed. This indicates that most of the stocks in this data tend to have lower prices, although there are a few stocks which have very high prices. This is relevant for investors because it can promote investors to invest in multiple different stocks. It would also be relevant when considering a stock is worthwile to invest in.\n",
    "\n",
    "The distribution for Change is also right-skewed, though most of the companies are near 0. This means that for those stocks, there is not much change on a day-to-day basis. However, there are some stocks with high rates of change. This means that there is a significant change for those stocks on a daily basis. This is relevant for investors because it could provide insight as to whether they are comfortable with small/large changes of their stocks' prices.\n",
    "\n",
    "The distribution for Market Cap is also right-skewed. This indicates that most of the companies have low market capitalizations, while there are some companies that have very high market capitalizations. Most of the companies seem to have a market capitalization near $100B. These indicate large and well established companies. It would be relevant when considering what stocks to invest in. \n",
    "\n",
    "The distribution for PE Ratio is heavily right-skewed. This indicates that most of the companies have lower PE ratios. There are a few stocks that have high PE ratios. This means that the lower PE stocks may show undervaluation. Alternatively, the high PE ratio stocks may show overvaluation. This would be relevant when considering what stocks to invest in, combined with prices."
   ]
  },
  {
   "cell_type": "code",
   "execution_count": 28,
   "metadata": {},
   "outputs": [
    {
     "data": {
      "application/vnd.plotly.v1+json": {
       "config": {
        "plotlyServerURL": "https://plot.ly"
       },
       "data": [
        {
         "alignmentgroup": "True",
         "hovertemplate": "Price=%{y}<extra></extra>",
         "legendgroup": "",
         "marker": {
          "color": "#636efa"
         },
         "name": "",
         "notched": false,
         "offsetgroup": "",
         "orientation": "v",
         "showlegend": false,
         "type": "box",
         "x0": " ",
         "xaxis": "x",
         "y": [
          230.76,
          133.89,
          380.21,
          24.57,
          25.02,
          24.38,
          1144.76,
          20.02,
          19.9,
          27.06,
          20.2,
          20.15,
          20.76,
          24.53,
          25.01,
          25.24,
          22.36,
          1139.77,
          25.29,
          37.47,
          82.28,
          37.35,
          95.68,
          67.78,
          230.82,
          133.91,
          380.21,
          25.01,
          27.06,
          22.39,
          82.3,
          37.37,
          17.25,
          133.9,
          27.06,
          82.28,
          37.35,
          95.84,
          67.79,
          318.98,
          380.36,
          24.59,
          27.08,
          37.5,
          37.4,
          67.8,
          318.99,
          358.29,
          27.08,
          37.51,
          82.32,
          37.42,
          95.87,
          67.8,
          319.12,
          358.21,
          45.4,
          25,
          27.08,
          37.51,
          82.31,
          37.42,
          95.87,
          319.12,
          358.12,
          45.4,
          147.97,
          27.08,
          25.24,
          82.3,
          37.42,
          358.12,
          45.4,
          147.97,
          60.62,
          27.08,
          22.38,
          82.3,
          37.4,
          17.19,
          319.03,
          358.03,
          45.38,
          147.88,
          83.01,
          27.07,
          24.54,
          82.27,
          37.4,
          17.19,
          319.03,
          45.38,
          147.88,
          82.98,
          650.51,
          27.06,
          82.3,
          17.23,
          319.05,
          45.4,
          83,
          650.99,
          25.44,
          27.08,
          25,
          37.51,
          82.28,
          37.42,
          95.81,
          319.05,
          45.4,
          60.65,
          83,
          650.99,
          49.05,
          25.01,
          82.27,
          37.42,
          95.81,
          67.82,
          45.39,
          60.65,
          83,
          49.05,
          180.37,
          82.26,
          37.41,
          67.81,
          357.81,
          60.64,
          82.94,
          49.06,
          180.32,
          24.97,
          82.28,
          37.4,
          67.81,
          357.76,
          147.79,
          60.65,
          82.94,
          49.06,
          180.32,
          199.6,
          37.5,
          82.29,
          357.76,
          24.85,
          25,
          37.5,
          82.29,
          45.39,
          60.66,
          82.97,
          49.07,
          24.46,
          25.24,
          25.33,
          82.29,
          67.78,
          45.39,
          147.86,
          650.79,
          49.06,
          22.92,
          37.42,
          45.4,
          147.86,
          650.93,
          49.06,
          25.07,
          82.3,
          37.4,
          67.79,
          357.91,
          45.39,
          147.8,
          60.67,
          650.93,
          49.05,
          180.35,
          133.87,
          357.91,
          45.38,
          147.8,
          49.03,
          180.35,
          23.2,
          37.4,
          45.39,
          650.84,
          49.05,
          25.09,
          319,
          147.77,
          82.99,
          650.84,
          49.06,
          199.55,
          6.41,
          318.91,
          147.77,
          82.99,
          180.41,
          24.49,
          22.92,
          133.89,
          20.08,
          49.08,
          133.93,
          20.67,
          318.96,
          147.8,
          83,
          49.08,
          133.93,
          62.08,
          318.9,
          147.82,
          49.07,
          180.39,
          199.49,
          62.06,
          17.51,
          318.8,
          45.39,
          82.99,
          650.63,
          49.06,
          180.39,
          133.92,
          62.08,
          20.44,
          45.39,
          147.78,
          60.63,
          83.01,
          199.56,
          25.08,
          133.99,
          62.1,
          22.29,
          45.4,
          49.08,
          25.08,
          134.04,
          62.06,
          335.5,
          147.83,
          60.67,
          83.12,
          650.5,
          49.14,
          180.43,
          199.62,
          22.93,
          134.01,
          62.12,
          335.5,
          184.55,
          49.15,
          199.67,
          22.93,
          134.12,
          62.13,
          184.63,
          108.39,
          83.15,
          650.71,
          49.16,
          199.77,
          134.05,
          62.13,
          184.6,
          108.39,
          49.02,
          650.39,
          49.14,
          180.44,
          199.63,
          133.99,
          62.12,
          335.26,
          184.49,
          108.35,
          19.16,
          49.12,
          180.38,
          199.63,
          133.99,
          335.26,
          184.49,
          108.35,
          308.94,
          24.43,
          134,
          62.11,
          184.47,
          19.15,
          308.94,
          8.4,
          24.43,
          133.98,
          62.08,
          19.15,
          8.4,
          87.43,
          24.97,
          199.61,
          134.01,
          6.41,
          20.66,
          62.08,
          184.53,
          308.95,
          199.66,
          24.86,
          134.01,
          23.24,
          62.11,
          184.61,
          108.36,
          19.15,
          309.04,
          8.4,
          5.41,
          134.09,
          184.57,
          108.36,
          309.04,
          24.93,
          134.07,
          62.12,
          184.57,
          30.33,
          20.6,
          62.12,
          20.43,
          335.37,
          309,
          30.32,
          12.67,
          134.04,
          6.42,
          20.61,
          62.1,
          335.37,
          309,
          5.42,
          30.32,
          12.67,
          217.17,
          6.41,
          335.36,
          184.52,
          108.3,
          48.99,
          19.16,
          8.4,
          87.41,
          5.42,
          30.3,
          12.66,
          6.1,
          62.02,
          335.36,
          184.46,
          108.25,
          48.98,
          19.16,
          87.41,
          30.3,
          12.66,
          6.1,
          29.08,
          61.97,
          108.25,
          217.05,
          29.11,
          111.09,
          61.97,
          184.44,
          30.3,
          217.05,
          29.12,
          111.09,
          24.59,
          184.41,
          108.32,
          308.97,
          30.27,
          216.99,
          29.13,
          111.1,
          7.16,
          61.96,
          184.43,
          308.97,
          8.39,
          5.41,
          30.27,
          216.99,
          29.13,
          111.14,
          7.16,
          21.98,
          61.96,
          184.38,
          108.28,
          19.15,
          309.11,
          8.39,
          30.27,
          111.14,
          7.16,
          23.79,
          108.31,
          309.11,
          8.4,
          87.42,
          30.25,
          29.16,
          111.18,
          7.16,
          181.84
         ],
         "y0": " ",
         "yaxis": "y"
        }
       ],
       "layout": {
        "boxmode": "group",
        "legend": {
         "tracegroupgap": 0
        },
        "template": {
         "data": {
          "bar": [
           {
            "error_x": {
             "color": "#2a3f5f"
            },
            "error_y": {
             "color": "#2a3f5f"
            },
            "marker": {
             "line": {
              "color": "#E5ECF6",
              "width": 0.5
             },
             "pattern": {
              "fillmode": "overlay",
              "size": 10,
              "solidity": 0.2
             }
            },
            "type": "bar"
           }
          ],
          "barpolar": [
           {
            "marker": {
             "line": {
              "color": "#E5ECF6",
              "width": 0.5
             },
             "pattern": {
              "fillmode": "overlay",
              "size": 10,
              "solidity": 0.2
             }
            },
            "type": "barpolar"
           }
          ],
          "carpet": [
           {
            "aaxis": {
             "endlinecolor": "#2a3f5f",
             "gridcolor": "white",
             "linecolor": "white",
             "minorgridcolor": "white",
             "startlinecolor": "#2a3f5f"
            },
            "baxis": {
             "endlinecolor": "#2a3f5f",
             "gridcolor": "white",
             "linecolor": "white",
             "minorgridcolor": "white",
             "startlinecolor": "#2a3f5f"
            },
            "type": "carpet"
           }
          ],
          "choropleth": [
           {
            "colorbar": {
             "outlinewidth": 0,
             "ticks": ""
            },
            "type": "choropleth"
           }
          ],
          "contour": [
           {
            "colorbar": {
             "outlinewidth": 0,
             "ticks": ""
            },
            "colorscale": [
             [
              0,
              "#0d0887"
             ],
             [
              0.1111111111111111,
              "#46039f"
             ],
             [
              0.2222222222222222,
              "#7201a8"
             ],
             [
              0.3333333333333333,
              "#9c179e"
             ],
             [
              0.4444444444444444,
              "#bd3786"
             ],
             [
              0.5555555555555556,
              "#d8576b"
             ],
             [
              0.6666666666666666,
              "#ed7953"
             ],
             [
              0.7777777777777778,
              "#fb9f3a"
             ],
             [
              0.8888888888888888,
              "#fdca26"
             ],
             [
              1,
              "#f0f921"
             ]
            ],
            "type": "contour"
           }
          ],
          "contourcarpet": [
           {
            "colorbar": {
             "outlinewidth": 0,
             "ticks": ""
            },
            "type": "contourcarpet"
           }
          ],
          "heatmap": [
           {
            "colorbar": {
             "outlinewidth": 0,
             "ticks": ""
            },
            "colorscale": [
             [
              0,
              "#0d0887"
             ],
             [
              0.1111111111111111,
              "#46039f"
             ],
             [
              0.2222222222222222,
              "#7201a8"
             ],
             [
              0.3333333333333333,
              "#9c179e"
             ],
             [
              0.4444444444444444,
              "#bd3786"
             ],
             [
              0.5555555555555556,
              "#d8576b"
             ],
             [
              0.6666666666666666,
              "#ed7953"
             ],
             [
              0.7777777777777778,
              "#fb9f3a"
             ],
             [
              0.8888888888888888,
              "#fdca26"
             ],
             [
              1,
              "#f0f921"
             ]
            ],
            "type": "heatmap"
           }
          ],
          "heatmapgl": [
           {
            "colorbar": {
             "outlinewidth": 0,
             "ticks": ""
            },
            "colorscale": [
             [
              0,
              "#0d0887"
             ],
             [
              0.1111111111111111,
              "#46039f"
             ],
             [
              0.2222222222222222,
              "#7201a8"
             ],
             [
              0.3333333333333333,
              "#9c179e"
             ],
             [
              0.4444444444444444,
              "#bd3786"
             ],
             [
              0.5555555555555556,
              "#d8576b"
             ],
             [
              0.6666666666666666,
              "#ed7953"
             ],
             [
              0.7777777777777778,
              "#fb9f3a"
             ],
             [
              0.8888888888888888,
              "#fdca26"
             ],
             [
              1,
              "#f0f921"
             ]
            ],
            "type": "heatmapgl"
           }
          ],
          "histogram": [
           {
            "marker": {
             "pattern": {
              "fillmode": "overlay",
              "size": 10,
              "solidity": 0.2
             }
            },
            "type": "histogram"
           }
          ],
          "histogram2d": [
           {
            "colorbar": {
             "outlinewidth": 0,
             "ticks": ""
            },
            "colorscale": [
             [
              0,
              "#0d0887"
             ],
             [
              0.1111111111111111,
              "#46039f"
             ],
             [
              0.2222222222222222,
              "#7201a8"
             ],
             [
              0.3333333333333333,
              "#9c179e"
             ],
             [
              0.4444444444444444,
              "#bd3786"
             ],
             [
              0.5555555555555556,
              "#d8576b"
             ],
             [
              0.6666666666666666,
              "#ed7953"
             ],
             [
              0.7777777777777778,
              "#fb9f3a"
             ],
             [
              0.8888888888888888,
              "#fdca26"
             ],
             [
              1,
              "#f0f921"
             ]
            ],
            "type": "histogram2d"
           }
          ],
          "histogram2dcontour": [
           {
            "colorbar": {
             "outlinewidth": 0,
             "ticks": ""
            },
            "colorscale": [
             [
              0,
              "#0d0887"
             ],
             [
              0.1111111111111111,
              "#46039f"
             ],
             [
              0.2222222222222222,
              "#7201a8"
             ],
             [
              0.3333333333333333,
              "#9c179e"
             ],
             [
              0.4444444444444444,
              "#bd3786"
             ],
             [
              0.5555555555555556,
              "#d8576b"
             ],
             [
              0.6666666666666666,
              "#ed7953"
             ],
             [
              0.7777777777777778,
              "#fb9f3a"
             ],
             [
              0.8888888888888888,
              "#fdca26"
             ],
             [
              1,
              "#f0f921"
             ]
            ],
            "type": "histogram2dcontour"
           }
          ],
          "mesh3d": [
           {
            "colorbar": {
             "outlinewidth": 0,
             "ticks": ""
            },
            "type": "mesh3d"
           }
          ],
          "parcoords": [
           {
            "line": {
             "colorbar": {
              "outlinewidth": 0,
              "ticks": ""
             }
            },
            "type": "parcoords"
           }
          ],
          "pie": [
           {
            "automargin": true,
            "type": "pie"
           }
          ],
          "scatter": [
           {
            "fillpattern": {
             "fillmode": "overlay",
             "size": 10,
             "solidity": 0.2
            },
            "type": "scatter"
           }
          ],
          "scatter3d": [
           {
            "line": {
             "colorbar": {
              "outlinewidth": 0,
              "ticks": ""
             }
            },
            "marker": {
             "colorbar": {
              "outlinewidth": 0,
              "ticks": ""
             }
            },
            "type": "scatter3d"
           }
          ],
          "scattercarpet": [
           {
            "marker": {
             "colorbar": {
              "outlinewidth": 0,
              "ticks": ""
             }
            },
            "type": "scattercarpet"
           }
          ],
          "scattergeo": [
           {
            "marker": {
             "colorbar": {
              "outlinewidth": 0,
              "ticks": ""
             }
            },
            "type": "scattergeo"
           }
          ],
          "scattergl": [
           {
            "marker": {
             "colorbar": {
              "outlinewidth": 0,
              "ticks": ""
             }
            },
            "type": "scattergl"
           }
          ],
          "scattermapbox": [
           {
            "marker": {
             "colorbar": {
              "outlinewidth": 0,
              "ticks": ""
             }
            },
            "type": "scattermapbox"
           }
          ],
          "scatterpolar": [
           {
            "marker": {
             "colorbar": {
              "outlinewidth": 0,
              "ticks": ""
             }
            },
            "type": "scatterpolar"
           }
          ],
          "scatterpolargl": [
           {
            "marker": {
             "colorbar": {
              "outlinewidth": 0,
              "ticks": ""
             }
            },
            "type": "scatterpolargl"
           }
          ],
          "scatterternary": [
           {
            "marker": {
             "colorbar": {
              "outlinewidth": 0,
              "ticks": ""
             }
            },
            "type": "scatterternary"
           }
          ],
          "surface": [
           {
            "colorbar": {
             "outlinewidth": 0,
             "ticks": ""
            },
            "colorscale": [
             [
              0,
              "#0d0887"
             ],
             [
              0.1111111111111111,
              "#46039f"
             ],
             [
              0.2222222222222222,
              "#7201a8"
             ],
             [
              0.3333333333333333,
              "#9c179e"
             ],
             [
              0.4444444444444444,
              "#bd3786"
             ],
             [
              0.5555555555555556,
              "#d8576b"
             ],
             [
              0.6666666666666666,
              "#ed7953"
             ],
             [
              0.7777777777777778,
              "#fb9f3a"
             ],
             [
              0.8888888888888888,
              "#fdca26"
             ],
             [
              1,
              "#f0f921"
             ]
            ],
            "type": "surface"
           }
          ],
          "table": [
           {
            "cells": {
             "fill": {
              "color": "#EBF0F8"
             },
             "line": {
              "color": "white"
             }
            },
            "header": {
             "fill": {
              "color": "#C8D4E3"
             },
             "line": {
              "color": "white"
             }
            },
            "type": "table"
           }
          ]
         },
         "layout": {
          "annotationdefaults": {
           "arrowcolor": "#2a3f5f",
           "arrowhead": 0,
           "arrowwidth": 1
          },
          "autotypenumbers": "strict",
          "coloraxis": {
           "colorbar": {
            "outlinewidth": 0,
            "ticks": ""
           }
          },
          "colorscale": {
           "diverging": [
            [
             0,
             "#8e0152"
            ],
            [
             0.1,
             "#c51b7d"
            ],
            [
             0.2,
             "#de77ae"
            ],
            [
             0.3,
             "#f1b6da"
            ],
            [
             0.4,
             "#fde0ef"
            ],
            [
             0.5,
             "#f7f7f7"
            ],
            [
             0.6,
             "#e6f5d0"
            ],
            [
             0.7,
             "#b8e186"
            ],
            [
             0.8,
             "#7fbc41"
            ],
            [
             0.9,
             "#4d9221"
            ],
            [
             1,
             "#276419"
            ]
           ],
           "sequential": [
            [
             0,
             "#0d0887"
            ],
            [
             0.1111111111111111,
             "#46039f"
            ],
            [
             0.2222222222222222,
             "#7201a8"
            ],
            [
             0.3333333333333333,
             "#9c179e"
            ],
            [
             0.4444444444444444,
             "#bd3786"
            ],
            [
             0.5555555555555556,
             "#d8576b"
            ],
            [
             0.6666666666666666,
             "#ed7953"
            ],
            [
             0.7777777777777778,
             "#fb9f3a"
            ],
            [
             0.8888888888888888,
             "#fdca26"
            ],
            [
             1,
             "#f0f921"
            ]
           ],
           "sequentialminus": [
            [
             0,
             "#0d0887"
            ],
            [
             0.1111111111111111,
             "#46039f"
            ],
            [
             0.2222222222222222,
             "#7201a8"
            ],
            [
             0.3333333333333333,
             "#9c179e"
            ],
            [
             0.4444444444444444,
             "#bd3786"
            ],
            [
             0.5555555555555556,
             "#d8576b"
            ],
            [
             0.6666666666666666,
             "#ed7953"
            ],
            [
             0.7777777777777778,
             "#fb9f3a"
            ],
            [
             0.8888888888888888,
             "#fdca26"
            ],
            [
             1,
             "#f0f921"
            ]
           ]
          },
          "colorway": [
           "#636efa",
           "#EF553B",
           "#00cc96",
           "#ab63fa",
           "#FFA15A",
           "#19d3f3",
           "#FF6692",
           "#B6E880",
           "#FF97FF",
           "#FECB52"
          ],
          "font": {
           "color": "#2a3f5f"
          },
          "geo": {
           "bgcolor": "white",
           "lakecolor": "white",
           "landcolor": "#E5ECF6",
           "showlakes": true,
           "showland": true,
           "subunitcolor": "white"
          },
          "hoverlabel": {
           "align": "left"
          },
          "hovermode": "closest",
          "mapbox": {
           "style": "light"
          },
          "paper_bgcolor": "white",
          "plot_bgcolor": "#E5ECF6",
          "polar": {
           "angularaxis": {
            "gridcolor": "white",
            "linecolor": "white",
            "ticks": ""
           },
           "bgcolor": "#E5ECF6",
           "radialaxis": {
            "gridcolor": "white",
            "linecolor": "white",
            "ticks": ""
           }
          },
          "scene": {
           "xaxis": {
            "backgroundcolor": "#E5ECF6",
            "gridcolor": "white",
            "gridwidth": 2,
            "linecolor": "white",
            "showbackground": true,
            "ticks": "",
            "zerolinecolor": "white"
           },
           "yaxis": {
            "backgroundcolor": "#E5ECF6",
            "gridcolor": "white",
            "gridwidth": 2,
            "linecolor": "white",
            "showbackground": true,
            "ticks": "",
            "zerolinecolor": "white"
           },
           "zaxis": {
            "backgroundcolor": "#E5ECF6",
            "gridcolor": "white",
            "gridwidth": 2,
            "linecolor": "white",
            "showbackground": true,
            "ticks": "",
            "zerolinecolor": "white"
           }
          },
          "shapedefaults": {
           "line": {
            "color": "#2a3f5f"
           }
          },
          "ternary": {
           "aaxis": {
            "gridcolor": "white",
            "linecolor": "white",
            "ticks": ""
           },
           "baxis": {
            "gridcolor": "white",
            "linecolor": "white",
            "ticks": ""
           },
           "bgcolor": "#E5ECF6",
           "caxis": {
            "gridcolor": "white",
            "linecolor": "white",
            "ticks": ""
           }
          },
          "title": {
           "x": 0.05
          },
          "xaxis": {
           "automargin": true,
           "gridcolor": "white",
           "linecolor": "white",
           "ticks": "",
           "title": {
            "standoff": 15
           },
           "zerolinecolor": "white",
           "zerolinewidth": 2
          },
          "yaxis": {
           "automargin": true,
           "gridcolor": "white",
           "linecolor": "white",
           "ticks": "",
           "title": {
            "standoff": 15
           },
           "zerolinecolor": "white",
           "zerolinewidth": 2
          }
         }
        },
        "title": {
         "text": "Boxplot of Price"
        },
        "xaxis": {
         "anchor": "y",
         "domain": [
          0,
          1
         ]
        },
        "yaxis": {
         "anchor": "x",
         "domain": [
          0,
          1
         ],
         "title": {
          "text": "Price"
         }
        }
       }
      }
     },
     "metadata": {},
     "output_type": "display_data"
    },
    {
     "data": {
      "application/vnd.plotly.v1+json": {
       "config": {
        "plotlyServerURL": "https://plot.ly"
       },
       "data": [
        {
         "alignmentgroup": "True",
         "hovertemplate": "Change=%{y}<extra></extra>",
         "legendgroup": "",
         "marker": {
          "color": "#636efa"
         },
         "name": "",
         "notched": false,
         "offsetgroup": "",
         "orientation": "v",
         "showlegend": false,
         "type": "box",
         "x0": " ",
         "xaxis": "x",
         "y": [
          -0.25,
          -2.16,
          -3.18,
          -0.08,
          -0.09,
          -0.04,
          0.79,
          -0.03,
          0.05,
          -0.33,
          0.05,
          0.12,
          -0.01,
          -0.04,
          1.45,
          0.51,
          0.01,
          1.77,
          0.09,
          0.02,
          -0.35,
          -0.97,
          -0.54,
          0.65,
          -0.18,
          -2.14,
          -3.18,
          -0.1,
          -0.33,
          0.04,
          -0.33,
          -0.97,
          0.09,
          -2.15,
          -0.33,
          -0.35,
          -0.98,
          -0.38,
          0.66,
          -1.74,
          -3.03,
          -0.06,
          -0.31,
          0.05,
          -0.93,
          0.67,
          -1.73,
          -2,
          -0.31,
          0.06,
          -0.31,
          -0.91,
          -0.35,
          0.67,
          -1.6,
          -2.08,
          -0.63,
          -0.11,
          -0.31,
          0.06,
          -0.32,
          -0.91,
          -0.35,
          -1.6,
          -2.17,
          -0.63,
          -0.02,
          -0.31,
          0.51,
          -0.33,
          -0.92,
          -2.17,
          -0.63,
          -0.02,
          -0.27,
          -0.31,
          0.03,
          -0.33,
          -0.93,
          0.03,
          -1.69,
          -2.26,
          -0.65,
          -0.12,
          -0.26,
          -0.32,
          -0.03,
          -0.36,
          -0.93,
          0.03,
          -1.69,
          -0.65,
          -0.12,
          -0.3,
          8.49,
          -0.33,
          -0.33,
          0.07,
          -1.67,
          -0.63,
          -0.28,
          8.97,
          0.02,
          -0.31,
          1.44,
          0.06,
          -0.35,
          -0.92,
          -0.41,
          -1.67,
          -0.63,
          -0.24,
          -0.28,
          8.97,
          1.32,
          1.45,
          -0.36,
          -0.92,
          -0.41,
          0.69,
          -0.64,
          -0.24,
          -0.28,
          1.32,
          0,
          -0.37,
          -0.92,
          0.68,
          -2.48,
          -0.25,
          -0.34,
          1.33,
          -0.05,
          -0.01,
          -0.35,
          -0.93,
          0.68,
          -2.54,
          -0.2,
          -0.24,
          -0.34,
          1.33,
          -0.05,
          -1.79,
          0.05,
          -0.34,
          -2.54,
          -0.03,
          1.44,
          0.05,
          -0.34,
          -0.64,
          -0.23,
          -0.31,
          1.34,
          0.07,
          0.51,
          0.13,
          -0.35,
          0.65,
          -0.64,
          -0.13,
          8.77,
          1.33,
          -0.03,
          -0.91,
          -0.63,
          -0.13,
          8.91,
          1.33,
          -0.01,
          -0.33,
          -0.93,
          0.66,
          -2.38,
          -0.64,
          -0.19,
          -0.22,
          8.91,
          1.31,
          -0.02,
          -0.07,
          -2.38,
          -0.65,
          -0.19,
          1.3,
          -0.02,
          -0.08,
          -0.93,
          -0.64,
          8.82,
          1.32,
          -0.01,
          -1.72,
          -0.22,
          -0.29,
          8.82,
          1.33,
          -1.84,
          -0.01,
          -1.81,
          -0.22,
          -0.29,
          0.04,
          0.1,
          -0.03,
          -0.05,
          0.2,
          1.35,
          -0.01,
          0.21,
          -1.76,
          -0.19,
          -0.28,
          1.35,
          -0.01,
          -2.1,
          -1.82,
          -0.17,
          1.34,
          0.02,
          -1.9,
          -2.12,
          -0.09,
          -1.92,
          -0.64,
          -0.29,
          8.61,
          1.33,
          0.02,
          -0.02,
          -2.1,
          0.22,
          -0.64,
          -0.21,
          -0.26,
          -0.27,
          -1.83,
          0,
          0.05,
          -2.08,
          0.07,
          -0.62,
          1.35,
          0,
          0.1,
          -2.12,
          0.28,
          -0.16,
          -0.22,
          -0.16,
          8.48,
          1.41,
          0.06,
          -1.77,
          -0.02,
          0.07,
          -2.06,
          0.28,
          1.07,
          1.42,
          -1.72,
          -0.02,
          0.18,
          -2.05,
          1.15,
          0.18,
          -0.13,
          8.69,
          1.43,
          -1.62,
          0.11,
          -2.06,
          1.12,
          0.18,
          -0.32,
          8.37,
          1.41,
          0.07,
          -1.76,
          0.05,
          -2.06,
          0.04,
          1.01,
          0.14,
          -0.03,
          1.39,
          0.01,
          -1.76,
          0.05,
          0.04,
          1.01,
          0.14,
          -0.01,
          0.04,
          0.06,
          -2.07,
          0.99,
          -0.04,
          -0.01,
          -0.01,
          0.04,
          0.04,
          -2.1,
          -0.04,
          -0.01,
          -0.08,
          -0.01,
          -1.78,
          0.07,
          -0.02,
          0.2,
          -2.1,
          1.05,
          -0.01,
          -1.73,
          -0.02,
          0.07,
          -0.04,
          -2.07,
          1.13,
          0.15,
          -0.04,
          0.09,
          -0.01,
          -0.04,
          0.15,
          1.1,
          0.15,
          0.09,
          0.17,
          0.13,
          -2.06,
          1.1,
          -0.87,
          0.14,
          -2.06,
          0.21,
          0.15,
          0.05,
          -0.88,
          0.01,
          0.1,
          -0.01,
          0.15,
          -2.08,
          0.15,
          0.05,
          -0.03,
          -0.89,
          0.01,
          0.36,
          -0.02,
          0.14,
          1.04,
          0.09,
          -0.35,
          -0.03,
          -0.01,
          -0.1,
          -0.03,
          -0.9,
          0.01,
          0.08,
          -2.16,
          0.14,
          0.98,
          0.04,
          -0.36,
          -0.03,
          -0.1,
          -0.9,
          0.01,
          0.08,
          0.16,
          -2.21,
          0.04,
          0.24,
          0.19,
          -1.61,
          -2.22,
          0.96,
          -0.91,
          0.24,
          0.2,
          -1.61,
          0.02,
          0.93,
          0.11,
          0.02,
          -0.93,
          0.18,
          0.21,
          -1.6,
          0.05,
          -2.22,
          0.96,
          0.02,
          -0.02,
          -0.03,
          -0.93,
          0.18,
          0.21,
          -1.56,
          0.04,
          0.22,
          -2.22,
          0.9,
          0.07,
          -0.04,
          0.16,
          -0.02,
          -0.93,
          -1.56,
          0.04,
          0.04,
          0.1,
          0.16,
          -0.01,
          -0.09,
          -0.95,
          0.24,
          -1.52,
          0.04,
          -0.97
         ],
         "y0": " ",
         "yaxis": "y"
        }
       ],
       "layout": {
        "boxmode": "group",
        "legend": {
         "tracegroupgap": 0
        },
        "template": {
         "data": {
          "bar": [
           {
            "error_x": {
             "color": "#2a3f5f"
            },
            "error_y": {
             "color": "#2a3f5f"
            },
            "marker": {
             "line": {
              "color": "#E5ECF6",
              "width": 0.5
             },
             "pattern": {
              "fillmode": "overlay",
              "size": 10,
              "solidity": 0.2
             }
            },
            "type": "bar"
           }
          ],
          "barpolar": [
           {
            "marker": {
             "line": {
              "color": "#E5ECF6",
              "width": 0.5
             },
             "pattern": {
              "fillmode": "overlay",
              "size": 10,
              "solidity": 0.2
             }
            },
            "type": "barpolar"
           }
          ],
          "carpet": [
           {
            "aaxis": {
             "endlinecolor": "#2a3f5f",
             "gridcolor": "white",
             "linecolor": "white",
             "minorgridcolor": "white",
             "startlinecolor": "#2a3f5f"
            },
            "baxis": {
             "endlinecolor": "#2a3f5f",
             "gridcolor": "white",
             "linecolor": "white",
             "minorgridcolor": "white",
             "startlinecolor": "#2a3f5f"
            },
            "type": "carpet"
           }
          ],
          "choropleth": [
           {
            "colorbar": {
             "outlinewidth": 0,
             "ticks": ""
            },
            "type": "choropleth"
           }
          ],
          "contour": [
           {
            "colorbar": {
             "outlinewidth": 0,
             "ticks": ""
            },
            "colorscale": [
             [
              0,
              "#0d0887"
             ],
             [
              0.1111111111111111,
              "#46039f"
             ],
             [
              0.2222222222222222,
              "#7201a8"
             ],
             [
              0.3333333333333333,
              "#9c179e"
             ],
             [
              0.4444444444444444,
              "#bd3786"
             ],
             [
              0.5555555555555556,
              "#d8576b"
             ],
             [
              0.6666666666666666,
              "#ed7953"
             ],
             [
              0.7777777777777778,
              "#fb9f3a"
             ],
             [
              0.8888888888888888,
              "#fdca26"
             ],
             [
              1,
              "#f0f921"
             ]
            ],
            "type": "contour"
           }
          ],
          "contourcarpet": [
           {
            "colorbar": {
             "outlinewidth": 0,
             "ticks": ""
            },
            "type": "contourcarpet"
           }
          ],
          "heatmap": [
           {
            "colorbar": {
             "outlinewidth": 0,
             "ticks": ""
            },
            "colorscale": [
             [
              0,
              "#0d0887"
             ],
             [
              0.1111111111111111,
              "#46039f"
             ],
             [
              0.2222222222222222,
              "#7201a8"
             ],
             [
              0.3333333333333333,
              "#9c179e"
             ],
             [
              0.4444444444444444,
              "#bd3786"
             ],
             [
              0.5555555555555556,
              "#d8576b"
             ],
             [
              0.6666666666666666,
              "#ed7953"
             ],
             [
              0.7777777777777778,
              "#fb9f3a"
             ],
             [
              0.8888888888888888,
              "#fdca26"
             ],
             [
              1,
              "#f0f921"
             ]
            ],
            "type": "heatmap"
           }
          ],
          "heatmapgl": [
           {
            "colorbar": {
             "outlinewidth": 0,
             "ticks": ""
            },
            "colorscale": [
             [
              0,
              "#0d0887"
             ],
             [
              0.1111111111111111,
              "#46039f"
             ],
             [
              0.2222222222222222,
              "#7201a8"
             ],
             [
              0.3333333333333333,
              "#9c179e"
             ],
             [
              0.4444444444444444,
              "#bd3786"
             ],
             [
              0.5555555555555556,
              "#d8576b"
             ],
             [
              0.6666666666666666,
              "#ed7953"
             ],
             [
              0.7777777777777778,
              "#fb9f3a"
             ],
             [
              0.8888888888888888,
              "#fdca26"
             ],
             [
              1,
              "#f0f921"
             ]
            ],
            "type": "heatmapgl"
           }
          ],
          "histogram": [
           {
            "marker": {
             "pattern": {
              "fillmode": "overlay",
              "size": 10,
              "solidity": 0.2
             }
            },
            "type": "histogram"
           }
          ],
          "histogram2d": [
           {
            "colorbar": {
             "outlinewidth": 0,
             "ticks": ""
            },
            "colorscale": [
             [
              0,
              "#0d0887"
             ],
             [
              0.1111111111111111,
              "#46039f"
             ],
             [
              0.2222222222222222,
              "#7201a8"
             ],
             [
              0.3333333333333333,
              "#9c179e"
             ],
             [
              0.4444444444444444,
              "#bd3786"
             ],
             [
              0.5555555555555556,
              "#d8576b"
             ],
             [
              0.6666666666666666,
              "#ed7953"
             ],
             [
              0.7777777777777778,
              "#fb9f3a"
             ],
             [
              0.8888888888888888,
              "#fdca26"
             ],
             [
              1,
              "#f0f921"
             ]
            ],
            "type": "histogram2d"
           }
          ],
          "histogram2dcontour": [
           {
            "colorbar": {
             "outlinewidth": 0,
             "ticks": ""
            },
            "colorscale": [
             [
              0,
              "#0d0887"
             ],
             [
              0.1111111111111111,
              "#46039f"
             ],
             [
              0.2222222222222222,
              "#7201a8"
             ],
             [
              0.3333333333333333,
              "#9c179e"
             ],
             [
              0.4444444444444444,
              "#bd3786"
             ],
             [
              0.5555555555555556,
              "#d8576b"
             ],
             [
              0.6666666666666666,
              "#ed7953"
             ],
             [
              0.7777777777777778,
              "#fb9f3a"
             ],
             [
              0.8888888888888888,
              "#fdca26"
             ],
             [
              1,
              "#f0f921"
             ]
            ],
            "type": "histogram2dcontour"
           }
          ],
          "mesh3d": [
           {
            "colorbar": {
             "outlinewidth": 0,
             "ticks": ""
            },
            "type": "mesh3d"
           }
          ],
          "parcoords": [
           {
            "line": {
             "colorbar": {
              "outlinewidth": 0,
              "ticks": ""
             }
            },
            "type": "parcoords"
           }
          ],
          "pie": [
           {
            "automargin": true,
            "type": "pie"
           }
          ],
          "scatter": [
           {
            "fillpattern": {
             "fillmode": "overlay",
             "size": 10,
             "solidity": 0.2
            },
            "type": "scatter"
           }
          ],
          "scatter3d": [
           {
            "line": {
             "colorbar": {
              "outlinewidth": 0,
              "ticks": ""
             }
            },
            "marker": {
             "colorbar": {
              "outlinewidth": 0,
              "ticks": ""
             }
            },
            "type": "scatter3d"
           }
          ],
          "scattercarpet": [
           {
            "marker": {
             "colorbar": {
              "outlinewidth": 0,
              "ticks": ""
             }
            },
            "type": "scattercarpet"
           }
          ],
          "scattergeo": [
           {
            "marker": {
             "colorbar": {
              "outlinewidth": 0,
              "ticks": ""
             }
            },
            "type": "scattergeo"
           }
          ],
          "scattergl": [
           {
            "marker": {
             "colorbar": {
              "outlinewidth": 0,
              "ticks": ""
             }
            },
            "type": "scattergl"
           }
          ],
          "scattermapbox": [
           {
            "marker": {
             "colorbar": {
              "outlinewidth": 0,
              "ticks": ""
             }
            },
            "type": "scattermapbox"
           }
          ],
          "scatterpolar": [
           {
            "marker": {
             "colorbar": {
              "outlinewidth": 0,
              "ticks": ""
             }
            },
            "type": "scatterpolar"
           }
          ],
          "scatterpolargl": [
           {
            "marker": {
             "colorbar": {
              "outlinewidth": 0,
              "ticks": ""
             }
            },
            "type": "scatterpolargl"
           }
          ],
          "scatterternary": [
           {
            "marker": {
             "colorbar": {
              "outlinewidth": 0,
              "ticks": ""
             }
            },
            "type": "scatterternary"
           }
          ],
          "surface": [
           {
            "colorbar": {
             "outlinewidth": 0,
             "ticks": ""
            },
            "colorscale": [
             [
              0,
              "#0d0887"
             ],
             [
              0.1111111111111111,
              "#46039f"
             ],
             [
              0.2222222222222222,
              "#7201a8"
             ],
             [
              0.3333333333333333,
              "#9c179e"
             ],
             [
              0.4444444444444444,
              "#bd3786"
             ],
             [
              0.5555555555555556,
              "#d8576b"
             ],
             [
              0.6666666666666666,
              "#ed7953"
             ],
             [
              0.7777777777777778,
              "#fb9f3a"
             ],
             [
              0.8888888888888888,
              "#fdca26"
             ],
             [
              1,
              "#f0f921"
             ]
            ],
            "type": "surface"
           }
          ],
          "table": [
           {
            "cells": {
             "fill": {
              "color": "#EBF0F8"
             },
             "line": {
              "color": "white"
             }
            },
            "header": {
             "fill": {
              "color": "#C8D4E3"
             },
             "line": {
              "color": "white"
             }
            },
            "type": "table"
           }
          ]
         },
         "layout": {
          "annotationdefaults": {
           "arrowcolor": "#2a3f5f",
           "arrowhead": 0,
           "arrowwidth": 1
          },
          "autotypenumbers": "strict",
          "coloraxis": {
           "colorbar": {
            "outlinewidth": 0,
            "ticks": ""
           }
          },
          "colorscale": {
           "diverging": [
            [
             0,
             "#8e0152"
            ],
            [
             0.1,
             "#c51b7d"
            ],
            [
             0.2,
             "#de77ae"
            ],
            [
             0.3,
             "#f1b6da"
            ],
            [
             0.4,
             "#fde0ef"
            ],
            [
             0.5,
             "#f7f7f7"
            ],
            [
             0.6,
             "#e6f5d0"
            ],
            [
             0.7,
             "#b8e186"
            ],
            [
             0.8,
             "#7fbc41"
            ],
            [
             0.9,
             "#4d9221"
            ],
            [
             1,
             "#276419"
            ]
           ],
           "sequential": [
            [
             0,
             "#0d0887"
            ],
            [
             0.1111111111111111,
             "#46039f"
            ],
            [
             0.2222222222222222,
             "#7201a8"
            ],
            [
             0.3333333333333333,
             "#9c179e"
            ],
            [
             0.4444444444444444,
             "#bd3786"
            ],
            [
             0.5555555555555556,
             "#d8576b"
            ],
            [
             0.6666666666666666,
             "#ed7953"
            ],
            [
             0.7777777777777778,
             "#fb9f3a"
            ],
            [
             0.8888888888888888,
             "#fdca26"
            ],
            [
             1,
             "#f0f921"
            ]
           ],
           "sequentialminus": [
            [
             0,
             "#0d0887"
            ],
            [
             0.1111111111111111,
             "#46039f"
            ],
            [
             0.2222222222222222,
             "#7201a8"
            ],
            [
             0.3333333333333333,
             "#9c179e"
            ],
            [
             0.4444444444444444,
             "#bd3786"
            ],
            [
             0.5555555555555556,
             "#d8576b"
            ],
            [
             0.6666666666666666,
             "#ed7953"
            ],
            [
             0.7777777777777778,
             "#fb9f3a"
            ],
            [
             0.8888888888888888,
             "#fdca26"
            ],
            [
             1,
             "#f0f921"
            ]
           ]
          },
          "colorway": [
           "#636efa",
           "#EF553B",
           "#00cc96",
           "#ab63fa",
           "#FFA15A",
           "#19d3f3",
           "#FF6692",
           "#B6E880",
           "#FF97FF",
           "#FECB52"
          ],
          "font": {
           "color": "#2a3f5f"
          },
          "geo": {
           "bgcolor": "white",
           "lakecolor": "white",
           "landcolor": "#E5ECF6",
           "showlakes": true,
           "showland": true,
           "subunitcolor": "white"
          },
          "hoverlabel": {
           "align": "left"
          },
          "hovermode": "closest",
          "mapbox": {
           "style": "light"
          },
          "paper_bgcolor": "white",
          "plot_bgcolor": "#E5ECF6",
          "polar": {
           "angularaxis": {
            "gridcolor": "white",
            "linecolor": "white",
            "ticks": ""
           },
           "bgcolor": "#E5ECF6",
           "radialaxis": {
            "gridcolor": "white",
            "linecolor": "white",
            "ticks": ""
           }
          },
          "scene": {
           "xaxis": {
            "backgroundcolor": "#E5ECF6",
            "gridcolor": "white",
            "gridwidth": 2,
            "linecolor": "white",
            "showbackground": true,
            "ticks": "",
            "zerolinecolor": "white"
           },
           "yaxis": {
            "backgroundcolor": "#E5ECF6",
            "gridcolor": "white",
            "gridwidth": 2,
            "linecolor": "white",
            "showbackground": true,
            "ticks": "",
            "zerolinecolor": "white"
           },
           "zaxis": {
            "backgroundcolor": "#E5ECF6",
            "gridcolor": "white",
            "gridwidth": 2,
            "linecolor": "white",
            "showbackground": true,
            "ticks": "",
            "zerolinecolor": "white"
           }
          },
          "shapedefaults": {
           "line": {
            "color": "#2a3f5f"
           }
          },
          "ternary": {
           "aaxis": {
            "gridcolor": "white",
            "linecolor": "white",
            "ticks": ""
           },
           "baxis": {
            "gridcolor": "white",
            "linecolor": "white",
            "ticks": ""
           },
           "bgcolor": "#E5ECF6",
           "caxis": {
            "gridcolor": "white",
            "linecolor": "white",
            "ticks": ""
           }
          },
          "title": {
           "x": 0.05
          },
          "xaxis": {
           "automargin": true,
           "gridcolor": "white",
           "linecolor": "white",
           "ticks": "",
           "title": {
            "standoff": 15
           },
           "zerolinecolor": "white",
           "zerolinewidth": 2
          },
          "yaxis": {
           "automargin": true,
           "gridcolor": "white",
           "linecolor": "white",
           "ticks": "",
           "title": {
            "standoff": 15
           },
           "zerolinecolor": "white",
           "zerolinewidth": 2
          }
         }
        },
        "title": {
         "text": "Boxplot of Change"
        },
        "xaxis": {
         "anchor": "y",
         "domain": [
          0,
          1
         ]
        },
        "yaxis": {
         "anchor": "x",
         "domain": [
          0,
          1
         ],
         "title": {
          "text": "Change"
         }
        }
       }
      }
     },
     "metadata": {},
     "output_type": "display_data"
    },
    {
     "data": {
      "application/vnd.plotly.v1+json": {
       "config": {
        "plotlyServerURL": "https://plot.ly"
       },
       "data": [
        {
         "alignmentgroup": "True",
         "hovertemplate": "Market Cap=%{y}<extra></extra>",
         "legendgroup": "",
         "marker": {
          "color": "#636efa"
         },
         "name": "",
         "notched": false,
         "offsetgroup": "",
         "orientation": "v",
         "showlegend": false,
         "type": "box",
         "x0": " ",
         "xaxis": "x",
         "y": [
          483304000000,
          392325000000,
          359338000000,
          326427000000,
          328207000000,
          244596000000,
          0,
          270350000000.00003,
          269812000000,
          215526000000,
          248946000000,
          239340000000,
          240083000000,
          245183000000,
          201039000000,
          186022000000,
          182577000000,
          178136000000,
          143582000000,
          151092000000,
          139170000000,
          141079000000,
          133217000000.00002,
          126149000000,
          483440000000,
          392560000000,
          359499000000,
          328076000000,
          215605000000,
          182822000000,
          139221000000,
          141116000000,
          123026000000,
          392530000000,
          215644000000,
          139229000000,
          141154000000,
          133442000000,
          126149000000,
          106714000000,
          359463000000,
          326693000000,
          215609000000,
          151092000000,
          141116000000,
          126158000000,
          106774000000,
          114939000000,
          215799000000,
          151193000000,
          139263000000,
          141286000000,
          133442000000,
          126186000000,
          106777000000,
          114939000000,
          88976000000,
          327945000000,
          215844000000,
          151233000000,
          139289000000,
          141362000000,
          133484000000.00002,
          106821000000,
          114923000000,
          89006000000,
          110512000000,
          215779000000,
          186047000000,
          139280000000,
          141362000000,
          114885000000,
          89025000000,
          110490000000,
          111861000000,
          215758000000,
          182822000000,
          139263000000,
          141343000000,
          123026000000,
          106821000000,
          114856000000,
          89016000000,
          110445000000,
          98916000000,
          215725000000,
          245281000000,
          139229000000,
          141305000000,
          122598000000,
          106791000000,
          88996000000,
          110419000000,
          98910000000,
          98457000000,
          215679000000,
          139212000000,
          122883000000,
          106741000000,
          88986000000,
          98868000000,
          98412000000,
          94477000000,
          215765000000,
          201039000000,
          151213000000,
          139263000000,
          141305000000,
          133470000000,
          106798000000,
          89035000000,
          111861000000,
          98892000000,
          98484000000,
          88940000000,
          201015000000,
          139212000000,
          141343000000,
          133401999999.99998,
          126223000000,
          89025000000,
          111919000000,
          98886000000,
          88936000000,
          89234000000,
          139212000000,
          141343000000,
          126223000000,
          114856000000,
          111900000000,
          98856000000,
          88932000000,
          89234000000,
          68303000000,
          139204000000,
          141324000000,
          126205000000,
          114785000000,
          110356000000,
          111900000000,
          98821000000,
          88945000000,
          89208000000,
          82668000000,
          151233000000,
          139246000000,
          114768000000,
          66271000000,
          200937000000,
          151193000000,
          139238000000,
          89055000000,
          111937000000,
          98850000000,
          88990000000,
          63275000000,
          186010000000,
          143782000000,
          139246000000,
          126147000000,
          89020000000,
          110356000000,
          98472000000,
          88972000000,
          80086000000,
          141381000000,
          89020000000,
          110408000000,
          98454000000,
          88958000000,
          64830000000,
          139246000000,
          141362000000,
          126167000000,
          114830000000,
          88996000000,
          110378000000,
          111953000000,
          98475000000,
          88954000000,
          89208000000,
          79133000000,
          114818000000,
          89006000000,
          110367000000,
          88927000000,
          89223000000,
          63064000000,
          141286000000,
          89006000000,
          98475000000,
          88900000000,
          63647000000,
          106781000000,
          110367000000,
          98892000000,
          98461000000,
          88936000000,
          82647000000,
          78042000000,
          106751000000,
          110341000000,
          98880000000,
          89253000000,
          63353000000,
          80051000000,
          79145000000,
          74004000000,
          88970000000,
          79145000000,
          73350000000,
          106767000000,
          110341000000,
          98898000000,
          88999000000,
          79171000000,
          72440000000,
          106747000000,
          110378000000,
          88972000000,
          89253000000,
          82623000000,
          72435000000,
          72085000000,
          106714000000,
          89016000000,
          98898000000,
          98430000000,
          88954000000,
          89243000000,
          79145000000,
          72411000000,
          71974000000,
          89013000000,
          110348000000,
          111888000000,
          98904000000,
          82650000000,
          64830000000,
          79162000000,
          72435000000,
          69930000000,
          89045000000,
          88990000000,
          64869000000,
          79215000000,
          72440000000,
          68501000000.00001,
          110386000000,
          111965000000,
          99035000000,
          98410000000,
          89099000000,
          89263000000,
          82674000000,
          80103000000,
          79215000000,
          72475000000,
          68525000000.00001,
          67066000000,
          89099000000,
          82679000000,
          80120000000,
          79215000000,
          72475000000,
          67047000000,
          60656000000,
          99071000000,
          98442000000,
          89135000000,
          82737000000,
          79239000000,
          72487000000,
          67066000000,
          60684000000,
          58486000000,
          98394000000,
          89090000000,
          89267000000,
          82737000000,
          79239000000,
          72499000000,
          68525000000.00001,
          67066000000,
          60681000000,
          59544000000,
          89054000000,
          89238000000,
          82679000000,
          79204000000,
          68476000000,
          67026000000,
          60659000000,
          56997000000,
          63353000000,
          79210000000,
          72487000000,
          67019000000.00001,
          59544000000,
          56990000000,
          56642000000,
          63197000000,
          79198000000,
          72470000000,
          59516000000,
          56610000000,
          61785000000,
          68313999999.99999,
          82670000000,
          79192000000,
          78034000000,
          73315000000,
          72429000000,
          67041000000,
          56990000000,
          82670000000,
          66298000000,
          79216000000,
          63166000000,
          72417000000,
          67052000000.00001,
          60659000000,
          59524000000,
          56990000000,
          56608000000,
          53016000000,
          79233000000,
          67072999999.99999,
          60667000000,
          57008000000,
          50392000000,
          79251000000,
          72464000000,
          67057000000,
          49597000000,
          73102000000,
          72470000000,
          71940000000,
          68476000000,
          57008000000,
          49581000000,
          45797000000,
          79233000000,
          78103000000,
          73137000000,
          72452000000,
          68498000000.00001,
          57001000000,
          53016000000,
          49573000000,
          45815000000,
          46528000000,
          77987000000,
          68498000000.00001,
          67037000000.00001,
          60634000000,
          58486000000,
          59524000000,
          56617000000,
          61785000000,
          53106000000,
          49565000000,
          45815000000,
          45383000000,
          72400000000,
          68495999999.99999,
          67015000000,
          60628000000,
          58438000000,
          59529000000,
          61771000000,
          49540000000,
          45797000000,
          45420000000,
          45410000000,
          72300000000,
          60606000000,
          46528000000,
          45394000000,
          45509000000,
          72295000000,
          67007999999.99999,
          49532000000,
          46502000000,
          45449000000,
          45517000000,
          44115000000,
          66998999999.99999,
          60645000000,
          57001000000,
          49524000000,
          46502000000,
          45472000000,
          45517000000,
          43009000000,
          72289000000,
          67006000000,
          56995000000,
          56617000000,
          53065000000,
          49499000000,
          46489000000,
          45480000000,
          45542000000,
          43009000000,
          42691000000,
          72283000000,
          66986000000.00001,
          60622000000,
          59515000000,
          56995000000,
          56590000000,
          49491000000,
          45538000000,
          42980000000,
          42184000000,
          60622000000,
          57021000000,
          56590000000,
          61771000000,
          49475000000,
          45496000000,
          45538000000,
          42985000000,
          42240000000
         ],
         "y0": " ",
         "yaxis": "y"
        }
       ],
       "layout": {
        "boxmode": "group",
        "legend": {
         "tracegroupgap": 0
        },
        "template": {
         "data": {
          "bar": [
           {
            "error_x": {
             "color": "#2a3f5f"
            },
            "error_y": {
             "color": "#2a3f5f"
            },
            "marker": {
             "line": {
              "color": "#E5ECF6",
              "width": 0.5
             },
             "pattern": {
              "fillmode": "overlay",
              "size": 10,
              "solidity": 0.2
             }
            },
            "type": "bar"
           }
          ],
          "barpolar": [
           {
            "marker": {
             "line": {
              "color": "#E5ECF6",
              "width": 0.5
             },
             "pattern": {
              "fillmode": "overlay",
              "size": 10,
              "solidity": 0.2
             }
            },
            "type": "barpolar"
           }
          ],
          "carpet": [
           {
            "aaxis": {
             "endlinecolor": "#2a3f5f",
             "gridcolor": "white",
             "linecolor": "white",
             "minorgridcolor": "white",
             "startlinecolor": "#2a3f5f"
            },
            "baxis": {
             "endlinecolor": "#2a3f5f",
             "gridcolor": "white",
             "linecolor": "white",
             "minorgridcolor": "white",
             "startlinecolor": "#2a3f5f"
            },
            "type": "carpet"
           }
          ],
          "choropleth": [
           {
            "colorbar": {
             "outlinewidth": 0,
             "ticks": ""
            },
            "type": "choropleth"
           }
          ],
          "contour": [
           {
            "colorbar": {
             "outlinewidth": 0,
             "ticks": ""
            },
            "colorscale": [
             [
              0,
              "#0d0887"
             ],
             [
              0.1111111111111111,
              "#46039f"
             ],
             [
              0.2222222222222222,
              "#7201a8"
             ],
             [
              0.3333333333333333,
              "#9c179e"
             ],
             [
              0.4444444444444444,
              "#bd3786"
             ],
             [
              0.5555555555555556,
              "#d8576b"
             ],
             [
              0.6666666666666666,
              "#ed7953"
             ],
             [
              0.7777777777777778,
              "#fb9f3a"
             ],
             [
              0.8888888888888888,
              "#fdca26"
             ],
             [
              1,
              "#f0f921"
             ]
            ],
            "type": "contour"
           }
          ],
          "contourcarpet": [
           {
            "colorbar": {
             "outlinewidth": 0,
             "ticks": ""
            },
            "type": "contourcarpet"
           }
          ],
          "heatmap": [
           {
            "colorbar": {
             "outlinewidth": 0,
             "ticks": ""
            },
            "colorscale": [
             [
              0,
              "#0d0887"
             ],
             [
              0.1111111111111111,
              "#46039f"
             ],
             [
              0.2222222222222222,
              "#7201a8"
             ],
             [
              0.3333333333333333,
              "#9c179e"
             ],
             [
              0.4444444444444444,
              "#bd3786"
             ],
             [
              0.5555555555555556,
              "#d8576b"
             ],
             [
              0.6666666666666666,
              "#ed7953"
             ],
             [
              0.7777777777777778,
              "#fb9f3a"
             ],
             [
              0.8888888888888888,
              "#fdca26"
             ],
             [
              1,
              "#f0f921"
             ]
            ],
            "type": "heatmap"
           }
          ],
          "heatmapgl": [
           {
            "colorbar": {
             "outlinewidth": 0,
             "ticks": ""
            },
            "colorscale": [
             [
              0,
              "#0d0887"
             ],
             [
              0.1111111111111111,
              "#46039f"
             ],
             [
              0.2222222222222222,
              "#7201a8"
             ],
             [
              0.3333333333333333,
              "#9c179e"
             ],
             [
              0.4444444444444444,
              "#bd3786"
             ],
             [
              0.5555555555555556,
              "#d8576b"
             ],
             [
              0.6666666666666666,
              "#ed7953"
             ],
             [
              0.7777777777777778,
              "#fb9f3a"
             ],
             [
              0.8888888888888888,
              "#fdca26"
             ],
             [
              1,
              "#f0f921"
             ]
            ],
            "type": "heatmapgl"
           }
          ],
          "histogram": [
           {
            "marker": {
             "pattern": {
              "fillmode": "overlay",
              "size": 10,
              "solidity": 0.2
             }
            },
            "type": "histogram"
           }
          ],
          "histogram2d": [
           {
            "colorbar": {
             "outlinewidth": 0,
             "ticks": ""
            },
            "colorscale": [
             [
              0,
              "#0d0887"
             ],
             [
              0.1111111111111111,
              "#46039f"
             ],
             [
              0.2222222222222222,
              "#7201a8"
             ],
             [
              0.3333333333333333,
              "#9c179e"
             ],
             [
              0.4444444444444444,
              "#bd3786"
             ],
             [
              0.5555555555555556,
              "#d8576b"
             ],
             [
              0.6666666666666666,
              "#ed7953"
             ],
             [
              0.7777777777777778,
              "#fb9f3a"
             ],
             [
              0.8888888888888888,
              "#fdca26"
             ],
             [
              1,
              "#f0f921"
             ]
            ],
            "type": "histogram2d"
           }
          ],
          "histogram2dcontour": [
           {
            "colorbar": {
             "outlinewidth": 0,
             "ticks": ""
            },
            "colorscale": [
             [
              0,
              "#0d0887"
             ],
             [
              0.1111111111111111,
              "#46039f"
             ],
             [
              0.2222222222222222,
              "#7201a8"
             ],
             [
              0.3333333333333333,
              "#9c179e"
             ],
             [
              0.4444444444444444,
              "#bd3786"
             ],
             [
              0.5555555555555556,
              "#d8576b"
             ],
             [
              0.6666666666666666,
              "#ed7953"
             ],
             [
              0.7777777777777778,
              "#fb9f3a"
             ],
             [
              0.8888888888888888,
              "#fdca26"
             ],
             [
              1,
              "#f0f921"
             ]
            ],
            "type": "histogram2dcontour"
           }
          ],
          "mesh3d": [
           {
            "colorbar": {
             "outlinewidth": 0,
             "ticks": ""
            },
            "type": "mesh3d"
           }
          ],
          "parcoords": [
           {
            "line": {
             "colorbar": {
              "outlinewidth": 0,
              "ticks": ""
             }
            },
            "type": "parcoords"
           }
          ],
          "pie": [
           {
            "automargin": true,
            "type": "pie"
           }
          ],
          "scatter": [
           {
            "fillpattern": {
             "fillmode": "overlay",
             "size": 10,
             "solidity": 0.2
            },
            "type": "scatter"
           }
          ],
          "scatter3d": [
           {
            "line": {
             "colorbar": {
              "outlinewidth": 0,
              "ticks": ""
             }
            },
            "marker": {
             "colorbar": {
              "outlinewidth": 0,
              "ticks": ""
             }
            },
            "type": "scatter3d"
           }
          ],
          "scattercarpet": [
           {
            "marker": {
             "colorbar": {
              "outlinewidth": 0,
              "ticks": ""
             }
            },
            "type": "scattercarpet"
           }
          ],
          "scattergeo": [
           {
            "marker": {
             "colorbar": {
              "outlinewidth": 0,
              "ticks": ""
             }
            },
            "type": "scattergeo"
           }
          ],
          "scattergl": [
           {
            "marker": {
             "colorbar": {
              "outlinewidth": 0,
              "ticks": ""
             }
            },
            "type": "scattergl"
           }
          ],
          "scattermapbox": [
           {
            "marker": {
             "colorbar": {
              "outlinewidth": 0,
              "ticks": ""
             }
            },
            "type": "scattermapbox"
           }
          ],
          "scatterpolar": [
           {
            "marker": {
             "colorbar": {
              "outlinewidth": 0,
              "ticks": ""
             }
            },
            "type": "scatterpolar"
           }
          ],
          "scatterpolargl": [
           {
            "marker": {
             "colorbar": {
              "outlinewidth": 0,
              "ticks": ""
             }
            },
            "type": "scatterpolargl"
           }
          ],
          "scatterternary": [
           {
            "marker": {
             "colorbar": {
              "outlinewidth": 0,
              "ticks": ""
             }
            },
            "type": "scatterternary"
           }
          ],
          "surface": [
           {
            "colorbar": {
             "outlinewidth": 0,
             "ticks": ""
            },
            "colorscale": [
             [
              0,
              "#0d0887"
             ],
             [
              0.1111111111111111,
              "#46039f"
             ],
             [
              0.2222222222222222,
              "#7201a8"
             ],
             [
              0.3333333333333333,
              "#9c179e"
             ],
             [
              0.4444444444444444,
              "#bd3786"
             ],
             [
              0.5555555555555556,
              "#d8576b"
             ],
             [
              0.6666666666666666,
              "#ed7953"
             ],
             [
              0.7777777777777778,
              "#fb9f3a"
             ],
             [
              0.8888888888888888,
              "#fdca26"
             ],
             [
              1,
              "#f0f921"
             ]
            ],
            "type": "surface"
           }
          ],
          "table": [
           {
            "cells": {
             "fill": {
              "color": "#EBF0F8"
             },
             "line": {
              "color": "white"
             }
            },
            "header": {
             "fill": {
              "color": "#C8D4E3"
             },
             "line": {
              "color": "white"
             }
            },
            "type": "table"
           }
          ]
         },
         "layout": {
          "annotationdefaults": {
           "arrowcolor": "#2a3f5f",
           "arrowhead": 0,
           "arrowwidth": 1
          },
          "autotypenumbers": "strict",
          "coloraxis": {
           "colorbar": {
            "outlinewidth": 0,
            "ticks": ""
           }
          },
          "colorscale": {
           "diverging": [
            [
             0,
             "#8e0152"
            ],
            [
             0.1,
             "#c51b7d"
            ],
            [
             0.2,
             "#de77ae"
            ],
            [
             0.3,
             "#f1b6da"
            ],
            [
             0.4,
             "#fde0ef"
            ],
            [
             0.5,
             "#f7f7f7"
            ],
            [
             0.6,
             "#e6f5d0"
            ],
            [
             0.7,
             "#b8e186"
            ],
            [
             0.8,
             "#7fbc41"
            ],
            [
             0.9,
             "#4d9221"
            ],
            [
             1,
             "#276419"
            ]
           ],
           "sequential": [
            [
             0,
             "#0d0887"
            ],
            [
             0.1111111111111111,
             "#46039f"
            ],
            [
             0.2222222222222222,
             "#7201a8"
            ],
            [
             0.3333333333333333,
             "#9c179e"
            ],
            [
             0.4444444444444444,
             "#bd3786"
            ],
            [
             0.5555555555555556,
             "#d8576b"
            ],
            [
             0.6666666666666666,
             "#ed7953"
            ],
            [
             0.7777777777777778,
             "#fb9f3a"
            ],
            [
             0.8888888888888888,
             "#fdca26"
            ],
            [
             1,
             "#f0f921"
            ]
           ],
           "sequentialminus": [
            [
             0,
             "#0d0887"
            ],
            [
             0.1111111111111111,
             "#46039f"
            ],
            [
             0.2222222222222222,
             "#7201a8"
            ],
            [
             0.3333333333333333,
             "#9c179e"
            ],
            [
             0.4444444444444444,
             "#bd3786"
            ],
            [
             0.5555555555555556,
             "#d8576b"
            ],
            [
             0.6666666666666666,
             "#ed7953"
            ],
            [
             0.7777777777777778,
             "#fb9f3a"
            ],
            [
             0.8888888888888888,
             "#fdca26"
            ],
            [
             1,
             "#f0f921"
            ]
           ]
          },
          "colorway": [
           "#636efa",
           "#EF553B",
           "#00cc96",
           "#ab63fa",
           "#FFA15A",
           "#19d3f3",
           "#FF6692",
           "#B6E880",
           "#FF97FF",
           "#FECB52"
          ],
          "font": {
           "color": "#2a3f5f"
          },
          "geo": {
           "bgcolor": "white",
           "lakecolor": "white",
           "landcolor": "#E5ECF6",
           "showlakes": true,
           "showland": true,
           "subunitcolor": "white"
          },
          "hoverlabel": {
           "align": "left"
          },
          "hovermode": "closest",
          "mapbox": {
           "style": "light"
          },
          "paper_bgcolor": "white",
          "plot_bgcolor": "#E5ECF6",
          "polar": {
           "angularaxis": {
            "gridcolor": "white",
            "linecolor": "white",
            "ticks": ""
           },
           "bgcolor": "#E5ECF6",
           "radialaxis": {
            "gridcolor": "white",
            "linecolor": "white",
            "ticks": ""
           }
          },
          "scene": {
           "xaxis": {
            "backgroundcolor": "#E5ECF6",
            "gridcolor": "white",
            "gridwidth": 2,
            "linecolor": "white",
            "showbackground": true,
            "ticks": "",
            "zerolinecolor": "white"
           },
           "yaxis": {
            "backgroundcolor": "#E5ECF6",
            "gridcolor": "white",
            "gridwidth": 2,
            "linecolor": "white",
            "showbackground": true,
            "ticks": "",
            "zerolinecolor": "white"
           },
           "zaxis": {
            "backgroundcolor": "#E5ECF6",
            "gridcolor": "white",
            "gridwidth": 2,
            "linecolor": "white",
            "showbackground": true,
            "ticks": "",
            "zerolinecolor": "white"
           }
          },
          "shapedefaults": {
           "line": {
            "color": "#2a3f5f"
           }
          },
          "ternary": {
           "aaxis": {
            "gridcolor": "white",
            "linecolor": "white",
            "ticks": ""
           },
           "baxis": {
            "gridcolor": "white",
            "linecolor": "white",
            "ticks": ""
           },
           "bgcolor": "#E5ECF6",
           "caxis": {
            "gridcolor": "white",
            "linecolor": "white",
            "ticks": ""
           }
          },
          "title": {
           "x": 0.05
          },
          "xaxis": {
           "automargin": true,
           "gridcolor": "white",
           "linecolor": "white",
           "ticks": "",
           "title": {
            "standoff": 15
           },
           "zerolinecolor": "white",
           "zerolinewidth": 2
          },
          "yaxis": {
           "automargin": true,
           "gridcolor": "white",
           "linecolor": "white",
           "ticks": "",
           "title": {
            "standoff": 15
           },
           "zerolinecolor": "white",
           "zerolinewidth": 2
          }
         }
        },
        "title": {
         "text": "Boxplot of Market Cap"
        },
        "xaxis": {
         "anchor": "y",
         "domain": [
          0,
          1
         ]
        },
        "yaxis": {
         "anchor": "x",
         "domain": [
          0,
          1
         ],
         "title": {
          "text": "Market Cap"
         }
        }
       }
      }
     },
     "metadata": {},
     "output_type": "display_data"
    },
    {
     "data": {
      "application/vnd.plotly.v1+json": {
       "config": {
        "plotlyServerURL": "https://plot.ly"
       },
       "data": [
        {
         "alignmentgroup": "True",
         "hovertemplate": "PE Ratio=%{y}<extra></extra>",
         "legendgroup": "",
         "marker": {
          "color": "#636efa"
         },
         "name": "",
         "notched": false,
         "offsetgroup": "",
         "orientation": "v",
         "showlegend": false,
         "type": "box",
         "x0": " ",
         "xaxis": "x",
         "y": [
          30.81,
          9.9,
          37.85,
          1.82,
          1.86,
          6.94,
          325.77,
          5.7,
          5.66,
          8.1,
          5.75,
          5.73,
          5.91,
          6.98,
          5.18,
          5.22,
          4.63,
          235.88,
          2.97,
          6.79,
          14.3,
          10.86,
          12.2,
          26.17,
          30.82,
          9.9,
          37.87,
          1.86,
          8.1,
          4.63,
          14.31,
          10.86,
          3.57,
          9.9,
          8.1,
          14.31,
          10.86,
          12.22,
          26.17,
          11.43,
          37.87,
          1.82,
          8.1,
          6.79,
          10.86,
          26.17,
          11.43,
          43.75,
          8.11,
          6.79,
          14.31,
          10.87,
          12.22,
          26.18,
          11.43,
          43.75,
          6.28,
          1.85,
          8.11,
          6.8,
          14.32,
          10.88,
          12.23,
          11.44,
          43.74,
          6.28,
          15.63,
          8.11,
          5.22,
          14.31,
          10.88,
          43.73,
          6.28,
          15.63,
          9.89,
          8.11,
          4.63,
          14.31,
          10.88,
          3.57,
          11.44,
          43.72,
          6.28,
          15.62,
          101.24,
          8.1,
          6.98,
          14.31,
          10.87,
          3.56,
          11.43,
          6.28,
          15.62,
          101.24,
          20.36,
          8.1,
          14.31,
          3.57,
          11.43,
          6.28,
          101.2,
          20.35,
          2.89,
          8.11,
          5.18,
          6.79,
          14.31,
          10.87,
          12.23,
          11.44,
          6.28,
          9.89,
          101.22,
          20.37,
          13.33,
          5.18,
          14.31,
          10.88,
          12.22,
          26.19,
          6.28,
          9.89,
          101.21,
          13.33,
          28.18,
          14.31,
          10.88,
          26.19,
          43.72,
          9.89,
          101.18,
          13.33,
          28.18,
          0.48,
          14.31,
          10.88,
          26.18,
          43.69,
          15.61,
          9.89,
          101.15,
          13.33,
          28.18,
          15.85,
          6.8,
          14.31,
          43.68,
          3.16,
          5.17,
          6.79,
          14.31,
          6.28,
          9.9,
          101.18,
          13.34,
          0.47,
          5.22,
          2.98,
          14.31,
          26.17,
          6.28,
          15.61,
          20.37,
          13.33,
          19.59,
          10.88,
          6.28,
          15.61,
          20.36,
          13.33,
          3.19,
          14.31,
          10.88,
          26.17,
          43.71,
          6.28,
          15.61,
          9.9,
          20.37,
          13.33,
          28.18,
          94.94,
          43.7,
          6.28,
          15.61,
          13.33,
          28.18,
          2.95,
          10.87,
          6.28,
          20.37,
          13.32,
          3.19,
          11.43,
          15.61,
          101.22,
          20.36,
          13.33,
          15.85,
          26.73,
          11.43,
          15.6,
          101.21,
          28.19,
          0.48,
          19.59,
          94.96,
          0.39,
          13.33,
          94.96,
          0.4,
          11.43,
          15.6,
          101.23,
          13.34,
          94.99,
          35.28,
          11.43,
          15.61,
          13.33,
          28.19,
          15.85,
          35.28,
          3.78,
          11.43,
          6.28,
          101.23,
          20.36,
          13.33,
          28.19,
          94.96,
          35.26,
          2.6,
          6.28,
          15.61,
          9.89,
          101.23,
          15.85,
          3.19,
          94.98,
          35.28,
          4.81,
          6.28,
          13.34,
          3.19,
          95.04,
          35.28,
          26.75,
          15.61,
          9.9,
          101.37,
          20.35,
          13.35,
          28.19,
          15.86,
          19.6,
          95.04,
          35.3,
          26.75,
          23.67,
          13.35,
          15.86,
          19.6,
          95.04,
          35.3,
          23.66,
          41.83,
          101.4,
          20.36,
          13.36,
          15.87,
          95.07,
          35.3,
          23.67,
          41.85,
          9.08,
          20.35,
          13.35,
          28.19,
          15.87,
          95.07,
          35.31,
          26.75,
          23.67,
          41.85,
          9.88,
          13.35,
          28.18,
          15.86,
          95.03,
          26.74,
          23.65,
          41.83,
          41.47,
          0.48,
          95.04,
          35.3,
          23.65,
          9.88,
          41.47,
          9.13,
          0.47,
          95.02,
          35.29,
          9.87,
          9.13,
          5.86,
          0.48,
          15.85,
          95.01,
          26.73,
          0.4,
          35.27,
          23.66,
          41.47,
          15.85,
          3.16,
          95.04,
          2.96,
          35.27,
          23.66,
          41.83,
          9.87,
          41.47,
          9.12,
          9.02,
          95.06,
          23.67,
          41.84,
          41.48,
          9,
          95.09,
          35.29,
          23.66,
          25.49,
          0.4,
          35.29,
          2.6,
          26.74,
          41.48,
          25.48,
          11.01,
          95.06,
          26.75,
          0.4,
          35.28,
          26.74,
          41.48,
          9.02,
          25.48,
          11.02,
          40.14,
          26.71,
          26.74,
          23.66,
          41.81,
          9.08,
          9.87,
          9.13,
          5.86,
          9.03,
          25.47,
          11.02,
          16.47,
          35.26,
          26.74,
          23.65,
          41.81,
          9.07,
          9.87,
          5.86,
          25.46,
          11.01,
          16.49,
          7.93,
          35.21,
          41.8,
          40.14,
          7.92,
          7.69,
          35.21,
          23.65,
          25.46,
          40.12,
          7.93,
          7.69,
          2.15,
          23.64,
          41.82,
          41.48,
          25.45,
          40.12,
          7.94,
          7.69,
          5.97,
          35.2,
          23.65,
          41.47,
          9.13,
          9.02,
          25.44,
          40.11,
          7.94,
          7.7,
          5.97,
          2.82,
          35.2,
          23.64,
          41.81,
          9.87,
          41.47,
          9.12,
          25.44,
          7.7,
          5.97,
          3.05,
          41.81,
          41.49,
          9.12,
          5.86,
          25.43,
          7.94,
          7.7,
          5.97,
          15.5
         ],
         "y0": " ",
         "yaxis": "y"
        }
       ],
       "layout": {
        "boxmode": "group",
        "legend": {
         "tracegroupgap": 0
        },
        "template": {
         "data": {
          "bar": [
           {
            "error_x": {
             "color": "#2a3f5f"
            },
            "error_y": {
             "color": "#2a3f5f"
            },
            "marker": {
             "line": {
              "color": "#E5ECF6",
              "width": 0.5
             },
             "pattern": {
              "fillmode": "overlay",
              "size": 10,
              "solidity": 0.2
             }
            },
            "type": "bar"
           }
          ],
          "barpolar": [
           {
            "marker": {
             "line": {
              "color": "#E5ECF6",
              "width": 0.5
             },
             "pattern": {
              "fillmode": "overlay",
              "size": 10,
              "solidity": 0.2
             }
            },
            "type": "barpolar"
           }
          ],
          "carpet": [
           {
            "aaxis": {
             "endlinecolor": "#2a3f5f",
             "gridcolor": "white",
             "linecolor": "white",
             "minorgridcolor": "white",
             "startlinecolor": "#2a3f5f"
            },
            "baxis": {
             "endlinecolor": "#2a3f5f",
             "gridcolor": "white",
             "linecolor": "white",
             "minorgridcolor": "white",
             "startlinecolor": "#2a3f5f"
            },
            "type": "carpet"
           }
          ],
          "choropleth": [
           {
            "colorbar": {
             "outlinewidth": 0,
             "ticks": ""
            },
            "type": "choropleth"
           }
          ],
          "contour": [
           {
            "colorbar": {
             "outlinewidth": 0,
             "ticks": ""
            },
            "colorscale": [
             [
              0,
              "#0d0887"
             ],
             [
              0.1111111111111111,
              "#46039f"
             ],
             [
              0.2222222222222222,
              "#7201a8"
             ],
             [
              0.3333333333333333,
              "#9c179e"
             ],
             [
              0.4444444444444444,
              "#bd3786"
             ],
             [
              0.5555555555555556,
              "#d8576b"
             ],
             [
              0.6666666666666666,
              "#ed7953"
             ],
             [
              0.7777777777777778,
              "#fb9f3a"
             ],
             [
              0.8888888888888888,
              "#fdca26"
             ],
             [
              1,
              "#f0f921"
             ]
            ],
            "type": "contour"
           }
          ],
          "contourcarpet": [
           {
            "colorbar": {
             "outlinewidth": 0,
             "ticks": ""
            },
            "type": "contourcarpet"
           }
          ],
          "heatmap": [
           {
            "colorbar": {
             "outlinewidth": 0,
             "ticks": ""
            },
            "colorscale": [
             [
              0,
              "#0d0887"
             ],
             [
              0.1111111111111111,
              "#46039f"
             ],
             [
              0.2222222222222222,
              "#7201a8"
             ],
             [
              0.3333333333333333,
              "#9c179e"
             ],
             [
              0.4444444444444444,
              "#bd3786"
             ],
             [
              0.5555555555555556,
              "#d8576b"
             ],
             [
              0.6666666666666666,
              "#ed7953"
             ],
             [
              0.7777777777777778,
              "#fb9f3a"
             ],
             [
              0.8888888888888888,
              "#fdca26"
             ],
             [
              1,
              "#f0f921"
             ]
            ],
            "type": "heatmap"
           }
          ],
          "heatmapgl": [
           {
            "colorbar": {
             "outlinewidth": 0,
             "ticks": ""
            },
            "colorscale": [
             [
              0,
              "#0d0887"
             ],
             [
              0.1111111111111111,
              "#46039f"
             ],
             [
              0.2222222222222222,
              "#7201a8"
             ],
             [
              0.3333333333333333,
              "#9c179e"
             ],
             [
              0.4444444444444444,
              "#bd3786"
             ],
             [
              0.5555555555555556,
              "#d8576b"
             ],
             [
              0.6666666666666666,
              "#ed7953"
             ],
             [
              0.7777777777777778,
              "#fb9f3a"
             ],
             [
              0.8888888888888888,
              "#fdca26"
             ],
             [
              1,
              "#f0f921"
             ]
            ],
            "type": "heatmapgl"
           }
          ],
          "histogram": [
           {
            "marker": {
             "pattern": {
              "fillmode": "overlay",
              "size": 10,
              "solidity": 0.2
             }
            },
            "type": "histogram"
           }
          ],
          "histogram2d": [
           {
            "colorbar": {
             "outlinewidth": 0,
             "ticks": ""
            },
            "colorscale": [
             [
              0,
              "#0d0887"
             ],
             [
              0.1111111111111111,
              "#46039f"
             ],
             [
              0.2222222222222222,
              "#7201a8"
             ],
             [
              0.3333333333333333,
              "#9c179e"
             ],
             [
              0.4444444444444444,
              "#bd3786"
             ],
             [
              0.5555555555555556,
              "#d8576b"
             ],
             [
              0.6666666666666666,
              "#ed7953"
             ],
             [
              0.7777777777777778,
              "#fb9f3a"
             ],
             [
              0.8888888888888888,
              "#fdca26"
             ],
             [
              1,
              "#f0f921"
             ]
            ],
            "type": "histogram2d"
           }
          ],
          "histogram2dcontour": [
           {
            "colorbar": {
             "outlinewidth": 0,
             "ticks": ""
            },
            "colorscale": [
             [
              0,
              "#0d0887"
             ],
             [
              0.1111111111111111,
              "#46039f"
             ],
             [
              0.2222222222222222,
              "#7201a8"
             ],
             [
              0.3333333333333333,
              "#9c179e"
             ],
             [
              0.4444444444444444,
              "#bd3786"
             ],
             [
              0.5555555555555556,
              "#d8576b"
             ],
             [
              0.6666666666666666,
              "#ed7953"
             ],
             [
              0.7777777777777778,
              "#fb9f3a"
             ],
             [
              0.8888888888888888,
              "#fdca26"
             ],
             [
              1,
              "#f0f921"
             ]
            ],
            "type": "histogram2dcontour"
           }
          ],
          "mesh3d": [
           {
            "colorbar": {
             "outlinewidth": 0,
             "ticks": ""
            },
            "type": "mesh3d"
           }
          ],
          "parcoords": [
           {
            "line": {
             "colorbar": {
              "outlinewidth": 0,
              "ticks": ""
             }
            },
            "type": "parcoords"
           }
          ],
          "pie": [
           {
            "automargin": true,
            "type": "pie"
           }
          ],
          "scatter": [
           {
            "fillpattern": {
             "fillmode": "overlay",
             "size": 10,
             "solidity": 0.2
            },
            "type": "scatter"
           }
          ],
          "scatter3d": [
           {
            "line": {
             "colorbar": {
              "outlinewidth": 0,
              "ticks": ""
             }
            },
            "marker": {
             "colorbar": {
              "outlinewidth": 0,
              "ticks": ""
             }
            },
            "type": "scatter3d"
           }
          ],
          "scattercarpet": [
           {
            "marker": {
             "colorbar": {
              "outlinewidth": 0,
              "ticks": ""
             }
            },
            "type": "scattercarpet"
           }
          ],
          "scattergeo": [
           {
            "marker": {
             "colorbar": {
              "outlinewidth": 0,
              "ticks": ""
             }
            },
            "type": "scattergeo"
           }
          ],
          "scattergl": [
           {
            "marker": {
             "colorbar": {
              "outlinewidth": 0,
              "ticks": ""
             }
            },
            "type": "scattergl"
           }
          ],
          "scattermapbox": [
           {
            "marker": {
             "colorbar": {
              "outlinewidth": 0,
              "ticks": ""
             }
            },
            "type": "scattermapbox"
           }
          ],
          "scatterpolar": [
           {
            "marker": {
             "colorbar": {
              "outlinewidth": 0,
              "ticks": ""
             }
            },
            "type": "scatterpolar"
           }
          ],
          "scatterpolargl": [
           {
            "marker": {
             "colorbar": {
              "outlinewidth": 0,
              "ticks": ""
             }
            },
            "type": "scatterpolargl"
           }
          ],
          "scatterternary": [
           {
            "marker": {
             "colorbar": {
              "outlinewidth": 0,
              "ticks": ""
             }
            },
            "type": "scatterternary"
           }
          ],
          "surface": [
           {
            "colorbar": {
             "outlinewidth": 0,
             "ticks": ""
            },
            "colorscale": [
             [
              0,
              "#0d0887"
             ],
             [
              0.1111111111111111,
              "#46039f"
             ],
             [
              0.2222222222222222,
              "#7201a8"
             ],
             [
              0.3333333333333333,
              "#9c179e"
             ],
             [
              0.4444444444444444,
              "#bd3786"
             ],
             [
              0.5555555555555556,
              "#d8576b"
             ],
             [
              0.6666666666666666,
              "#ed7953"
             ],
             [
              0.7777777777777778,
              "#fb9f3a"
             ],
             [
              0.8888888888888888,
              "#fdca26"
             ],
             [
              1,
              "#f0f921"
             ]
            ],
            "type": "surface"
           }
          ],
          "table": [
           {
            "cells": {
             "fill": {
              "color": "#EBF0F8"
             },
             "line": {
              "color": "white"
             }
            },
            "header": {
             "fill": {
              "color": "#C8D4E3"
             },
             "line": {
              "color": "white"
             }
            },
            "type": "table"
           }
          ]
         },
         "layout": {
          "annotationdefaults": {
           "arrowcolor": "#2a3f5f",
           "arrowhead": 0,
           "arrowwidth": 1
          },
          "autotypenumbers": "strict",
          "coloraxis": {
           "colorbar": {
            "outlinewidth": 0,
            "ticks": ""
           }
          },
          "colorscale": {
           "diverging": [
            [
             0,
             "#8e0152"
            ],
            [
             0.1,
             "#c51b7d"
            ],
            [
             0.2,
             "#de77ae"
            ],
            [
             0.3,
             "#f1b6da"
            ],
            [
             0.4,
             "#fde0ef"
            ],
            [
             0.5,
             "#f7f7f7"
            ],
            [
             0.6,
             "#e6f5d0"
            ],
            [
             0.7,
             "#b8e186"
            ],
            [
             0.8,
             "#7fbc41"
            ],
            [
             0.9,
             "#4d9221"
            ],
            [
             1,
             "#276419"
            ]
           ],
           "sequential": [
            [
             0,
             "#0d0887"
            ],
            [
             0.1111111111111111,
             "#46039f"
            ],
            [
             0.2222222222222222,
             "#7201a8"
            ],
            [
             0.3333333333333333,
             "#9c179e"
            ],
            [
             0.4444444444444444,
             "#bd3786"
            ],
            [
             0.5555555555555556,
             "#d8576b"
            ],
            [
             0.6666666666666666,
             "#ed7953"
            ],
            [
             0.7777777777777778,
             "#fb9f3a"
            ],
            [
             0.8888888888888888,
             "#fdca26"
            ],
            [
             1,
             "#f0f921"
            ]
           ],
           "sequentialminus": [
            [
             0,
             "#0d0887"
            ],
            [
             0.1111111111111111,
             "#46039f"
            ],
            [
             0.2222222222222222,
             "#7201a8"
            ],
            [
             0.3333333333333333,
             "#9c179e"
            ],
            [
             0.4444444444444444,
             "#bd3786"
            ],
            [
             0.5555555555555556,
             "#d8576b"
            ],
            [
             0.6666666666666666,
             "#ed7953"
            ],
            [
             0.7777777777777778,
             "#fb9f3a"
            ],
            [
             0.8888888888888888,
             "#fdca26"
            ],
            [
             1,
             "#f0f921"
            ]
           ]
          },
          "colorway": [
           "#636efa",
           "#EF553B",
           "#00cc96",
           "#ab63fa",
           "#FFA15A",
           "#19d3f3",
           "#FF6692",
           "#B6E880",
           "#FF97FF",
           "#FECB52"
          ],
          "font": {
           "color": "#2a3f5f"
          },
          "geo": {
           "bgcolor": "white",
           "lakecolor": "white",
           "landcolor": "#E5ECF6",
           "showlakes": true,
           "showland": true,
           "subunitcolor": "white"
          },
          "hoverlabel": {
           "align": "left"
          },
          "hovermode": "closest",
          "mapbox": {
           "style": "light"
          },
          "paper_bgcolor": "white",
          "plot_bgcolor": "#E5ECF6",
          "polar": {
           "angularaxis": {
            "gridcolor": "white",
            "linecolor": "white",
            "ticks": ""
           },
           "bgcolor": "#E5ECF6",
           "radialaxis": {
            "gridcolor": "white",
            "linecolor": "white",
            "ticks": ""
           }
          },
          "scene": {
           "xaxis": {
            "backgroundcolor": "#E5ECF6",
            "gridcolor": "white",
            "gridwidth": 2,
            "linecolor": "white",
            "showbackground": true,
            "ticks": "",
            "zerolinecolor": "white"
           },
           "yaxis": {
            "backgroundcolor": "#E5ECF6",
            "gridcolor": "white",
            "gridwidth": 2,
            "linecolor": "white",
            "showbackground": true,
            "ticks": "",
            "zerolinecolor": "white"
           },
           "zaxis": {
            "backgroundcolor": "#E5ECF6",
            "gridcolor": "white",
            "gridwidth": 2,
            "linecolor": "white",
            "showbackground": true,
            "ticks": "",
            "zerolinecolor": "white"
           }
          },
          "shapedefaults": {
           "line": {
            "color": "#2a3f5f"
           }
          },
          "ternary": {
           "aaxis": {
            "gridcolor": "white",
            "linecolor": "white",
            "ticks": ""
           },
           "baxis": {
            "gridcolor": "white",
            "linecolor": "white",
            "ticks": ""
           },
           "bgcolor": "#E5ECF6",
           "caxis": {
            "gridcolor": "white",
            "linecolor": "white",
            "ticks": ""
           }
          },
          "title": {
           "x": 0.05
          },
          "xaxis": {
           "automargin": true,
           "gridcolor": "white",
           "linecolor": "white",
           "ticks": "",
           "title": {
            "standoff": 15
           },
           "zerolinecolor": "white",
           "zerolinewidth": 2
          },
          "yaxis": {
           "automargin": true,
           "gridcolor": "white",
           "linecolor": "white",
           "ticks": "",
           "title": {
            "standoff": 15
           },
           "zerolinecolor": "white",
           "zerolinewidth": 2
          }
         }
        },
        "title": {
         "text": "Boxplot of PE Ratio"
        },
        "xaxis": {
         "anchor": "y",
         "domain": [
          0,
          1
         ]
        },
        "yaxis": {
         "anchor": "x",
         "domain": [
          0,
          1
         ],
         "title": {
          "text": "PE Ratio"
         }
        }
       }
      }
     },
     "metadata": {},
     "output_type": "display_data"
    }
   ],
   "source": [
    "# 4 Distributions of continuous variables / Outliers Continued\n",
    "# Boxplot for each continuous variable\n",
    "for col in cont_var:\n",
    "    fig = px.box(data, y=col, title=f'Boxplot of {col}')\n",
    "    fig.show()"
   ]
  },
  {
   "cell_type": "markdown",
   "metadata": {},
   "source": [
    "Boxplots Analysis:\n",
    "\n",
    "Price: The median price of the stocks are $62.13. The IQR is from $29.12 to $147.97. There is one outlier present at a stock price of $1,144.76. This indicates that while most stock prices are near each other, there is one very high stock price. I will keep this outlier in the dataset because it could be interesting to visualize in the final dashboard, and may be relevant to potentially invest in.\n",
    "\n",
    "Change: The median daily change is -0.03. The IQR is from -0.63 to 0.1125. There is an outlier of 8.97. This indicates that most of the changes in stock prices tend to be relatively small. Also, it indicates that on a daily basis, most of the stock prices decrease. The outlier means that there is an occurance where the daily change is extremely large. This is relevant because it could be the result of something important that happened to the company. Hence, I will keep the outlier in the dataset because it could be relevant for investing purposes. \n",
    "\n",
    "Market Cap: The median price of the market capitalization is $88.99B. The IQR is from $67.01B to $114.93B. There is an outlier of $483.44B. This indicates that most of the market capitalization values are of near the median price range. However, the outlier could represent a company that is very large, or has performed very well in industry. Therefore, it is very relevant to keep this, as this could be important for investing decisions. \n",
    "\n",
    "PE Ratio: The median PE Ratio is 14.31. The IQR is from 8.12 to 28.18. There is an outlier of 325.77. This indicates that most of the companies in the dataset have a moderate price to earning ratio. The outlier could represent a company with overvaluation. This is likely in the case that it is the same outlier with a high price. Therefore, it is relevant to keep this outlier, as it could allow the user to make an informed investment decision."
   ]
  },
  {
   "cell_type": "code",
   "execution_count": 29,
   "metadata": {},
   "outputs": [
    {
     "data": {
      "text/html": [
       "<div>\n",
       "<style scoped>\n",
       "    .dataframe tbody tr th:only-of-type {\n",
       "        vertical-align: middle;\n",
       "    }\n",
       "\n",
       "    .dataframe tbody tr th {\n",
       "        vertical-align: top;\n",
       "    }\n",
       "\n",
       "    .dataframe thead th {\n",
       "        text-align: right;\n",
       "    }\n",
       "</style>\n",
       "<table border=\"1\" class=\"dataframe\">\n",
       "  <thead>\n",
       "    <tr style=\"text-align: right;\">\n",
       "      <th></th>\n",
       "      <th>Price</th>\n",
       "      <th>Change</th>\n",
       "      <th>Market Cap</th>\n",
       "      <th>PE Ratio</th>\n",
       "    </tr>\n",
       "  </thead>\n",
       "  <tbody>\n",
       "    <tr>\n",
       "      <th>count</th>\n",
       "      <td>425.000000</td>\n",
       "      <td>425.000000</td>\n",
       "      <td>4.250000e+02</td>\n",
       "      <td>425.000000</td>\n",
       "    </tr>\n",
       "    <tr>\n",
       "      <th>mean</th>\n",
       "      <td>123.252400</td>\n",
       "      <td>-0.042588</td>\n",
       "      <td>1.047991e+11</td>\n",
       "      <td>24.782424</td>\n",
       "    </tr>\n",
       "    <tr>\n",
       "      <th>std</th>\n",
       "      <td>149.849441</td>\n",
       "      <td>1.753898</td>\n",
       "      <td>6.548684e+10</td>\n",
       "      <td>30.594708</td>\n",
       "    </tr>\n",
       "    <tr>\n",
       "      <th>min</th>\n",
       "      <td>5.410000</td>\n",
       "      <td>-3.180000</td>\n",
       "      <td>0.000000e+00</td>\n",
       "      <td>0.390000</td>\n",
       "    </tr>\n",
       "    <tr>\n",
       "      <th>25%</th>\n",
       "      <td>29.120000</td>\n",
       "      <td>-0.630000</td>\n",
       "      <td>6.700800e+10</td>\n",
       "      <td>8.110000</td>\n",
       "    </tr>\n",
       "    <tr>\n",
       "      <th>50%</th>\n",
       "      <td>62.130000</td>\n",
       "      <td>-0.030000</td>\n",
       "      <td>8.899000e+10</td>\n",
       "      <td>14.310000</td>\n",
       "    </tr>\n",
       "    <tr>\n",
       "      <th>75%</th>\n",
       "      <td>147.970000</td>\n",
       "      <td>0.110000</td>\n",
       "      <td>1.149230e+11</td>\n",
       "      <td>28.180000</td>\n",
       "    </tr>\n",
       "    <tr>\n",
       "      <th>max</th>\n",
       "      <td>1144.760000</td>\n",
       "      <td>8.970000</td>\n",
       "      <td>4.834400e+11</td>\n",
       "      <td>325.770000</td>\n",
       "    </tr>\n",
       "  </tbody>\n",
       "</table>\n",
       "</div>"
      ],
      "text/plain": [
       "             Price      Change    Market Cap    PE Ratio\n",
       "count   425.000000  425.000000  4.250000e+02  425.000000\n",
       "mean    123.252400   -0.042588  1.047991e+11   24.782424\n",
       "std     149.849441    1.753898  6.548684e+10   30.594708\n",
       "min       5.410000   -3.180000  0.000000e+00    0.390000\n",
       "25%      29.120000   -0.630000  6.700800e+10    8.110000\n",
       "50%      62.130000   -0.030000  8.899000e+10   14.310000\n",
       "75%     147.970000    0.110000  1.149230e+11   28.180000\n",
       "max    1144.760000    8.970000  4.834400e+11  325.770000"
      ]
     },
     "execution_count": 29,
     "metadata": {},
     "output_type": "execute_result"
    }
   ],
   "source": [
    "# 5 Describe\n",
    "data.describe()"
   ]
  },
  {
   "cell_type": "markdown",
   "metadata": {},
   "source": [
    "Price: The average price is approximately $123.25. The prices of the stocks typically range from $5.41 to $1144.76.\n",
    "The standard deviation is relatively high at $149.85, which indicates significant variability in prices.\n",
    "\n",
    "Change: The average change is approximately -0.04. The daily changes of the stocks typically range from -3.18 to 8.97.\n",
    "The standard deviation is relatively high at 1.75, which indicates significant variability in changes.\n",
    "\n",
    "Market Cap: The average market capitalization is approximately $104.80B. The market capitalizations of the companies typically range from $0 to $483B.\n",
    "The standard deviation is relatively high at $65.49B, which indicates significant variability in market capitalizations.\n",
    "\n",
    "PE Ratio: The average PE ratio is approximately 24.78. The PE ratios of the companies typically range from 0.39 to 325.77. The standard deviation is relatively high at 30.59, which indicates a significant variability in PE ratios.\n"
   ]
  },
  {
   "cell_type": "code",
   "execution_count": 30,
   "metadata": {},
   "outputs": [
    {
     "name": "stdout",
     "output_type": "stream",
     "text": [
      "               Price    Change  Market Cap  PE Ratio\n",
      "Price       1.000000  0.438106   -0.019577  0.409366\n",
      "Change      0.438106  1.000000   -0.081545 -0.010512\n",
      "Market Cap -0.019577 -0.081545    1.000000 -0.140102\n",
      "PE Ratio    0.409366 -0.010512   -0.140102  1.000000\n"
     ]
    }
   ],
   "source": [
    "# 6 Correlation\n",
    "num_data = data.select_dtypes(include='number')\n",
    "corr_mat = num_data.corr()\n",
    "\n",
    "print(corr_mat)\n"
   ]
  },
  {
   "cell_type": "markdown",
   "metadata": {},
   "source": [
    "Correlations:\n",
    "\n",
    "Price vs Change: 0.44 is moderately positive which indicates a positive correlation. As the stock price increases, the daily change is also likely to increase. \n",
    "\n",
    "Price vs Market Cap: -0.0195 is negative but close to 0, indicating that there is not a particularly strong correlation between the two variables.\n",
    "\n",
    "Price vs PE Ratio: 0.409 is moderately positive which indicates a positive correlation. As the stock price increases, the PE Ratio is also likely to increase.\n",
    "\n",
    "Change vs Market Cap: -0.0815 is negative and indicates a potential slight negative correlation. As companies with larger market capitalizations increase, daily price changes may slightly decrease.\n",
    "\n",
    "Change vs PE Ratio: -0.0105 is negative but close to 0, indicating that there is not a particularly strong correlation between the two variables.\n",
    "\n",
    "Market Cap vs. PE Ratio: -0.14 is negative and indicates a negative correlation. As companies with larger market capitalizations increase, the PE Ratios decrease, meaning their valuations go down. \n",
    "\n",
    "Note that these are correlations. Many of these variables may reveal important information when further visualized. \n",
    "\n"
   ]
  },
  {
   "cell_type": "markdown",
   "metadata": {},
   "source": [
    "It is clear stocks and investments can be risky. Looking at multiple variables, correlations, trends, and patterns are necessary to make well-informed decisions about which stocks to invest in. We can thus utilize this exploratory data analysis to further display interesting and signficant visualizations."
   ]
  },
  {
   "cell_type": "markdown",
   "metadata": {},
   "source": [
    "## 4. Data Dictionary\n",
    "\n",
    "| Column # | Variable    | Description                          | Data Type | Units of Measurement |\n",
    "|----------|-------------|--------------------------------------|-----------|----------------------|\n",
    "| 1        | Symbol      | The ticker symbol of the company's stock.                  | Categorical | N/A |\n",
    "| 2        | Name        | The name of the company.                         | Categorical | N/A |\n",
    "| 3        | Price       | The most recent trading price of the company's stock.           | Numeric | USD (per share) |\n",
    "| 4        | Change      | The change in the stock price from the previous trading day's closing price.                | Numeric | USD (per share) |\n",
    "| 5        | Market Cap  | The market capitalization of the company. This is the total value of all outstanding shares of the company's stock. | Numeric | USD (in billions) |\n",
    "| 6        | PE Ratio    | The price-to-earnings ratio of the company. This is a measure of the stock's valuation relative to its earnings per share.  | Numeric | N/A |\n"
   ]
  },
  {
   "cell_type": "markdown",
   "metadata": {},
   "source": [
    "# 5. List of Potential UI Components:\n",
    "1. Multi-select dropdown Menu for Name\n",
    "2. Multi-select dropdown menu for Symbol\n",
    "3. Slider for Price\n",
    "4. Grid layout that each has separate functionalities\n",
    "5. Range slider for Market Capitalization\n",
    "6. Tooltips on Market Cap and PE Ratio\n",
    "7. Radio buttons for different filters like Symbol/Name\n",
    "8. Interactive table of top 5 most recommended stocks with relevant financial info\n",
    "9. Interactive table of top 5 least recommended stocks with relevant financial info"
   ]
  },
  {
   "cell_type": "markdown",
   "metadata": {},
   "source": [
    "# 6. List of Potential Data Visualizations\n",
    "1. Scatter plot of Price vs. Market Capitalization with the option to filter by price range.\n",
    "2. Histogram of PE Ratio distribution with the option to filter by a range of market capitalization values.\n",
    "3. Grouped bar chart of Price, Change, and PE Ratio, and allow the user to choose by company name/symbol.\n",
    "4. Scatter plot of Change vs. PE Ratio and allow the user to filter by a price range.\n",
    "5. Bubble chart of Price vs. Market Capitalization and the size of the bubble could be based on change.\n",
    "6. Bubble chart of Market Capitalization vs. PE Ratio and the size of the bubble is based on price."
   ]
  },
  {
   "cell_type": "code",
   "execution_count": 31,
   "metadata": {},
   "outputs": [],
   "source": [
    "# Save the new data file to csv\n",
    "data.to_csv('data.csv', index=False)\n"
   ]
  }
 ],
 "metadata": {
  "kernelspec": {
   "display_name": "ds4003",
   "language": "python",
   "name": "python3"
  },
  "language_info": {
   "codemirror_mode": {
    "name": "ipython",
    "version": 3
   },
   "file_extension": ".py",
   "mimetype": "text/x-python",
   "name": "python",
   "nbconvert_exporter": "python",
   "pygments_lexer": "ipython3",
   "version": "3.8.18"
  }
 },
 "nbformat": 4,
 "nbformat_minor": 2
}
